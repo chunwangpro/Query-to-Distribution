{
 "cells": [
  {
   "cell_type": "code",
   "execution_count": null,
   "metadata": {},
   "outputs": [],
   "source": [
    "优化fun的for循环\n",
    "优化query constraints里的itertool.product方法的for循环\n",
    "减少列数\n",
    "尝试multiprocessing、joblib\n",
    "尝试pulp、OSQP（C++）"
   ]
  },
  {
   "cell_type": "code",
   "execution_count": 83,
   "metadata": {},
   "outputs": [],
   "source": [
    "import argparse\n",
    "import time\n",
    "import numpy as np\n",
    "import itertools\n",
    "import datasets\n",
    "import pandas as pd\n",
    "import estimators as estimators_lib\n",
    "\n",
    "# added by LPALG\n",
    "import sys\n",
    "# import numpy as np\n",
    "# import scipy as sc\n",
    "# import pandas as pd\n",
    "# import itertools\n",
    "from scipy import optimize\n",
    "from copy import deepcopy\n",
    "from scipy.sparse import csr_matrix"
   ]
  },
  {
   "cell_type": "code",
   "execution_count": 84,
   "metadata": {},
   "outputs": [],
   "source": [
    "def Oracle(table, query):\n",
    "    cols, idxs, ops, vals = query\n",
    "    oracle_est = estimators_lib.Oracle(table)\n",
    "    return oracle_est.Query(cols, ops, vals)"
   ]
  },
  {
   "cell_type": "code",
   "execution_count": 85,
   "metadata": {},
   "outputs": [],
   "source": [
    "def cal_true_card(query, table):\n",
    "    cols, idxs, ops, vals = query\n",
    "    ops = np.array(ops)\n",
    "    probs = Oracle(table, (cols, idxs, ops, vals))\n",
    "    return probs"
   ]
  },
  {
   "cell_type": "code",
   "execution_count": 86,
   "metadata": {},
   "outputs": [],
   "source": [
    "def GenerateQuery(table, min_num_filters, max_num_filters, rng, dataset):\n",
    "    \"\"\"Generate a random query.\"\"\"\n",
    "    num_filters = rng.randint(max_num_filters - 1, max_num_filters)\n",
    "    cols, idxs, ops, vals = SampleTupleThenRandom(table, num_filters, rng,\n",
    "                                                  dataset)\n",
    "    sel = cal_true_card(\n",
    "        (cols, idxs, ops, vals), table) / float(table.cardinality)\n",
    "    return cols, idxs, ops, vals, sel"
   ]
  },
  {
   "cell_type": "code",
   "execution_count": 87,
   "metadata": {},
   "outputs": [],
   "source": [
    "def SampleTupleThenRandom(table, num_filters, rng, dataset):\n",
    "    vals = []\n",
    "    new_table = table.data\n",
    "    s = new_table.iloc[rng.randint(0, new_table.shape[0])]\n",
    "    vals = s.values\n",
    "    if dataset in ['dmv', 'dmv-tiny', 'order_line']:\n",
    "        vals[6] = vals[6].to_datetime64()\n",
    "    elif dataset in ['orders1', 'orders']:\n",
    "        vals[4] = vals[4].to_datetime64()\n",
    "    elif dataset == 'lineitem':\n",
    "        vals[10] = vals[10].to_datetime64()\n",
    "        vals[11] = vals[11].to_datetime64()\n",
    "        vals[12] = vals[12].to_datetime64()\n",
    "    idxs = rng.choice(len(table.columns), replace=False, size=num_filters)\n",
    "    cols = np.take(table.columns, idxs)\n",
    "    # If dom size >= 10, okay to place a range filter.\n",
    "    # Otherwise, low domain size columns should be queried with equality.\n",
    "    ops = rng.choice(['<=', '>=', '='], size=num_filters)\n",
    "    ops_all_eqs = ['='] * num_filters\n",
    "    sensible_to_do_range = [c.DistributionSize() >= 10 for c in cols]\n",
    "    ops = np.where(sensible_to_do_range, ops, ops_all_eqs)\n",
    "    # if num_filters == len(table.columns):\n",
    "    #     return table.columns,np.arange(len(table.columns)), ops, vals\n",
    "    vals = vals[idxs]\n",
    "    op_a = []\n",
    "    val_a = []\n",
    "    for i in range(len(vals)):\n",
    "        val_a.append([vals[i]])\n",
    "        op_a.append([ops[i]])\n",
    "    return cols, idxs, pd.DataFrame(op_a).values, pd.DataFrame(val_a).values"
   ]
  },
  {
   "cell_type": "code",
   "execution_count": 88,
   "metadata": {
    "scrolled": true
   },
   "outputs": [],
   "source": [
    "def dictionary_column_interval(table_size, query_set):\n",
    "    n_column = table_size[1]\n",
    "    column_interval = {}\n",
    "    for i in range(n_column):\n",
    "        column_interval[i] = set([0])  # set([0, sys.maxsize])\n",
    "    for query in query_set:\n",
    "        col_idxs = query[1]\n",
    "        vals = query[3]\n",
    "        for i in range(len(col_idxs)):\n",
    "            column_interval[col_idxs[i]].add(vals[i][0])\n",
    "    for k, v in column_interval.items():\n",
    "        column_interval[k] = sorted(list(v))\n",
    "    return column_interval"
   ]
  },
  {
   "cell_type": "code",
   "execution_count": 89,
   "metadata": {},
   "outputs": [],
   "source": [
    "def dictionary_column_variable(column_to_interval):\n",
    "    total_variables = 0\n",
    "    column_to_variable = {}\n",
    "    column_variable_number = []\n",
    "    for k, v in column_to_interval.items():\n",
    "        count = len(v)\n",
    "        column_to_variable[k] = [total_variables + i for i in range(count)]\n",
    "        total_variables += count\n",
    "        column_variable_number.append(count)\n",
    "    return total_variables, column_variable_number, column_to_variable"
   ]
  },
  {
   "cell_type": "code",
   "execution_count": 90,
   "metadata": {},
   "outputs": [],
   "source": [
    "def dictionary_variable_interval(column_to_interval, column_to_variable):\n",
    "    variable_to_interval = {}\n",
    "    for column, variable in column_to_variable.items():\n",
    "        for i in range(len(variable)):\n",
    "            variable_to_interval[variable[i]] = column_to_interval[column][i]\n",
    "    return variable_to_interval"
   ]
  },
  {
   "cell_type": "code",
   "execution_count": 91,
   "metadata": {},
   "outputs": [],
   "source": [
    "def op_to_variables(column_to_variable, column, x_index, op):\n",
    "    variable = np.array(column_to_variable[column])\n",
    "    if op == '>':\n",
    "        return list(variable[x_index:])  # list(variable[x_index + 1:])\n",
    "    elif op == '>=':\n",
    "        return list(variable[x_index:])\n",
    "    elif op == '=':\n",
    "        return [variable[x_index]]\n",
    "    elif op == '<':\n",
    "        return list(variable[:x_index])\n",
    "    elif op == '<=':\n",
    "        return list(variable[:x_index + 1])"
   ]
  },
  {
   "cell_type": "code",
   "execution_count": 92,
   "metadata": {},
   "outputs": [],
   "source": [
    "def dictionary_query_to_variable(query_set, column_to_interval,\n",
    "                                 column_to_variable):\n",
    "    query_to_variable = {}\n",
    "    for i in range(len(query_set)):\n",
    "        col_idxs = query_set[i][1]\n",
    "        ops = query_set[i][2]\n",
    "        vals = query_set[i][3]\n",
    "        query_to_variable[i] = []\n",
    "        for j in range(len(col_idxs)):\n",
    "            column = col_idxs[j]\n",
    "            x_index = column_to_interval[column].index(vals[j][0])\n",
    "            query_to_variable[i].append(\n",
    "                op_to_variables(column_to_variable, column, x_index,\n",
    "                                ops[j][0]))\n",
    "    return query_to_variable"
   ]
  },
  {
   "cell_type": "code",
   "execution_count": 93,
   "metadata": {},
   "outputs": [],
   "source": [
    "def dictionary_query_to_x_index(query_set, query_to_variable, column_to_variable):\n",
    "    query_to_x_index = {}\n",
    "    for i in range(len(query_set)):\n",
    "        col_idxs = query_set[i][1]\n",
    "        query_to_x_index[i] = [[] for i in range(n_column)]\n",
    "        for j in range(len(col_idxs)):\n",
    "            column = col_idxs[j]\n",
    "            variable = query_to_variable[i][j]\n",
    "            for k in variable:\n",
    "                x_index = column_to_variable[column].index(k)\n",
    "                query_to_x_index[i][column].append(x_index)\n",
    "    return query_to_x_index"
   ]
  },
  {
   "cell_type": "code",
   "execution_count": 94,
   "metadata": {},
   "outputs": [],
   "source": [
    "def transfer_x_index(query_to_x_index, column_variable_number):\n",
    "    x_index = {}\n",
    "    for k, v in query_to_x_index.items():\n",
    "        x_index[k] = []\n",
    "        for i in range(len(v)):\n",
    "            if v[i] == []:\n",
    "                x_index[k].append([j for j in range(column_variable_number[i])])\n",
    "            else:\n",
    "                x_index[k].append(v[i])\n",
    "    return x_index"
   ]
  },
  {
   "cell_type": "code",
   "execution_count": 95,
   "metadata": {},
   "outputs": [],
   "source": [
    "# 生成整数规划模型，并求解"
   ]
  },
  {
   "cell_type": "code",
   "execution_count": 96,
   "metadata": {},
   "outputs": [],
   "source": [
    "def x0():\n",
    "    return np.ones(total_x) * n_row / total_x"
   ]
  },
  {
   "cell_type": "code",
   "execution_count": 97,
   "metadata": {},
   "outputs": [],
   "source": [
    "def bounds():\n",
    "    return np.array([[0, n_row]] * total_x)"
   ]
  },
  {
   "cell_type": "code",
   "execution_count": 98,
   "metadata": {},
   "outputs": [],
   "source": [
    "def constraints():\n",
    "    return [{'type': 'eq', 'fun': lambda x: x.sum() - n_row}]"
   ]
  },
  {
   "cell_type": "code",
   "execution_count": 99,
   "metadata": {},
   "outputs": [],
   "source": [
    "def query_constraints(query_set, x_index, column_variable_number):\n",
    "    query_constraints_list = []\n",
    "    find = np.array([\n",
    "        np.product(column_variable_number[i:])\n",
    "        for i in range(1, len(column_variable_number))\n",
    "    ] + [1])\n",
    "    for key, values in x_index.items():\n",
    "        sel = query_set[key][4]\n",
    "        x_ind = np.array([x for x in itertools.product(*values)])#, dtype=np.uint16)\n",
    "        result = np.dot(x_ind, find)\n",
    "        def value_constraints(x, sel=sel, value=result):\n",
    "            return x[value].sum() - sel * n_row\n",
    "\n",
    "        query_constraints_list.append(value_constraints)\n",
    "    return query_constraints_list"
   ]
  },
  {
   "cell_type": "code",
   "execution_count": 18,
   "metadata": {
    "deletable": false,
    "editable": false,
    "run_control": {
     "frozen": true
    }
   },
   "outputs": [],
   "source": [
    "def query_constraints(query_set, x_index, column_variable_number):\n",
    "    query_constraints_list = []\n",
    "    find = np.array([\n",
    "        np.product(column_variable_number[i:])\n",
    "        for i in range(1, len(column_variable_number))\n",
    "    ] + [1])\n",
    "    for key, values in x_index.items():\n",
    "        sel = query_set[key][4]\n",
    "        x_ind = np.array([x for x in itertools.product(*values)])#, dtype=np.uint16)\n",
    "        result = x_ind @ find\n",
    "        row = np.zeros(len(result))\n",
    "        col = result\n",
    "        data = np.ones(len(result))\n",
    "        matrix = csr_matrix((data, (row, col)), shape=(1, total_x))#, dtype=np.uint16)\n",
    "        def value_constraints(x, sel=sel, matrix=matrix):\n",
    "            return matrix @ x - sel * n_row\n",
    "\n",
    "        query_constraints_list.append(value_constraints)\n",
    "    return query_constraints_list"
   ]
  },
  {
   "cell_type": "code",
   "execution_count": null,
   "metadata": {},
   "outputs": [],
   "source": []
  },
  {
   "cell_type": "code",
   "execution_count": null,
   "metadata": {},
   "outputs": [],
   "source": []
  },
  {
   "cell_type": "code",
   "execution_count": 100,
   "metadata": {},
   "outputs": [
    {
     "name": "stdout",
     "output_type": "stream",
     "text": [
      "CPU times: user 179 µs, sys: 18 µs, total: 197 µs\n",
      "Wall time: 201 µs\n"
     ]
    }
   ],
   "source": [
    "%%time\n",
    "query_constraints_list = []\n",
    "find = np.array([\n",
    "    np.product(column_variable_number[i:])\n",
    "    for i in range(1, len(column_variable_number))\n",
    "] + [1])\n",
    "\n",
    "\n",
    "values = x_index[0]  ### delete"
   ]
  },
  {
   "cell_type": "code",
   "execution_count": 101,
   "metadata": {},
   "outputs": [],
   "source": [
    "x_ind = np.array([x for x in itertools.product(*values)])#, dtype=np.uint16)"
   ]
  },
  {
   "cell_type": "code",
   "execution_count": 102,
   "metadata": {},
   "outputs": [
    {
     "data": {
      "text/plain": [
       "3248.4999999999995"
      ]
     },
     "execution_count": 102,
     "metadata": {},
     "output_type": "execute_result"
    }
   ],
   "source": [
    "result = x_ind @ find\n",
    "x0()[result].sum()"
   ]
  },
  {
   "cell_type": "code",
   "execution_count": 103,
   "metadata": {},
   "outputs": [],
   "source": [
    "def fun():\n",
    "    def error(x):\n",
    "        return sum([constraint(x)**2\n",
    "                    for constraint in query_constraints_list]) / (n_row)#**2\n",
    "\n",
    "    return error"
   ]
  },
  {
   "cell_type": "code",
   "execution_count": 104,
   "metadata": {},
   "outputs": [],
   "source": [
    "def randomized_rouding(x):\n",
    "    int_x = deepcopy(x)\n",
    "    for i in range(len(x)):\n",
    "        xi = x[i]\n",
    "        floor = np.floor(xi)\n",
    "        ceil = np.ceil(xi)\n",
    "        if not floor == ceil:\n",
    "            int_x[i] = np.random.choice([floor, ceil],\n",
    "                                        p=[xi - floor, ceil - xi])\n",
    "    return int_x"
   ]
  },
  {
   "cell_type": "code",
   "execution_count": 105,
   "metadata": {},
   "outputs": [],
   "source": [
    "def generate_table_data(column_to_interval, int_x, column_variable_number):\n",
    "    df = pd.DataFrame(columns=[f'col_{i}' for i in range(n_column)], index=[i for i in range(int_x.sum())])\n",
    "\n",
    "    column_to_x = []\n",
    "    for i in column_variable_number:\n",
    "        column_to_x.append([j for j in range(i)])\n",
    "    all_x = np.array([x for x in itertools.product(*column_to_x)], dtype=np.uint16)\n",
    "\n",
    "    count = 0\n",
    "    for i in range(total_x):  # total_x == len(int_x), n_column == all_x.shape[1]\n",
    "        if int_x[i] != 0:\n",
    "            df.iloc[count:count+int_x[i], :] = [column_to_interval[j][all_x[i][j]] for j in range(n_column)]\n",
    "            count += int_x[i]\n",
    "    return df"
   ]
  },
  {
   "cell_type": "code",
   "execution_count": 106,
   "metadata": {},
   "outputs": [],
   "source": [
    "def Q_error(query_set, our_table):\n",
    "    diff = []\n",
    "    for query in query_set:\n",
    "        sentence = ''\n",
    "        for i in range(len(query[0])):\n",
    "            if i != 0:\n",
    "                sentence += ' and '\n",
    "            sentence += f'col_{query[1][i]}'\n",
    "            if query[2][i][0] == '=':\n",
    "                sentence += '=='\n",
    "            else:\n",
    "                sentence += query[2][i][0]\n",
    "            sentence += f'{query[3][i][0]}'\n",
    "        sel = our_table.query(sentence).shape[0] / our_table.shape[0]\n",
    "        sel2 = query[4]  # round(query[4] * n_row)\n",
    "        if sel == 0:\n",
    "            sel += 1 / our_table.shape[0]\n",
    "        if sel2 == 0:\n",
    "            sel2 += 1 / n_row\n",
    "        if sel < sel2:\n",
    "            diff.append(sel2 / sel)\n",
    "        else:\n",
    "            diff.append(sel / sel2)\n",
    "    return diff  "
   ]
  },
  {
   "cell_type": "code",
   "execution_count": null,
   "metadata": {},
   "outputs": [],
   "source": []
  },
  {
   "cell_type": "code",
   "execution_count": null,
   "metadata": {},
   "outputs": [],
   "source": [
    "tic = time.time()"
   ]
  },
  {
   "cell_type": "code",
   "execution_count": 118,
   "metadata": {},
   "outputs": [
    {
     "name": "stdout",
     "output_type": "stream",
     "text": [
      "load dataset wine.csv done\n",
      "(6497, 13)\n",
      "(6497, 13)\n",
      "0\n",
      "1\n",
      "2\n",
      "3\n",
      "4\n",
      "5\n",
      "6\n",
      "7\n",
      "8\n",
      "9\n",
      "10\n",
      "11\n",
      "12\n",
      "0 106\n",
      "1 187\n",
      "2 89\n",
      "3 316\n",
      "4 214\n",
      "5 135\n",
      "6 276\n",
      "7 975\n",
      "8 108\n",
      "9 111\n",
      "10 111\n",
      "11 7\n",
      "12 2\n",
      "Begin Generating Queries ...\n",
      "Complete Generating Queries ...\n"
     ]
    }
   ],
   "source": [
    "parser = argparse.ArgumentParser()\n",
    "parser.add_argument('--dataset', type=str, default='wine', help='Dataset.')\n",
    "parser.add_argument('--device', type=str, default='cuda:0', help='Device')\n",
    "parser.add_argument('--query-size', type=int, default=1000, help='query size')\n",
    "parser.add_argument('--reload', type=bool, default=False, help='query size')\n",
    "parser.add_argument('--num-conditions',\n",
    "                    type=int,\n",
    "                    default=1000,\n",
    "                    help='num of conditions')\n",
    "parser.add_argument('--lr', type=float, default=5e-3, help='learning rate')\n",
    "\n",
    "#args = parser.parse_args()()\n",
    "args, unknown = parser.parse_known_args()\n",
    "\n",
    "table = datasets.LoadDataset(args.dataset + '.csv', args.dataset, type_casts={})\n",
    "\n",
    "args.dataset = 'wine'\n",
    "#args.device = 'cpu'\n",
    "args.query_size = 5\n",
    "#args.lr = 0.0002\n",
    "args.num_conditions = 2\n",
    "args.reload = False\n",
    "\n",
    "if not args.reload:\n",
    "    print('Begin Generating Queries ...')\n",
    "    rng = np.random.RandomState(1234)\n",
    "    query_set = [\n",
    "        GenerateQuery(table, 2, args.num_conditions + 1, rng, args.dataset)\n",
    "        for i in range(args.query_size)\n",
    "    ]\n",
    "    print('Complete Generating Queries ...')\n",
    "\n",
    "\n",
    "\n",
    "table_size = table.data.shape\n",
    "n_row = table_size[0]\n",
    "n_column = table_size[1]\n",
    "column_to_interval = dictionary_column_interval(table_size, query_set)\n",
    "total_variables, column_variable_number, column_to_variable = dictionary_column_variable(column_to_interval)\n",
    "total_x = np.product(column_variable_number)\n",
    "variable_to_interval = dictionary_variable_interval(column_to_interval, column_to_variable)\n",
    "query_to_variable = dictionary_query_to_variable(query_set, column_to_interval, column_to_variable)\n",
    "query_to_x_index = dictionary_query_to_x_index(query_set, query_to_variable, column_to_variable)\n",
    "x_index = transfer_x_index(query_to_x_index, column_variable_number)"
   ]
  },
  {
   "cell_type": "code",
   "execution_count": 67,
   "metadata": {
    "scrolled": true
   },
   "outputs": [
    {
     "name": "stdout",
     "output_type": "stream",
     "text": [
      "load dataset wine.csv done\n",
      "(6497, 13)\n",
      "(6497, 13)\n",
      "0\n",
      "1\n",
      "2\n",
      "3\n",
      "4\n",
      "5\n",
      "6\n",
      "7\n",
      "8\n",
      "9\n",
      "10\n",
      "11\n",
      "12\n",
      "0 106\n",
      "1 187\n",
      "2 89\n",
      "3 316\n",
      "4 214\n",
      "5 135\n",
      "6 276\n",
      "7 975\n",
      "8 108\n",
      "9 111\n",
      "10 111\n",
      "11 7\n",
      "12 2\n",
      "Begin Generating Queries ...\n",
      "Complete Generating Queries ...\n"
     ]
    }
   ],
   "source": [
    "query_constraints_list = query_constraints(query_set, x_index, column_variable_number)"
   ]
  },
  {
   "cell_type": "code",
   "execution_count": 68,
   "metadata": {},
   "outputs": [
    {
     "name": "stdout",
     "output_type": "stream",
     "text": [
      "576\n"
     ]
    }
   ],
   "source": [
    "print(total_x)"
   ]
  },
  {
   "cell_type": "code",
   "execution_count": 72,
   "metadata": {},
   "outputs": [
    {
     "data": {
      "text/plain": [
       "2989.9900050023084"
      ]
     },
     "execution_count": 72,
     "metadata": {},
     "output_type": "execute_result"
    }
   ],
   "source": [
    "fun()(x0())"
   ]
  },
  {
   "cell_type": "code",
   "execution_count": 73,
   "metadata": {
    "scrolled": true
   },
   "outputs": [],
   "source": [
    "res = optimize.minimize(fun(),\n",
    "                        x0(),\n",
    "                        method='SLSQP',\n",
    "                        constraints=constraints(),\n",
    "                        bounds= bounds(),\n",
    "                        #tol=1e-323,\n",
    "                        #options={'maxiter': 1e10},\n",
    "                        #options={'maxiter': 1},\n",
    "                       )"
   ]
  },
  {
   "cell_type": "code",
   "execution_count": 74,
   "metadata": {},
   "outputs": [
    {
     "name": "stdout",
     "output_type": "stream",
     "text": [
      "     fun: 3.318411724870953e-07\n",
      "     jac: array([ 0.00000000e+00,  0.00000000e+00,  0.00000000e+00,  0.00000000e+00,\n",
      "       -1.47985839e-06, -1.47985839e-06, -1.47985839e-06, -1.47985839e-06,\n",
      "        6.39177247e-06,  6.39177247e-06,  6.39177247e-06,  6.39177247e-06,\n",
      "        0.00000000e+00,  0.00000000e+00, -8.25474244e-06, -8.25474244e-06,\n",
      "       -1.47985839e-06, -1.47985839e-06, -9.73460084e-06, -9.73460084e-06,\n",
      "        6.39177247e-06,  6.39177247e-06, -1.86296998e-06, -1.86296998e-06,\n",
      "        0.00000000e+00,  0.00000000e+00,  0.00000000e+00,  0.00000000e+00,\n",
      "       -1.47985839e-06, -1.47985839e-06, -1.47985839e-06, -1.47985839e-06,\n",
      "        6.39177247e-06,  6.39177247e-06,  6.39177247e-06,  6.39177247e-06,\n",
      "        0.00000000e+00,  0.00000000e+00, -8.25474244e-06, -8.25474244e-06,\n",
      "       -1.47985839e-06, -1.47985839e-06, -9.73460084e-06, -9.73460084e-06,\n",
      "        6.39177247e-06,  6.39177247e-06, -1.86296998e-06, -1.86296998e-06,\n",
      "        0.00000000e+00,  0.00000000e+00,  0.00000000e+00,  0.00000000e+00,\n",
      "       -1.47985839e-06, -1.47985839e-06, -1.47985839e-06, -1.47985839e-06,\n",
      "        6.39177247e-06,  6.39177247e-06,  6.39177247e-06,  6.39177247e-06,\n",
      "        0.00000000e+00,  0.00000000e+00, -8.25474244e-06, -8.25474244e-06,\n",
      "       -1.47985839e-06, -1.47985839e-06, -9.73460084e-06, -9.73460084e-06,\n",
      "        6.39177247e-06,  6.39177247e-06, -1.86296998e-06, -1.86296998e-06,\n",
      "        0.00000000e+00,  0.00000000e+00,  0.00000000e+00,  0.00000000e+00,\n",
      "       -1.47985839e-06, -1.47985839e-06, -1.47985839e-06, -1.47985839e-06,\n",
      "        6.39177247e-06,  6.39177247e-06,  6.39177247e-06,  6.39177247e-06,\n",
      "        0.00000000e+00,  0.00000000e+00, -8.25474244e-06, -8.25474244e-06,\n",
      "       -1.47985839e-06, -1.47985839e-06, -9.73460084e-06, -9.73460084e-06,\n",
      "        6.39177247e-06,  6.39177247e-06, -1.86296998e-06, -1.86296998e-06,\n",
      "       -8.36480839e-06, -8.36480839e-06, -8.36480839e-06, -8.36480839e-06,\n",
      "       -9.84466678e-06, -9.84466678e-06, -9.84466678e-06, -9.84466678e-06,\n",
      "       -1.97303592e-06, -1.97303592e-06, -1.97303592e-06, -1.97303592e-06,\n",
      "       -8.36480839e-06, -8.36480839e-06, -1.66195508e-05, -1.66195508e-05,\n",
      "       -9.84466678e-06, -9.84466678e-06, -1.80994092e-05, -1.80994092e-05,\n",
      "       -1.97303592e-06, -1.97303592e-06, -1.02277784e-05, -1.02277784e-05,\n",
      "        0.00000000e+00,  0.00000000e+00,  0.00000000e+00,  0.00000000e+00,\n",
      "       -1.47985839e-06, -1.47985839e-06, -1.47985839e-06, -1.47985839e-06,\n",
      "        6.39177247e-06,  6.39177247e-06,  6.39177247e-06,  6.39177247e-06,\n",
      "        0.00000000e+00,  0.00000000e+00, -8.25474244e-06, -8.25474244e-06,\n",
      "       -1.47985839e-06, -1.47985839e-06, -9.73460084e-06, -9.73460084e-06,\n",
      "        6.39177247e-06,  6.39177247e-06, -1.86296998e-06, -1.86296998e-06,\n",
      "        0.00000000e+00,  0.00000000e+00,  0.00000000e+00,  0.00000000e+00,\n",
      "       -1.47985839e-06, -1.47985839e-06, -1.47985839e-06, -1.47985839e-06,\n",
      "        6.39177247e-06,  6.39177247e-06,  6.39177247e-06,  6.39177247e-06,\n",
      "        0.00000000e+00,  0.00000000e+00, -8.25474244e-06, -8.25474244e-06,\n",
      "       -1.47985839e-06, -1.47985839e-06, -9.73460084e-06, -9.73460084e-06,\n",
      "        6.39177247e-06,  6.39177247e-06, -1.86296998e-06, -1.86296998e-06,\n",
      "        0.00000000e+00,  0.00000000e+00,  0.00000000e+00,  0.00000000e+00,\n",
      "       -1.47985839e-06, -1.47985839e-06, -1.47985839e-06, -1.47985839e-06,\n",
      "        6.39177247e-06,  6.39177247e-06,  6.39177247e-06,  6.39177247e-06,\n",
      "        0.00000000e+00,  0.00000000e+00, -8.25474244e-06, -8.25474244e-06,\n",
      "       -1.47985839e-06, -1.47985839e-06, -9.73460084e-06, -9.73460084e-06,\n",
      "        6.39177247e-06,  6.39177247e-06, -1.86296998e-06, -1.86296998e-06,\n",
      "        0.00000000e+00,  0.00000000e+00,  0.00000000e+00,  0.00000000e+00,\n",
      "       -1.47985839e-06, -1.47985839e-06, -1.47985839e-06, -1.47985839e-06,\n",
      "        6.39177247e-06,  6.39177247e-06,  6.39177247e-06,  6.39177247e-06,\n",
      "        0.00000000e+00,  0.00000000e+00, -8.25474244e-06, -8.25474244e-06,\n",
      "       -1.47985839e-06, -1.47985839e-06, -9.73460084e-06, -9.73460084e-06,\n",
      "        6.39177247e-06,  6.39177247e-06, -1.86296998e-06, -1.86296998e-06,\n",
      "        0.00000000e+00,  0.00000000e+00,  0.00000000e+00,  0.00000000e+00,\n",
      "       -1.47985839e-06, -1.47985839e-06, -1.47985839e-06, -1.47985839e-06,\n",
      "        6.39177247e-06,  6.39177247e-06,  6.39177247e-06,  6.39177247e-06,\n",
      "        0.00000000e+00,  0.00000000e+00, -8.25474244e-06, -8.25474244e-06,\n",
      "       -1.47985839e-06, -1.47985839e-06, -9.73460084e-06, -9.73460084e-06,\n",
      "        6.39177247e-06,  6.39177247e-06, -1.86296998e-06, -1.86296998e-06,\n",
      "       -8.36480839e-06, -8.36480839e-06, -8.36480839e-06, -8.36480839e-06,\n",
      "       -9.84466678e-06, -9.84466678e-06, -9.84466678e-06, -9.84466678e-06,\n",
      "       -1.97303592e-06, -1.97303592e-06, -1.97303592e-06, -1.97303592e-06,\n",
      "       -8.36480839e-06, -8.36480839e-06, -1.66195508e-05, -1.66195508e-05,\n",
      "       -9.84466678e-06, -9.84466678e-06, -1.80994092e-05, -1.80994092e-05,\n",
      "       -1.97303592e-06, -1.97303592e-06, -1.02277784e-05, -1.02277784e-05,\n",
      "        0.00000000e+00,  0.00000000e+00,  0.00000000e+00,  0.00000000e+00,\n",
      "       -1.47985839e-06, -1.47985839e-06, -1.47985839e-06, -1.47985839e-06,\n",
      "        6.39177247e-06,  6.39177247e-06,  6.39177247e-06,  6.39177247e-06,\n",
      "        0.00000000e+00,  0.00000000e+00, -8.25474244e-06, -8.25474244e-06,\n",
      "       -1.47985839e-06, -1.47985839e-06, -9.73460084e-06, -9.73460084e-06,\n",
      "        6.39177247e-06,  6.39177247e-06, -1.86296998e-06, -1.86296998e-06,\n",
      "       -4.81130361e-06, -4.81130361e-06, -4.81130361e-06, -4.81130361e-06,\n",
      "       -6.29116200e-06, -6.29116200e-06, -6.29116200e-06, -6.29116200e-06,\n",
      "        1.58046885e-06,  1.58046885e-06,  1.58046885e-06,  1.58046885e-06,\n",
      "       -4.81130361e-06, -4.81130361e-06, -1.30660461e-05, -1.30660461e-05,\n",
      "       -6.29116200e-06, -6.29116200e-06, -1.45459044e-05, -1.45459044e-05,\n",
      "        1.58046885e-06,  1.58046885e-06, -6.67427359e-06, -6.67427359e-06,\n",
      "       -4.81130361e-06, -4.81130361e-06, -4.81130361e-06, -4.81130361e-06,\n",
      "       -6.29116200e-06, -6.29116200e-06, -6.29116200e-06, -6.29116200e-06,\n",
      "        1.58046885e-06,  1.58046885e-06,  1.58046885e-06,  1.58046885e-06,\n",
      "       -4.81130361e-06, -4.81130361e-06, -1.30660461e-05, -1.30660461e-05,\n",
      "       -6.29116200e-06, -6.29116200e-06, -1.45459044e-05, -1.45459044e-05,\n",
      "        1.58046885e-06,  1.58046885e-06, -6.67427359e-06, -6.67427359e-06,\n",
      "       -4.81130361e-06, -4.81130361e-06, -4.81130361e-06, -4.81130361e-06,\n",
      "       -6.29116200e-06, -6.29116200e-06, -6.29116200e-06, -6.29116200e-06,\n",
      "        1.58046885e-06,  1.58046885e-06,  1.58046885e-06,  1.58046885e-06,\n",
      "       -4.81130361e-06, -4.81130361e-06, -1.30660461e-05, -1.30660461e-05,\n",
      "       -6.29116200e-06, -6.29116200e-06, -1.45459044e-05, -1.45459044e-05,\n",
      "        1.58046885e-06,  1.58046885e-06, -6.67427359e-06, -6.67427359e-06,\n",
      "       -4.81130361e-06, -4.81130361e-06, -4.81130361e-06, -4.81130361e-06,\n",
      "       -6.29116200e-06, -6.29116200e-06, -6.29116200e-06, -6.29116200e-06,\n",
      "        1.58046885e-06,  1.58046885e-06,  1.58046885e-06,  1.58046885e-06,\n",
      "       -4.81130361e-06, -4.81130361e-06, -1.30660461e-05, -1.30660461e-05,\n",
      "       -6.29116200e-06, -6.29116200e-06, -1.45459044e-05, -1.45459044e-05,\n",
      "        1.58046885e-06,  1.58046885e-06, -6.67427359e-06, -6.67427359e-06,\n",
      "       -1.31761120e-05, -1.31761120e-05, -1.31761120e-05, -1.31761120e-05,\n",
      "       -1.46559704e-05, -1.46559704e-05, -1.46559704e-05, -1.46559704e-05,\n",
      "       -6.78433954e-06, -6.78433954e-06, -6.78433954e-06, -6.78433954e-06,\n",
      "       -1.31761120e-05, -1.31761120e-05, -2.14308544e-05, -2.14308544e-05,\n",
      "       -1.46559704e-05, -1.46559704e-05, -2.29107128e-05, -2.29107128e-05,\n",
      "       -6.78433954e-06, -6.78433954e-06, -1.50390820e-05, -1.50390820e-05,\n",
      "       -4.81130361e-06, -4.81130361e-06, -4.81130361e-06, -4.81130361e-06,\n",
      "       -6.29116200e-06, -6.29116200e-06, -6.29116200e-06, -6.29116200e-06,\n",
      "        1.58046885e-06,  1.58046885e-06,  1.58046885e-06,  1.58046885e-06,\n",
      "       -4.81130361e-06, -4.81130361e-06, -1.30660461e-05, -1.30660461e-05,\n",
      "       -6.29116200e-06, -6.29116200e-06, -1.45459044e-05, -1.45459044e-05,\n",
      "        1.58046885e-06,  1.58046885e-06, -6.67427359e-06, -6.67427359e-06,\n",
      "       -4.81130361e-06, -4.81130361e-06, -4.81130361e-06, -4.81130361e-06,\n",
      "       -6.29116200e-06, -6.29116200e-06, -6.29116200e-06, -6.29116200e-06,\n",
      "        1.58046885e-06,  1.58046885e-06,  1.58046885e-06,  1.58046885e-06,\n",
      "       -4.81130361e-06, -4.81130361e-06, -1.30660461e-05, -1.30660461e-05,\n",
      "       -6.29116200e-06, -6.29116200e-06, -1.45459044e-05, -1.45459044e-05,\n",
      "        1.58046885e-06,  1.58046885e-06, -6.67427359e-06, -6.67427359e-06,\n",
      "       -4.81130361e-06, -4.81130361e-06, -4.81130361e-06, -4.81130361e-06,\n",
      "       -6.29116200e-06, -6.29116200e-06, -6.29116200e-06, -6.29116200e-06,\n",
      "        1.58046885e-06,  1.58046885e-06,  1.58046885e-06,  1.58046885e-06,\n",
      "       -4.81130361e-06, -4.81130361e-06, -1.30660461e-05, -1.30660461e-05,\n",
      "       -6.29116200e-06, -6.29116200e-06, -1.45459044e-05, -1.45459044e-05,\n",
      "        1.58046885e-06,  1.58046885e-06, -6.67427359e-06, -6.67427359e-06,\n",
      "       -4.81130361e-06, -4.81130361e-06, -4.81130361e-06, -4.81130361e-06,\n",
      "       -6.29116200e-06, -6.29116200e-06, -6.29116200e-06, -6.29116200e-06,\n",
      "        1.58046885e-06,  1.58046885e-06,  1.58046885e-06,  1.58046885e-06,\n",
      "       -4.81130361e-06, -4.81130361e-06, -1.30660461e-05, -1.30660461e-05,\n",
      "       -6.29116200e-06, -6.29116200e-06, -1.45459044e-05, -1.45459044e-05,\n",
      "        1.58046885e-06,  1.58046885e-06, -6.67427359e-06, -6.67427359e-06,\n",
      "       -4.81130361e-06, -4.81130361e-06, -4.81130361e-06, -4.81130361e-06,\n",
      "       -6.29116200e-06, -6.29116200e-06, -6.29116200e-06, -6.29116200e-06,\n",
      "        1.58046885e-06,  1.58046885e-06,  1.58046885e-06,  1.58046885e-06,\n",
      "       -4.81130361e-06, -4.81130361e-06, -1.30660461e-05, -1.30660461e-05,\n",
      "       -6.29116200e-06, -6.29116200e-06, -1.45459044e-05, -1.45459044e-05,\n",
      "        1.58046885e-06,  1.58046885e-06, -6.67427359e-06, -6.67427359e-06,\n",
      "       -1.31761120e-05, -1.31761120e-05, -1.31761120e-05, -1.31761120e-05,\n",
      "       -1.46559704e-05, -1.46559704e-05, -1.46559704e-05, -1.46559704e-05,\n",
      "       -6.78433954e-06, -6.78433954e-06, -6.78433954e-06, -6.78433954e-06,\n",
      "       -1.31761120e-05, -1.31761120e-05, -2.14308544e-05, -2.14308544e-05,\n",
      "       -1.46559704e-05, -1.46559704e-05, -2.29107128e-05, -2.29107128e-05,\n",
      "       -6.78433954e-06, -6.78433954e-06, -1.50390820e-05, -1.50390820e-05,\n",
      "       -4.81130361e-06, -4.81130361e-06, -4.81130361e-06, -4.81130361e-06,\n",
      "       -6.29116200e-06, -6.29116200e-06, -6.29116200e-06, -6.29116200e-06,\n",
      "        1.58046885e-06,  1.58046885e-06,  1.58046885e-06,  1.58046885e-06,\n",
      "       -4.81130361e-06, -4.81130361e-06, -1.30660461e-05, -1.30660461e-05,\n",
      "       -6.29116200e-06, -6.29116200e-06, -1.45459044e-05, -1.45459044e-05,\n",
      "        1.58046885e-06,  1.58046885e-06, -6.67427359e-06, -6.67427359e-06])\n",
      " message: 'Optimization terminated successfully.'\n",
      "    nfev: 32368\n",
      "     nit: 56\n",
      "    njev: 56\n",
      "  status: 0\n",
      " success: True\n",
      "       x: array([4.33362187e+01, 4.33362187e+01, 4.33362187e+01, 4.33362187e+01,\n",
      "       1.46103370e+00, 1.46103370e+00, 1.46103370e+00, 1.46103370e+00,\n",
      "       5.77216748e+01, 5.77216748e+01, 5.77216748e+01, 5.77216748e+01,\n",
      "       4.33362187e+01, 4.33362187e+01, 3.01079751e-02, 3.01079751e-02,\n",
      "       1.46103370e+00, 1.46103370e+00, 1.66585358e-02, 1.66585358e-02,\n",
      "       5.77216748e+01, 5.77216748e+01, 2.15485182e-18, 2.39879731e-18,\n",
      "       4.33362187e+01, 4.33362187e+01, 4.33362187e+01, 4.33362187e+01,\n",
      "       1.46103370e+00, 1.46103370e+00, 1.46103370e+00, 1.46103370e+00,\n",
      "       5.77216748e+01, 5.77216748e+01, 5.77216748e+01, 5.77216748e+01,\n",
      "       4.33362187e+01, 4.33362187e+01, 3.01079751e-02, 3.01079751e-02,\n",
      "       1.46103370e+00, 1.46103370e+00, 1.66585358e-02, 1.66585358e-02,\n",
      "       5.77216748e+01, 5.77216748e+01, 1.88380127e-18, 4.06575815e-19,\n",
      "       4.33362187e+01, 4.33362187e+01, 4.33362187e+01, 4.33362187e+01,\n",
      "       1.46103370e+00, 1.46103370e+00, 1.46103370e+00, 1.46103370e+00,\n",
      "       5.77216748e+01, 5.77216748e+01, 5.77216748e+01, 5.77216748e+01,\n",
      "       4.33362187e+01, 4.33362187e+01, 3.01079751e-02, 3.01079751e-02,\n",
      "       1.46103370e+00, 1.46103370e+00, 1.66585358e-02, 1.66585358e-02,\n",
      "       5.77216748e+01, 5.77216748e+01, 1.42301535e-18, 8.53809211e-19,\n",
      "       4.33362187e+01, 4.33362187e+01, 4.33362187e+01, 4.33362187e+01,\n",
      "       1.46103370e+00, 1.46103370e+00, 1.46103370e+00, 1.46103370e+00,\n",
      "       5.77216748e+01, 5.77216748e+01, 5.77216748e+01, 5.77216748e+01,\n",
      "       4.33362187e+01, 4.33362187e+01, 3.01079751e-02, 3.01079751e-02,\n",
      "       1.46103370e+00, 1.46103370e+00, 1.66585358e-02, 1.66585358e-02,\n",
      "       5.77216748e+01, 5.77216748e+01, 3.55076211e-18, 2.22261445e-18,\n",
      "       3.29600532e-02, 3.29600532e-02, 3.29600532e-02, 3.29600532e-02,\n",
      "       0.00000000e+00, 9.48676901e-20, 0.00000000e+00, 0.00000000e+00,\n",
      "       1.06275213e+01, 1.06275213e+01, 1.06275213e+01, 1.06275213e+01,\n",
      "       3.29600532e-02, 3.29600532e-02, 4.72259457e-03, 4.72259457e-03,\n",
      "       0.00000000e+00, 0.00000000e+00, 0.00000000e+00, 0.00000000e+00,\n",
      "       1.06275213e+01, 1.06275213e+01, 7.18283939e-19, 5.96311195e-19,\n",
      "       4.33362187e+01, 4.33362187e+01, 4.33362187e+01, 4.33362187e+01,\n",
      "       1.46103370e+00, 1.46103370e+00, 1.46103370e+00, 1.46103370e+00,\n",
      "       5.77216748e+01, 5.77216748e+01, 5.77216748e+01, 5.77216748e+01,\n",
      "       4.33362187e+01, 4.33362187e+01, 3.01079751e-02, 3.01079751e-02,\n",
      "       1.46103370e+00, 1.46103370e+00, 1.66585358e-02, 1.66585358e-02,\n",
      "       5.77216748e+01, 5.77216748e+01, 1.89735380e-18, 6.09863722e-19,\n",
      "       4.33362187e+01, 4.33362187e+01, 4.33362187e+01, 4.33362187e+01,\n",
      "       1.46103370e+00, 1.46103370e+00, 1.46103370e+00, 1.46103370e+00,\n",
      "       5.77216748e+01, 5.77216748e+01, 5.77216748e+01, 5.77216748e+01,\n",
      "       4.33362187e+01, 4.33362187e+01, 3.01079751e-02, 3.01079751e-02,\n",
      "       1.46103370e+00, 1.46103370e+00, 1.66585358e-02, 1.66585358e-02,\n",
      "       5.77216748e+01, 5.77216748e+01, 7.86046575e-19, 2.56142763e-18,\n",
      "       4.33362187e+01, 4.33362187e+01, 4.33362187e+01, 4.33362187e+01,\n",
      "       1.46103370e+00, 1.46103370e+00, 1.46103370e+00, 1.46103370e+00,\n",
      "       5.77216748e+01, 5.77216748e+01, 5.77216748e+01, 5.77216748e+01,\n",
      "       4.33362187e+01, 4.33362187e+01, 3.01079751e-02, 3.01079751e-02,\n",
      "       1.46103370e+00, 1.46103370e+00, 1.66585358e-02, 1.66585358e-02,\n",
      "       5.77216748e+01, 5.77216748e+01, 1.58564568e-18, 2.71050543e-19,\n",
      "       4.33362187e+01, 4.33362187e+01, 4.33362187e+01, 4.33362187e+01,\n",
      "       1.46103370e+00, 1.46103370e+00, 1.46103370e+00, 1.46103370e+00,\n",
      "       5.77216748e+01, 5.77216748e+01, 5.77216748e+01, 5.77216748e+01,\n",
      "       4.33362187e+01, 4.33362187e+01, 3.01079751e-02, 3.01079751e-02,\n",
      "       1.46103370e+00, 1.46103370e+00, 1.66585358e-02, 1.66585358e-02,\n",
      "       5.77216748e+01, 5.77216748e+01, 1.88380127e-18, 1.55854062e-18,\n",
      "       4.33362187e+01, 4.33362187e+01, 4.33362187e+01, 4.33362187e+01,\n",
      "       1.46103370e+00, 1.46103370e+00, 1.46103370e+00, 1.46103370e+00,\n",
      "       5.77216748e+01, 5.77216748e+01, 5.77216748e+01, 5.77216748e+01,\n",
      "       4.33362187e+01, 4.33362187e+01, 3.01079751e-02, 3.01079751e-02,\n",
      "       1.46103370e+00, 1.46103370e+00, 1.66585358e-02, 1.66585358e-02,\n",
      "       5.77216748e+01, 5.77216748e+01, 1.57209315e-18, 3.25260652e-19,\n",
      "       3.29600532e-02, 3.29600532e-02, 3.29600532e-02, 3.29600532e-02,\n",
      "       0.00000000e+00, 0.00000000e+00, 0.00000000e+00, 0.00000000e+00,\n",
      "       1.06275213e+01, 1.06275213e+01, 1.06275213e+01, 1.06275213e+01,\n",
      "       3.29600532e-02, 3.29600532e-02, 4.72259457e-03, 4.72259457e-03,\n",
      "       0.00000000e+00, 0.00000000e+00, 0.00000000e+00, 0.00000000e+00,\n",
      "       1.06275213e+01, 1.06275213e+01, 4.06575815e-19, 2.84603070e-19,\n",
      "       4.33362187e+01, 4.33362187e+01, 4.33362187e+01, 4.33362187e+01,\n",
      "       1.46103370e+00, 1.46103370e+00, 1.46103370e+00, 1.46103370e+00,\n",
      "       5.77216748e+01, 5.77216748e+01, 5.77216748e+01, 5.77216748e+01,\n",
      "       4.33362187e+01, 4.33362187e+01, 3.01079751e-02, 3.01079751e-02,\n",
      "       1.46103370e+00, 1.46103370e+00, 1.66585358e-02, 1.66585358e-02,\n",
      "       5.77216748e+01, 5.77216748e+01, 1.35525272e-19, 0.00000000e+00,\n",
      "       1.69648288e+00, 1.69648288e+00, 1.69648288e+00, 1.69648288e+00,\n",
      "       0.00000000e+00, 0.00000000e+00, 0.00000000e+00, 0.00000000e+00,\n",
      "       1.91913790e+00, 1.91913790e+00, 1.91913790e+00, 1.91913790e+00,\n",
      "       1.69648288e+00, 1.69648288e+00, 2.69019512e-04, 2.69019512e-04,\n",
      "       0.00000000e+00, 0.00000000e+00, 0.00000000e+00, 0.00000000e+00,\n",
      "       1.91913790e+00, 1.91913790e+00, 6.79173736e-04, 6.79173736e-04,\n",
      "       1.69648288e+00, 1.69648288e+00, 1.69648288e+00, 1.69648288e+00,\n",
      "       0.00000000e+00, 0.00000000e+00, 0.00000000e+00, 0.00000000e+00,\n",
      "       1.91913790e+00, 1.91913790e+00, 1.91913790e+00, 1.91913790e+00,\n",
      "       1.69648288e+00, 1.69648288e+00, 2.69019512e-04, 2.69019512e-04,\n",
      "       0.00000000e+00, 0.00000000e+00, 0.00000000e+00, 0.00000000e+00,\n",
      "       1.91913790e+00, 1.91913790e+00, 6.79173736e-04, 6.79173736e-04,\n",
      "       1.69648288e+00, 1.69648288e+00, 1.69648288e+00, 1.69648288e+00,\n",
      "       0.00000000e+00, 0.00000000e+00, 0.00000000e+00, 0.00000000e+00,\n",
      "       1.91913790e+00, 1.91913790e+00, 1.91913790e+00, 1.91913790e+00,\n",
      "       1.69648288e+00, 1.69648288e+00, 2.69019512e-04, 2.69019512e-04,\n",
      "       0.00000000e+00, 0.00000000e+00, 0.00000000e+00, 0.00000000e+00,\n",
      "       1.91913790e+00, 1.91913790e+00, 6.79173736e-04, 6.79173736e-04,\n",
      "       1.69648288e+00, 1.69648288e+00, 1.69648288e+00, 1.69648288e+00,\n",
      "       0.00000000e+00, 0.00000000e+00, 0.00000000e+00, 0.00000000e+00,\n",
      "       1.91913790e+00, 1.91913790e+00, 1.91913790e+00, 1.91913790e+00,\n",
      "       1.69648288e+00, 1.69648288e+00, 2.69019512e-04, 2.69019512e-04,\n",
      "       0.00000000e+00, 0.00000000e+00, 0.00000000e+00, 0.00000000e+00,\n",
      "       1.91913790e+00, 1.91913790e+00, 6.79173736e-04, 6.79173736e-04,\n",
      "       0.00000000e+00, 0.00000000e+00, 0.00000000e+00, 0.00000000e+00,\n",
      "       0.00000000e+00, 0.00000000e+00, 0.00000000e+00, 0.00000000e+00,\n",
      "       2.34665939e-03, 2.34665939e-03, 2.34665939e-03, 2.34665939e-03,\n",
      "       0.00000000e+00, 0.00000000e+00, 0.00000000e+00, 0.00000000e+00,\n",
      "       0.00000000e+00, 0.00000000e+00, 0.00000000e+00, 0.00000000e+00,\n",
      "       2.34665939e-03, 2.34665939e-03, 0.00000000e+00, 0.00000000e+00,\n",
      "       1.69648288e+00, 1.69648288e+00, 1.69648288e+00, 1.69648288e+00,\n",
      "       0.00000000e+00, 0.00000000e+00, 0.00000000e+00, 0.00000000e+00,\n",
      "       1.91913790e+00, 1.91913790e+00, 1.91913790e+00, 1.91913790e+00,\n",
      "       1.69648288e+00, 1.69648288e+00, 2.69019512e-04, 2.69019512e-04,\n",
      "       0.00000000e+00, 0.00000000e+00, 0.00000000e+00, 0.00000000e+00,\n",
      "       1.91913790e+00, 1.91913790e+00, 6.79173736e-04, 6.79173736e-04,\n",
      "       1.69648288e+00, 1.69648288e+00, 1.69648288e+00, 1.69648288e+00,\n",
      "       0.00000000e+00, 0.00000000e+00, 0.00000000e+00, 0.00000000e+00,\n",
      "       1.91913790e+00, 1.91913790e+00, 1.91913790e+00, 1.91913790e+00,\n",
      "       1.69648288e+00, 1.69648288e+00, 2.69019512e-04, 2.69019512e-04,\n",
      "       0.00000000e+00, 0.00000000e+00, 0.00000000e+00, 0.00000000e+00,\n",
      "       1.91913790e+00, 1.91913790e+00, 6.79173736e-04, 6.79173736e-04,\n",
      "       1.69648288e+00, 1.69648288e+00, 1.69648288e+00, 1.69648288e+00,\n",
      "       0.00000000e+00, 0.00000000e+00, 0.00000000e+00, 0.00000000e+00,\n",
      "       1.91913790e+00, 1.91913790e+00, 1.91913790e+00, 1.91913790e+00,\n",
      "       1.69648288e+00, 1.69648288e+00, 2.69019512e-04, 2.69019512e-04,\n",
      "       0.00000000e+00, 0.00000000e+00, 0.00000000e+00, 0.00000000e+00,\n",
      "       1.91913790e+00, 1.91913790e+00, 6.79173736e-04, 6.79173736e-04,\n",
      "       1.69648288e+00, 1.69648288e+00, 1.69648288e+00, 1.69648288e+00,\n",
      "       0.00000000e+00, 0.00000000e+00, 0.00000000e+00, 0.00000000e+00,\n",
      "       1.91913790e+00, 1.91913790e+00, 1.91913790e+00, 1.91913790e+00,\n",
      "       1.69648288e+00, 1.69648288e+00, 2.69019512e-04, 2.69019512e-04,\n",
      "       0.00000000e+00, 0.00000000e+00, 0.00000000e+00, 0.00000000e+00,\n",
      "       1.91913790e+00, 1.91913790e+00, 6.79173736e-04, 6.79173736e-04,\n",
      "       1.69648288e+00, 1.69648288e+00, 1.69648288e+00, 1.69648288e+00,\n",
      "       0.00000000e+00, 0.00000000e+00, 0.00000000e+00, 0.00000000e+00,\n",
      "       1.91913790e+00, 1.91913790e+00, 1.91913790e+00, 1.91913790e+00,\n",
      "       1.69648288e+00, 1.69648288e+00, 2.69019512e-04, 2.69019512e-04,\n",
      "       0.00000000e+00, 0.00000000e+00, 0.00000000e+00, 0.00000000e+00,\n",
      "       1.91913790e+00, 1.91913790e+00, 6.79173736e-04, 6.79173736e-04,\n",
      "       0.00000000e+00, 0.00000000e+00, 0.00000000e+00, 0.00000000e+00,\n",
      "       0.00000000e+00, 0.00000000e+00, 0.00000000e+00, 0.00000000e+00,\n",
      "       2.34665939e-03, 2.34665939e-03, 2.34665939e-03, 2.34665939e-03,\n",
      "       0.00000000e+00, 0.00000000e+00, 0.00000000e+00, 0.00000000e+00,\n",
      "       0.00000000e+00, 0.00000000e+00, 0.00000000e+00, 0.00000000e+00,\n",
      "       2.34665939e-03, 2.34665939e-03, 0.00000000e+00, 0.00000000e+00,\n",
      "       1.69648288e+00, 1.69648288e+00, 1.69648288e+00, 1.69648288e+00,\n",
      "       0.00000000e+00, 0.00000000e+00, 0.00000000e+00, 0.00000000e+00,\n",
      "       1.91913790e+00, 1.91913790e+00, 1.91913790e+00, 1.91913790e+00,\n",
      "       1.69648288e+00, 1.69648288e+00, 2.69019512e-04, 2.69019512e-04,\n",
      "       0.00000000e+00, 0.00000000e+00, 0.00000000e+00, 0.00000000e+00,\n",
      "       1.91913790e+00, 1.91913790e+00, 6.79173736e-04, 6.79173736e-04])\n"
     ]
    }
   ],
   "source": [
    "print(res)"
   ]
  },
  {
   "cell_type": "code",
   "execution_count": 75,
   "metadata": {},
   "outputs": [
    {
     "name": "stdout",
     "output_type": "stream",
     "text": [
      "[44 44 44 44  2  2  1  2 58 57 57 57 44 43  1  1  1  2  1  1 57 58  1  1\n",
      " 44 44 44 43  1  2  1  2 57 57 58 58 43 44  1  1  2  1  1  1 57 57  1  1\n",
      " 44 44 44 44  2  2  1  2 57 57 57 57 44 44  1  1  2  2  1  1 57 57  1  1\n",
      " 44 44 43 43  2  1  2  1 57 57 57 57 43 44  1  1  2  1  1  1 57 57  1  1\n",
      "  0  1  1  1  0  1  0  0 11 11 10 10  1  1  1  1  0  0  0  0 10 11  1  1\n",
      " 44 43 43 44  1  1  2  2 58 57 57 57 44 43  1  1  1  2  1  1 57 57  1  1\n",
      " 44 44 43 44  2  2  1  2 58 57 57 57 44 44  1  1  2  2  1  1 57 57  1  1\n",
      " 44 44 43 44  1  2  1  2 57 58 57 57 43 43  1  1  1  1  1  1 57 57  1  1\n",
      " 44 44 43 43  1  2  2  2 58 57 57 57 43 44  1  1  2  2  1  1 57 57  1  1\n",
      " 43 44 44 44  2  1  2  2 57 57 58 58 44 43  1  1  1  2  1  1 57 57  1  1\n",
      "  1  1  1  1  0  0  0  0 10 10 10 10  1  1  1  1  0  0  0  0 11 11  1  1\n",
      " 43 43 44 43  2  1  2  1 57 57 57 57 44 44  1  1  1  2  1  1 57 57  1  0\n",
      "  2  2  1  1  0  0  0  0  1  1  2  1  2  1  1  1  0  0  0  0  1  1  1  1\n",
      "  2  1  2  2  0  0  0  0  1  2  1  1  1  2  1  1  0  0  0  0  1  1  1  1\n",
      "  1  1  2  1  0  0  0  0  1  1  1  1  2  1  1  1  0  0  0  0  1  1  1  1\n",
      "  2  1  1  1  0  0  0  0  1  1  1  1  1  1  1  1  0  0  0  0  1  2  1  1\n",
      "  0  0  0  0  0  0  0  0  1  1  1  1  0  0  0  0  0  0  0  0  1  1  0  0\n",
      "  1  1  2  1  0  0  0  0  1  1  1  1  2  1  1  1  0  0  0  0  1  2  1  1\n",
      "  1  1  1  1  0  0  0  0  1  1  1  1  1  1  1  1  0  0  0  0  1  1  1  1\n",
      "  2  1  1  1  0  0  0  0  1  1  1  1  1  1  1  1  0  0  0  0  1  1  1  1\n",
      "  1  1  1  1  0  0  0  0  1  1  1  1  1  1  1  1  0  0  0  0  2  1  1  1\n",
      "  2  2  1  1  0  0  0  0  1  1  1  1  1  1  1  1  0  0  0  0  1  1  1  1\n",
      "  0  0  0  0  0  0  0  0  1  1  1  1  0  0  0  0  0  0  0  0  1  1  0  0\n",
      "  1  1  1  1  0  0  0  0  1  1  1  1  1  1  1  1  0  0  0  0  1  1  1  1]\n"
     ]
    }
   ],
   "source": [
    "int_x = randomized_rouding(res.x).astype(int)\n",
    "print(int_x)"
   ]
  },
  {
   "cell_type": "code",
   "execution_count": 76,
   "metadata": {},
   "outputs": [],
   "source": [
    "# generate data\n",
    "table_generate = generate_table_data(column_to_interval, int_x, column_variable_number)\n",
    "table_generate"
   ]
  },
  {
   "cell_type": "code",
   "execution_count": 81,
   "metadata": {
    "scrolled": true
   },
   "outputs": [],
   "source": [
    "diff = Q_error(query_set, table_generate)\n",
    "print(f\"min:    {np.min(diff)}\")\n",
    "print(f\"10:     {np.percentile(diff, 10)}\")\n",
    "print(f\"20:     {np.percentile(diff, 20)}\")\n",
    "print(f\"30:     {np.percentile(diff, 30)}\")\n",
    "print(f\"40:     {np.percentile(diff, 40)}\")\n",
    "print(f\"median: {np.median(diff)}\")\n",
    "print(f\"60:     {np.percentile(diff, 60)}\")\n",
    "print(f\"70:     {np.percentile(diff, 70)}\")\n",
    "print(f\"80:     {np.percentile(diff, 80)}\")\n",
    "print(f\"mean:   {np.mean(diff)}\")\n",
    "print(f\"90:     {np.percentile(diff, 90)}\")\n",
    "print(f\"max:    {np.max(diff)}\")"
   ]
  },
  {
   "cell_type": "code",
   "execution_count": null,
   "metadata": {},
   "outputs": [],
   "source": [
    "toc = time.time()\n",
    "total_time = toc - tic\n",
    "m, s = divmod(total_time, 60)\n",
    "h, m = divmod(m, 60)\n",
    "print(f\"Time passed:  {h:0>2.0f}:{m:0>2.0f}:{s:0>2.0f}\")"
   ]
  },
  {
   "cell_type": "code",
   "execution_count": null,
   "metadata": {},
   "outputs": [],
   "source": []
  },
  {
   "cell_type": "markdown",
   "metadata": {},
   "source": [
    "# Pulp"
   ]
  },
  {
   "cell_type": "code",
   "execution_count": 196,
   "metadata": {},
   "outputs": [],
   "source": [
    "import pulp"
   ]
  },
  {
   "cell_type": "code",
   "execution_count": null,
   "metadata": {},
   "outputs": [],
   "source": [
    "MyProbLP = pulp.LpProblem(\"LPProbDemo1\", sense=pulp.LpMaximize)  # 定义问题，求最小值 pulp.LpMinimize / 最大值"
   ]
  },
  {
   "cell_type": "code",
   "execution_count": 204,
   "metadata": {},
   "outputs": [],
   "source": [
    "x1 = pulp.LpVariable('x1', lowBound=0, upBound=7, cat='Integer') \n",
    "x2 = pulp.LpVariable('x2', lowBound=0, upBound=7, cat='Integer') \n",
    "x3 = pulp.LpVariable('x3', lowBound=0, upBound=7, cat='Continuous') "
   ]
  },
  {
   "cell_type": "code",
   "execution_count": 205,
   "metadata": {},
   "outputs": [],
   "source": [
    "MyProbLP += 2*x1 + 3*x2 - 5*x3  # 设置目标函数\n",
    "MyProbLP += (2*x1 - 5*x2 + x3 >= 10)  # 不等式约束\n",
    "MyProbLP += (x1 + 3*x2 + x3 <= 12)  # 不等式约束\n",
    "MyProbLP += (x1 + x2 + x3 == 7)  # 等式约束"
   ]
  },
  {
   "cell_type": "code",
   "execution_count": 206,
   "metadata": {},
   "outputs": [
    {
     "data": {
      "text/plain": [
       "1"
      ]
     },
     "execution_count": 206,
     "metadata": {},
     "output_type": "execute_result"
    }
   ],
   "source": [
    "MyProbLP.solve()"
   ]
  },
  {
   "cell_type": "code",
   "execution_count": 210,
   "metadata": {},
   "outputs": [
    {
     "name": "stdout",
     "output_type": "stream",
     "text": [
      "LPProbDemo1:\n",
      "MAXIMIZE\n",
      "2*x1 + 3*x2 + -5*x3 + 0\n",
      "SUBJECT TO\n",
      "_C1: 2 x1 - 5 x2 + x3 >= 10\n",
      "\n",
      "_C2: x1 + 3 x2 + x3 <= 12\n",
      "\n",
      "_C3: x1 + x2 + x3 = 7\n",
      "\n",
      "VARIABLES\n",
      "0 <= x1 <= 7 Integer\n",
      "0 <= x2 <= 7 Integer\n",
      "x3 <= 7 Continuous\n",
      "\n"
     ]
    }
   ],
   "source": [
    "print(MyProbLP)  # 输出问题设定参数和条件"
   ]
  },
  {
   "cell_type": "code",
   "execution_count": 207,
   "metadata": {},
   "outputs": [
    {
     "name": "stdout",
     "output_type": "stream",
     "text": [
      "Status: Optimal\n"
     ]
    }
   ],
   "source": [
    "print(\"Status:\", pulp.LpStatus[MyProbLP.status]) # 输出求解状态"
   ]
  },
  {
   "cell_type": "code",
   "execution_count": 208,
   "metadata": {},
   "outputs": [
    {
     "name": "stdout",
     "output_type": "stream",
     "text": [
      "x1 = 7.0\n",
      "x2 = 0.0\n",
      "x3 = 0.0\n"
     ]
    }
   ],
   "source": [
    "for v in MyProbLP.variables():\n",
    "    print(v.name, \"=\", v.varValue)  # 输出每个变量的最优值"
   ]
  },
  {
   "cell_type": "code",
   "execution_count": 209,
   "metadata": {},
   "outputs": [
    {
     "name": "stdout",
     "output_type": "stream",
     "text": [
      "F(x) =  14.0\n"
     ]
    }
   ],
   "source": [
    "print(\"F(x) = \", pulp.value(MyProbLP.objective))  #输出最优解的目标函数值"
   ]
  },
  {
   "cell_type": "code",
   "execution_count": null,
   "metadata": {},
   "outputs": [],
   "source": []
  },
  {
   "cell_type": "code",
   "execution_count": null,
   "metadata": {},
   "outputs": [],
   "source": []
  },
  {
   "cell_type": "code",
   "execution_count": null,
   "metadata": {},
   "outputs": [],
   "source": [
    "# 第二个实例"
   ]
  },
  {
   "cell_type": "code",
   "execution_count": 69,
   "metadata": {},
   "outputs": [
    {
     "name": "stdout",
     "output_type": "stream",
     "text": [
      "Data_Gen:\n",
      "MINIMIZE\n",
      "16*x_0 + 10*x_1 + 8*x_2 + 9*x_3 + 48*x_4 + 60*x_5 + 53*x_6 + 0\n",
      "SUBJECT TO\n",
      "table_length: x_0 + x_1 + x_2 + x_3 + x_4 + x_5 + x_6 = 6497\n",
      "\n",
      "VARIABLES\n",
      "x_0 <= 6497 Continuous\n",
      "x_1 <= 6497 Continuous\n",
      "x_2 <= 6497 Continuous\n",
      "x_3 <= 6497 Continuous\n",
      "x_4 <= 6497 Continuous\n",
      "x_5 <= 6497 Continuous\n",
      "x_6 <= 6497 Continuous\n",
      "\n",
      "优化状态: Optimal\n",
      "x_0 = 0.0\n",
      "x_1 = 0.0\n",
      "x_2 = 6497.0\n",
      "x_3 = 0.0\n",
      "x_4 = 0.0\n",
      "x_5 = 0.0\n",
      "x_6 = 0.0\n",
      "最优总成本 =  51976.0\n"
     ]
    },
    {
     "name": "stderr",
     "output_type": "stream",
     "text": [
      "/Users/hubble/opt/anaconda3/lib/python3.7/site-packages/pulp/pulp.py:1352: UserWarning: Spaces are not permitted in the name. Converted to '_'\n",
      "  warnings.warn(\"Spaces are not permitted in the name. Converted to '_'\")\n"
     ]
    }
   ],
   "source": [
    "import pulp\n",
    "\n",
    "# 1. 建立问题\n",
    "AlloyModel = pulp.LpProblem(\"Data Gen\", pulp.LpMinimize)\n",
    "# 2. 建立变量\n",
    "material = [i for i in range(7)]\n",
    "mass = pulp.LpVariable.dicts(\"x\", material, lowBound=0, upBound=n_row, cat='Continuous')\n",
    "# 3. 设置目标函数\n",
    "cost = {\n",
    "    0: 16,\n",
    "    1: 10,\n",
    "    2: 8,\n",
    "    3: 9,\n",
    "    4: 48,\n",
    "    5: 60,\n",
    "    6: 53}\n",
    "AlloyModel += pulp.lpSum([cost[item] * mass[item] for item in material]), \"Query error\"\n",
    "# # 4. 施加约束\n",
    "AlloyModel += pulp.lpSum([mass[item] for item in material]) == n_row, \"table length\"\n",
    "# 5. 求解\n",
    "AlloyModel.solve()\n",
    "# 6. 打印结果\n",
    "print(AlloyModel)  # 输出问题设定参数和条件\n",
    "print(\"优化状态:\", pulp.LpStatus[AlloyModel.status])\n",
    "for v in AlloyModel.variables():\n",
    "    print(v.name, \"=\", v.varValue)\n",
    "print(\"最优总成本 = \", pulp.value(AlloyModel.objective))"
   ]
  },
  {
   "cell_type": "markdown",
   "metadata": {},
   "source": [
    "## many attributes"
   ]
  },
  {
   "cell_type": "code",
   "execution_count": 233,
   "metadata": {},
   "outputs": [],
   "source": [
    "import pulp"
   ]
  },
  {
   "cell_type": "code",
   "execution_count": 267,
   "metadata": {},
   "outputs": [],
   "source": [
    "# 1. 建立最小化问题\n",
    "AlloyModel = pulp.LpProblem(\"many_attributes\", pulp.LpMinimize)"
   ]
  },
  {
   "cell_type": "code",
   "execution_count": 268,
   "metadata": {},
   "outputs": [],
   "source": [
    "x1 = pulp.LpVariable('x1', lowBound=0, upBound=7, cat='Integer') \n",
    "x2 = pulp.LpVariable('x2', lowBound=0, upBound=7, cat='Integer') \n",
    "x3 = pulp.LpVariable('x3', lowBound=0, upBound=7, cat='Continuous')\n",
    "x4 = pulp.LpVariable('x4', lowBound=0, upBound=7, cat='Continuous') "
   ]
  },
  {
   "cell_type": "code",
   "execution_count": 269,
   "metadata": {},
   "outputs": [],
   "source": [
    "# 3. 设置目标函数\n",
    "L = np.array([\n",
    "    [1, 1, 1, 1],\n",
    "    [0, 1, 1, 0],\n",
    "    [0, 0, 1, 1]\n",
    "])\n",
    "b = np.array([50, 30, 40])\n",
    "\n",
    "\n",
    "AlloyModel += x1 + x2 + x3 + x4#pulp.lpSum([item**2 for item in x1]), \"总生产成本\""
   ]
  },
  {
   "cell_type": "code",
   "execution_count": null,
   "metadata": {},
   "outputs": [],
   "source": [
    "# # 4. 施加约束\n",
    "carbonPercent = {\n",
    "    '废料1': 0.8,\n",
    "    '废料2': 0.7,\n",
    "    '废料3': 0.85,\n",
    "    '废料4': 0.4,\n",
    "    '镍': 0,\n",
    "    '铬': 0,\n",
    "    '钼': 0}\n",
    "NiPercent = {\n",
    "    '废料1': 18,\n",
    "    '废料2': 3.2,\n",
    "    '废料3': 0,\n",
    "    '废料4': 0,\n",
    "    '镍': 100,\n",
    "    '铬': 0,\n",
    "    '钼': 0}\n",
    "CrPercent = {\n",
    "    '废料1': 12,\n",
    "    '废料2': 1.1,\n",
    "    '废料3': 0,\n",
    "    '废料4': 0,\n",
    "    '镍': 0,\n",
    "    '铬': 100,\n",
    "    '钼': 0}\n",
    "MoPercent = {\n",
    "    '废料1': 0,\n",
    "    '废料2': 0.1,\n",
    "    '废料3': 0,\n",
    "    '废料4': 0,\n",
    "    '镍': 0,\n",
    "    '铬': 0,\n",
    "    '钼': 100}\n",
    "AlloyModel += pulp.lpSum([mass[item] for item in material]) == 1000, \"质量约束\"\n",
    "AlloyModel += pulp.lpSum([carbonPercent[item] * mass[item] for item in material]) >= 0.65*1000, \"碳最小占比\"\n",
    "AlloyModel += pulp.lpSum([carbonPercent[item] * mass[item] for item in material]) <= 0.75*1000, \"碳最大占比\"\n",
    "AlloyModel += pulp.lpSum([NiPercent[item] * mass[item] for item in material]) >= 3.0*1000, \"镍最小占比\"\n",
    "AlloyModel += pulp.lpSum([NiPercent[item] * mass[item] for item in material]) <= 3.5*1000, \"镍最大占比\"\n",
    "AlloyModel += pulp.lpSum([CrPercent[item] * mass[item] for item in material]) >= 1.0*1000, \"铬最小占比\"\n",
    "AlloyModel += pulp.lpSum([CrPercent[item] * mass[item] for item in material]) <= 1.2*1000, \"铬最大占比\"\n",
    "AlloyModel += pulp.lpSum([MoPercent[item] * mass[item] for item in material]) >= 1.1*1000, \"钼最小占比\"\n",
    "AlloyModel += pulp.lpSum([MoPercent[item] * mass[item] for item in material]) <= 1.3*1000, \"钼最大占比\"\n",
    "AlloyModel += mass['废料1'] <= 75, \"废料1可用量\"\n",
    "AlloyModel += mass['废料2'] <= 250, \"废料2可用量\""
   ]
  },
  {
   "cell_type": "code",
   "execution_count": 270,
   "metadata": {},
   "outputs": [
    {
     "data": {
      "text/plain": [
       "1"
      ]
     },
     "execution_count": 270,
     "metadata": {},
     "output_type": "execute_result"
    }
   ],
   "source": [
    "# 5. 求解\n",
    "AlloyModel.solve()"
   ]
  },
  {
   "cell_type": "code",
   "execution_count": 271,
   "metadata": {},
   "outputs": [
    {
     "name": "stdout",
     "output_type": "stream",
     "text": [
      "many_attributes:\n",
      "MINIMIZE\n",
      "1*x1 + 1*x2 + 1*x3 + 1*x4 + 0\n",
      "VARIABLES\n",
      "0 <= x1 <= 7 Integer\n",
      "0 <= x2 <= 7 Integer\n",
      "x3 <= 7 Continuous\n",
      "x4 <= 7 Continuous\n",
      "\n"
     ]
    }
   ],
   "source": [
    "# 6. 打印结果\n",
    "print(AlloyModel)  # 输出问题设定参数和条件"
   ]
  },
  {
   "cell_type": "code",
   "execution_count": 272,
   "metadata": {},
   "outputs": [
    {
     "name": "stdout",
     "output_type": "stream",
     "text": [
      "优化状态: Optimal\n",
      "x1 = 0.0\n",
      "x2 = 0.0\n",
      "x3 = 0.0\n",
      "x4 = 0.0\n",
      "最优总成本 =  0.0\n"
     ]
    }
   ],
   "source": [
    "print(\"优化状态:\", pulp.LpStatus[AlloyModel.status])\n",
    "for v in AlloyModel.variables():\n",
    "    print(v.name, \"=\", v.varValue)\n",
    "print(\"最优总成本 = \", pulp.value(AlloyModel.objective))"
   ]
  },
  {
   "cell_type": "code",
   "execution_count": null,
   "metadata": {},
   "outputs": [],
   "source": []
  },
  {
   "cell_type": "code",
   "execution_count": null,
   "metadata": {},
   "outputs": [],
   "source": []
  },
  {
   "cell_type": "code",
   "execution_count": null,
   "metadata": {},
   "outputs": [],
   "source": []
  },
  {
   "cell_type": "code",
   "execution_count": null,
   "metadata": {},
   "outputs": [],
   "source": []
  },
  {
   "cell_type": "code",
   "execution_count": null,
   "metadata": {},
   "outputs": [],
   "source": []
  },
  {
   "cell_type": "code",
   "execution_count": null,
   "metadata": {},
   "outputs": [],
   "source": []
  },
  {
   "cell_type": "code",
   "execution_count": null,
   "metadata": {},
   "outputs": [],
   "source": []
  },
  {
   "cell_type": "code",
   "execution_count": null,
   "metadata": {},
   "outputs": [],
   "source": []
  },
  {
   "cell_type": "code",
   "execution_count": null,
   "metadata": {},
   "outputs": [],
   "source": []
  },
  {
   "cell_type": "code",
   "execution_count": null,
   "metadata": {},
   "outputs": [],
   "source": []
  },
  {
   "cell_type": "code",
   "execution_count": null,
   "metadata": {},
   "outputs": [],
   "source": []
  },
  {
   "cell_type": "code",
   "execution_count": null,
   "metadata": {},
   "outputs": [],
   "source": []
  },
  {
   "cell_type": "code",
   "execution_count": null,
   "metadata": {},
   "outputs": [],
   "source": []
  },
  {
   "cell_type": "code",
   "execution_count": null,
   "metadata": {},
   "outputs": [],
   "source": []
  },
  {
   "cell_type": "code",
   "execution_count": null,
   "metadata": {},
   "outputs": [],
   "source": []
  }
 ],
 "metadata": {
  "hide_input": false,
  "kernelspec": {
   "display_name": "Python 3",
   "language": "python",
   "name": "python3"
  },
  "language_info": {
   "codemirror_mode": {
    "name": "ipython",
    "version": 3
   },
   "file_extension": ".py",
   "mimetype": "text/x-python",
   "name": "python",
   "nbconvert_exporter": "python",
   "pygments_lexer": "ipython3",
   "version": "3.7.7"
  },
  "toc": {
   "base_numbering": 1,
   "nav_menu": {},
   "number_sections": true,
   "sideBar": true,
   "skip_h1_title": false,
   "title_cell": "Table of Contents",
   "title_sidebar": "Contents",
   "toc_cell": false,
   "toc_position": {
    "height": "calc(100% - 180px)",
    "left": "10px",
    "top": "150px",
    "width": "384px"
   },
   "toc_section_display": true,
   "toc_window_display": false
  },
  "varInspector": {
   "cols": {
    "lenName": 16,
    "lenType": 16,
    "lenVar": 40
   },
   "kernels_config": {
    "python": {
     "delete_cmd_postfix": "",
     "delete_cmd_prefix": "del ",
     "library": "var_list.py",
     "varRefreshCmd": "print(var_dic_list())"
    },
    "r": {
     "delete_cmd_postfix": ") ",
     "delete_cmd_prefix": "rm(",
     "library": "var_list.r",
     "varRefreshCmd": "cat(var_dic_list()) "
    }
   },
   "oldHeight": 838.844,
   "position": {
    "height": "777.83px",
    "left": "891.938px",
    "right": "20px",
    "top": "3.97569px",
    "width": "542.535px"
   },
   "types_to_exclude": [
    "module",
    "function",
    "builtin_function_or_method",
    "instance",
    "_Feature"
   ],
   "varInspector_section_display": "block",
   "window_display": false
  }
 },
 "nbformat": 4,
 "nbformat_minor": 4
}
