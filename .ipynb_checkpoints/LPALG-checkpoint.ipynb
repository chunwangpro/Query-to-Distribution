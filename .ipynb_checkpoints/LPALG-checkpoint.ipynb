{
 "cells": [
  {
   "cell_type": "markdown",
   "metadata": {},
   "source": [
    "# LPALG With Relax-And-Round Strategy"
   ]
  },
  {
   "cell_type": "markdown",
   "metadata": {},
   "source": [
    "## Example 1: Single Table Single Attribute"
   ]
  },
  {
   "cell_type": "markdown",
   "metadata": {},
   "source": [
    "### Solve Problem"
   ]
  },
  {
   "cell_type": "code",
   "execution_count": 175,
   "metadata": {},
   "outputs": [],
   "source": [
    "import numpy as np\n",
    "import scipy as sc"
   ]
  },
  {
   "cell_type": "code",
   "execution_count": 176,
   "metadata": {},
   "outputs": [],
   "source": [
    "def fun(args):\n",
    "    L, b = args\n",
    "    def error(x):\n",
    "        return np.linalg.norm(L@x - b)**2\n",
    "    return error"
   ]
  },
  {
   "cell_type": "code",
   "execution_count": 177,
   "metadata": {},
   "outputs": [],
   "source": [
    "L = np.array([\n",
    "    [1, 1, 1, 1],\n",
    "    [0, 1, 1, 0],\n",
    "    [0, 0, 1, 1]\n",
    "])\n",
    "b = np.array([50, 30, 40])\n",
    "\n",
    "x0 = np.asarray((1,1,1,1))\n",
    "\n",
    "bounds = ((0, None), (0, None), (0, None), (0, None))  # 限制都为正数，不限制为整数\n",
    "\n",
    "args = (L, b)\n",
    "res = sc.optimize.minimize(fun(args), x0, method='SLSQP', bounds=bounds)"
   ]
  },
  {
   "cell_type": "code",
   "execution_count": 178,
   "metadata": {},
   "outputs": [
    {
     "name": "stdout",
     "output_type": "stream",
     "text": [
      "     fun: 3.465001739555754e-08\n",
      "     jac: array([0.00027614, 0.00050924, 0.00059885, 0.00036575])\n",
      " message: 'Optimization terminated successfully.'\n",
      "    nfev: 49\n",
      "     nit: 8\n",
      "    njev: 8\n",
      "  status: 0\n",
      " success: True\n",
      "       x: array([ 2.50002893,  7.50006434, 22.5000522 , 17.4999926 ])\n"
     ]
    }
   ],
   "source": [
    "print(res)"
   ]
  },
  {
   "cell_type": "markdown",
   "metadata": {},
   "source": [
    "### Randomized Rouding"
   ]
  },
  {
   "cell_type": "code",
   "execution_count": 179,
   "metadata": {},
   "outputs": [],
   "source": [
    "def randomized_rouding(x):\n",
    "    int_x = np.copy(x)\n",
    "    for i in range(len(x)):\n",
    "        xi = x[i]\n",
    "        floor = np.floor(xi)\n",
    "        ceil = np.ceil(xi)\n",
    "        int_x[i] = np.random.choice([floor, ceil], p=[xi-floor, ceil-xi])\n",
    "    return int_x"
   ]
  },
  {
   "cell_type": "code",
   "execution_count": 180,
   "metadata": {
    "scrolled": true
   },
   "outputs": [
    {
     "data": {
      "text/plain": [
       "array([ 2.,  8., 22., 18.])"
      ]
     },
     "execution_count": 180,
     "metadata": {},
     "output_type": "execute_result"
    }
   ],
   "source": [
    "int_x = randomized_rouding(res.x)\n",
    "int_x\n",
    "# 精确解为 [2, 8, 22, 18], [5, 5, 25, 15], [9, 1, 29, 11]  # 可能会有多组解"
   ]
  },
  {
   "cell_type": "markdown",
   "metadata": {},
   "source": [
    "## Example 2: Single Table Many Attribute"
   ]
  },
  {
   "cell_type": "markdown",
   "metadata": {},
   "source": [
    "### Solve Problem"
   ]
  },
  {
   "cell_type": "code",
   "execution_count": 187,
   "metadata": {},
   "outputs": [],
   "source": [
    "import numpy as np\n",
    "import scipy as sc"
   ]
  },
  {
   "cell_type": "code",
   "execution_count": 188,
   "metadata": {},
   "outputs": [],
   "source": [
    "def fun(args):\n",
    "    L, b = args\n",
    "    def error(x):\n",
    "        return np.linalg.norm(L@x - b)**2\n",
    "    return error"
   ]
  },
  {
   "cell_type": "code",
   "execution_count": 189,
   "metadata": {},
   "outputs": [],
   "source": [
    "def constraints():\n",
    "    # eq: constrain equal 0\n",
    "    # ineq: constrain greater or equal 0\n",
    "    return ({'type': 'ineq', 'fun': lambda x: min(x[0] - np.floor(x[0]), np.ceil(x[0]) - x[0])},\n",
    "            {'type': 'ineq', 'fun': lambda x: x[1]},#min(x[1] - np.floor(x[1]), np.ceil(x[1]) - x[1])},\n",
    "            {'type': 'ineq', 'fun': lambda x: x[2]},#min(x[2] - np.floor(x[2]), np.ceil(x[2]) - x[2])},\n",
    "            {'type': 'ineq', 'fun': lambda x: x[3]},#min(x[3] - np.floor(x[3]), np.ceil(x[3]) - x[3])},\n",
    "           )"
   ]
  },
  {
   "cell_type": "code",
   "execution_count": 190,
   "metadata": {},
   "outputs": [],
   "source": [
    "L = np.array([\n",
    "    [1, 1, 1, 1],\n",
    "    [0, 1, 1, 0],\n",
    "    [0, 0, 1, 1]\n",
    "])\n",
    "b = np.array([50, 30, 40])\n",
    "\n",
    "x0 = np.asarray((1,1,1,1))\n",
    "\n",
    "bounds = ((0, None), (0, None), (0, None), (0, None))  # 限制都为正数，不限制为整数\n",
    "\n",
    "args = (L, b)\n",
    "res = sc.optimize.minimize(fun(args), x0, method='SLSQP', constraints=constraints(), bounds=bounds)"
   ]
  },
  {
   "cell_type": "code",
   "execution_count": 191,
   "metadata": {},
   "outputs": [
    {
     "name": "stdout",
     "output_type": "stream",
     "text": [
      "     fun: 6.574164847724866e-09\n",
      "     jac: array([-1.33891155e-05, -1.74424904e-04, -1.87813999e-04, -2.67782101e-05])\n",
      " message: 'Optimization terminated successfully.'\n",
      "    nfev: 55\n",
      "     nit: 9\n",
      "    njev: 9\n",
      "  status: 0\n",
      " success: True\n",
      "       x: array([1.00000000e+01, 5.95290886e-19, 2.99999195e+01, 1.00000738e+01])\n"
     ]
    }
   ],
   "source": [
    "print(res)"
   ]
  },
  {
   "cell_type": "markdown",
   "metadata": {},
   "source": [
    "### Randomized Rouding"
   ]
  },
  {
   "cell_type": "code",
   "execution_count": 192,
   "metadata": {},
   "outputs": [],
   "source": [
    "def randomized_rouding(x):\n",
    "    int_x = np.copy(x)\n",
    "    for i in range(len(x)):\n",
    "        xi = x[i]\n",
    "        floor = np.floor(xi)\n",
    "        ceil = np.ceil(xi)\n",
    "        int_x[i] = np.random.choice([floor, ceil], p=[xi-floor, ceil-xi])\n",
    "    return int_x"
   ]
  },
  {
   "cell_type": "code",
   "execution_count": 193,
   "metadata": {
    "scrolled": true
   },
   "outputs": [
    {
     "data": {
      "text/plain": [
       "array([ 9.,  1., 29., 11.])"
      ]
     },
     "execution_count": 193,
     "metadata": {},
     "output_type": "execute_result"
    }
   ],
   "source": [
    "int_x = randomized_rouding(res.x)\n",
    "int_x\n",
    "# 精确解为 [2, 8, 22, 18], [5, 5, 25, 15], [9, 1, 29, 11]  # 可能会有多组解"
   ]
  },
  {
   "cell_type": "code",
   "execution_count": 194,
   "metadata": {},
   "outputs": [
    {
     "data": {
      "text/plain": [
       "0.0"
      ]
     },
     "execution_count": 194,
     "metadata": {},
     "output_type": "execute_result"
    }
   ],
   "source": [
    "np.linalg.norm(L@np.array([9, 1, 29, 11]) - b)**2"
   ]
  },
  {
   "cell_type": "code",
   "execution_count": null,
   "metadata": {},
   "outputs": [],
   "source": [
    "# SLSQP，OSQP，pulp，"
   ]
  },
  {
   "cell_type": "markdown",
   "metadata": {},
   "source": [
    "# pulp"
   ]
  },
  {
   "cell_type": "markdown",
   "metadata": {},
   "source": [
    "## 第一个实例"
   ]
  },
  {
   "cell_type": "code",
   "execution_count": 195,
   "metadata": {},
   "outputs": [
    {
     "name": "stdout",
     "output_type": "stream",
     "text": [
      "Looking in indexes: https://pypi.tuna.tsinghua.edu.cn/simple\n",
      "Collecting pulp\n",
      "  Downloading https://pypi.tuna.tsinghua.edu.cn/packages/37/77/fdaf479eac225c0c172a92be397dbdbc0ef35cb71767c3e8fec804b02239/PuLP-2.6.0-py3-none-any.whl (14.2 MB)\n",
      "\u001b[K     |████████████████████████████████| 14.2 MB 1.2 MB/s eta 0:00:01\n",
      "\u001b[?25hInstalling collected packages: pulp\n",
      "Successfully installed pulp-2.6.0\n",
      "\u001b[33mWARNING: You are using pip version 21.3.1; however, version 22.1.1 is available.\n",
      "You should consider upgrading via the '/Users/hubble/opt/anaconda3/bin/python -m pip install --upgrade pip' command.\u001b[0m\n"
     ]
    }
   ],
   "source": [
    "!pip install pulp"
   ]
  },
  {
   "cell_type": "code",
   "execution_count": 196,
   "metadata": {},
   "outputs": [],
   "source": [
    "import pulp"
   ]
  },
  {
   "cell_type": "code",
   "execution_count": null,
   "metadata": {},
   "outputs": [],
   "source": [
    "MyProbLP = pulp.LpProblem(\"LPProbDemo1\", sense=pulp.LpMaximize)  # 定义问题，求最小值 pulp.LpMinimize / 最大值"
   ]
  },
  {
   "cell_type": "code",
   "execution_count": 204,
   "metadata": {},
   "outputs": [],
   "source": [
    "x1 = pulp.LpVariable('x1', lowBound=0, upBound=7, cat='Integer') \n",
    "x2 = pulp.LpVariable('x2', lowBound=0, upBound=7, cat='Integer') \n",
    "x3 = pulp.LpVariable('x3', lowBound=0, upBound=7, cat='Continuous') "
   ]
  },
  {
   "cell_type": "code",
   "execution_count": 205,
   "metadata": {},
   "outputs": [],
   "source": [
    "MyProbLP += 2*x1 + 3*x2 - 5*x3  # 设置目标函数\n",
    "MyProbLP += (2*x1 - 5*x2 + x3 >= 10)  # 不等式约束\n",
    "MyProbLP += (x1 + 3*x2 + x3 <= 12)  # 不等式约束\n",
    "MyProbLP += (x1 + x2 + x3 == 7)  # 等式约束"
   ]
  },
  {
   "cell_type": "code",
   "execution_count": 206,
   "metadata": {},
   "outputs": [
    {
     "data": {
      "text/plain": [
       "1"
      ]
     },
     "execution_count": 206,
     "metadata": {},
     "output_type": "execute_result"
    }
   ],
   "source": [
    "MyProbLP.solve()"
   ]
  },
  {
   "cell_type": "code",
   "execution_count": 210,
   "metadata": {},
   "outputs": [
    {
     "name": "stdout",
     "output_type": "stream",
     "text": [
      "LPProbDemo1:\n",
      "MAXIMIZE\n",
      "2*x1 + 3*x2 + -5*x3 + 0\n",
      "SUBJECT TO\n",
      "_C1: 2 x1 - 5 x2 + x3 >= 10\n",
      "\n",
      "_C2: x1 + 3 x2 + x3 <= 12\n",
      "\n",
      "_C3: x1 + x2 + x3 = 7\n",
      "\n",
      "VARIABLES\n",
      "0 <= x1 <= 7 Integer\n",
      "0 <= x2 <= 7 Integer\n",
      "x3 <= 7 Continuous\n",
      "\n"
     ]
    }
   ],
   "source": [
    "print(MyProbLP)  # 输出问题设定参数和条件"
   ]
  },
  {
   "cell_type": "code",
   "execution_count": 207,
   "metadata": {},
   "outputs": [
    {
     "name": "stdout",
     "output_type": "stream",
     "text": [
      "Status: Optimal\n"
     ]
    }
   ],
   "source": [
    "print(\"Status:\", pulp.LpStatus[MyProbLP.status]) # 输出求解状态"
   ]
  },
  {
   "cell_type": "code",
   "execution_count": 208,
   "metadata": {},
   "outputs": [
    {
     "name": "stdout",
     "output_type": "stream",
     "text": [
      "x1 = 7.0\n",
      "x2 = 0.0\n",
      "x3 = 0.0\n"
     ]
    }
   ],
   "source": [
    "for v in MyProbLP.variables():\n",
    "    print(v.name, \"=\", v.varValue)  # 输出每个变量的最优值"
   ]
  },
  {
   "cell_type": "code",
   "execution_count": 209,
   "metadata": {},
   "outputs": [
    {
     "name": "stdout",
     "output_type": "stream",
     "text": [
      "F(x) =  14.0\n"
     ]
    }
   ],
   "source": [
    "print(\"F(x) = \", pulp.value(MyProbLP.objective))  #输出最优解的目标函数值"
   ]
  },
  {
   "cell_type": "markdown",
   "metadata": {},
   "source": [
    "## 第二个实例"
   ]
  },
  {
   "cell_type": "code",
   "execution_count": 211,
   "metadata": {},
   "outputs": [
    {
     "name": "stdout",
     "output_type": "stream",
     "text": [
      "钢材生产问题:\n",
      "MINIMIZE\n",
      "16*原料_废料1 + 10*原料_废料2 + 8*原料_废料3 + 9*原料_废料4 + 53*原料_钼 + 60*原料_铬 + 48*原料_镍 + 0\n",
      "SUBJECT TO\n",
      "质量约束: 原料_废料1 + 原料_废料2 + 原料_废料3 + 原料_废料4 + 原料_钼 + 原料_铬 + 原料_镍 = 1000\n",
      "\n",
      "碳最小占比: 0.8 原料_废料1 + 0.7 原料_废料2 + 0.85 原料_废料3 + 0.4 原料_废料4 >= 650\n",
      "\n",
      "碳最大占比: 0.8 原料_废料1 + 0.7 原料_废料2 + 0.85 原料_废料3 + 0.4 原料_废料4 <= 750\n",
      "\n",
      "镍最小占比: 18 原料_废料1 + 3.2 原料_废料2 + 100 原料_镍 >= 3000\n",
      "\n",
      "镍最大占比: 18 原料_废料1 + 3.2 原料_废料2 + 100 原料_镍 <= 3500\n",
      "\n",
      "铬最小占比: 12 原料_废料1 + 1.1 原料_废料2 + 100 原料_铬 >= 1000\n",
      "\n",
      "铬最大占比: 12 原料_废料1 + 1.1 原料_废料2 + 100 原料_铬 <= 1200\n",
      "\n",
      "钼最小占比: 0.1 原料_废料2 + 100 原料_钼 >= 1100\n",
      "\n",
      "钼最大占比: 0.1 原料_废料2 + 100 原料_钼 <= 1300\n",
      "\n",
      "废料1可用量: 原料_废料1 <= 75\n",
      "\n",
      "废料2可用量: 原料_废料2 <= 250\n",
      "\n",
      "VARIABLES\n",
      "原料_废料1 Continuous\n",
      "原料_废料2 Continuous\n",
      "原料_废料3 Continuous\n",
      "原料_废料4 Continuous\n",
      "原料_钼 Continuous\n",
      "原料_铬 Continuous\n",
      "原料_镍 Continuous\n",
      "\n",
      "优化状态: Optimal\n",
      "原料_废料1 = 75.0\n",
      "原料_废料2 = 90.909091\n",
      "原料_废料3 = 672.28283\n",
      "原料_废料4 = 137.30808\n",
      "原料_钼 = 10.909091\n",
      "原料_铬 = 0.0\n",
      "原料_镍 = 13.590909\n",
      "最优总成本 =  9953.671725000002\n"
     ]
    }
   ],
   "source": [
    "import pulp      # 导入 pulp库= 关注 Youcans，分享原创系列 https://blog.csdn.net/youcans =\n",
    "\n",
    "# 1. 建立问题\n",
    "AlloyModel = pulp.LpProblem(\"钢材生产问题\", pulp.LpMinimize)\n",
    "# 2. 建立变量\n",
    "material = ['废料1', '废料2', '废料3', '废料4', '镍', '铬', '钼']\n",
    "mass = pulp.LpVariable.dicts(\"原料\", material, lowBound=0, cat='Continuous')\n",
    "# 3. 设置目标函数\n",
    "cost = {\n",
    "    '废料1': 16,\n",
    "    '废料2': 10,\n",
    "    '废料3': 8,\n",
    "    '废料4': 9,\n",
    "    '镍': 48,\n",
    "    '铬': 60,\n",
    "    '钼': 53}\n",
    "AlloyModel += pulp.lpSum([cost[item] * mass[item] for item in material]), \"总生产成本\"\n",
    "# # 4. 施加约束\n",
    "carbonPercent = {\n",
    "    '废料1': 0.8,\n",
    "    '废料2': 0.7,\n",
    "    '废料3': 0.85,\n",
    "    '废料4': 0.4,\n",
    "    '镍': 0,\n",
    "    '铬': 0,\n",
    "    '钼': 0}\n",
    "NiPercent = {\n",
    "    '废料1': 18,\n",
    "    '废料2': 3.2,\n",
    "    '废料3': 0,\n",
    "    '废料4': 0,\n",
    "    '镍': 100,\n",
    "    '铬': 0,\n",
    "    '钼': 0}\n",
    "CrPercent = {\n",
    "    '废料1': 12,\n",
    "    '废料2': 1.1,\n",
    "    '废料3': 0,\n",
    "    '废料4': 0,\n",
    "    '镍': 0,\n",
    "    '铬': 100,\n",
    "    '钼': 0}\n",
    "MoPercent = {\n",
    "    '废料1': 0,\n",
    "    '废料2': 0.1,\n",
    "    '废料3': 0,\n",
    "    '废料4': 0,\n",
    "    '镍': 0,\n",
    "    '铬': 0,\n",
    "    '钼': 100}\n",
    "AlloyModel += pulp.lpSum([mass[item] for item in material]) == 1000, \"质量约束\"\n",
    "AlloyModel += pulp.lpSum([carbonPercent[item] * mass[item] for item in material]) >= 0.65*1000, \"碳最小占比\"\n",
    "AlloyModel += pulp.lpSum([carbonPercent[item] * mass[item] for item in material]) <= 0.75*1000, \"碳最大占比\"\n",
    "AlloyModel += pulp.lpSum([NiPercent[item] * mass[item] for item in material]) >= 3.0*1000, \"镍最小占比\"\n",
    "AlloyModel += pulp.lpSum([NiPercent[item] * mass[item] for item in material]) <= 3.5*1000, \"镍最大占比\"\n",
    "AlloyModel += pulp.lpSum([CrPercent[item] * mass[item] for item in material]) >= 1.0*1000, \"铬最小占比\"\n",
    "AlloyModel += pulp.lpSum([CrPercent[item] * mass[item] for item in material]) <= 1.2*1000, \"铬最大占比\"\n",
    "AlloyModel += pulp.lpSum([MoPercent[item] * mass[item] for item in material]) >= 1.1*1000, \"钼最小占比\"\n",
    "AlloyModel += pulp.lpSum([MoPercent[item] * mass[item] for item in material]) <= 1.3*1000, \"钼最大占比\"\n",
    "AlloyModel += mass['废料1'] <= 75, \"废料1可用量\"\n",
    "AlloyModel += mass['废料2'] <= 250, \"废料2可用量\"\n",
    "# 5. 求解\n",
    "AlloyModel.solve()\n",
    "# 6. 打印结果\n",
    "print(AlloyModel)  # 输出问题设定参数和条件\n",
    "print(\"优化状态:\", pulp.LpStatus[AlloyModel.status])\n",
    "for v in AlloyModel.variables():\n",
    "    print(v.name, \"=\", v.varValue)\n",
    "print(\"最优总成本 = \", pulp.value(AlloyModel.objective))"
   ]
  },
  {
   "cell_type": "markdown",
   "metadata": {},
   "source": [
    "## many attributes"
   ]
  },
  {
   "cell_type": "code",
   "execution_count": 236,
   "metadata": {},
   "outputs": [],
   "source": [
    "import sympy as sym"
   ]
  },
  {
   "cell_type": "code",
   "execution_count": 262,
   "metadata": {},
   "outputs": [],
   "source": [
    "# 2. 建立变量\n",
    "x1_vector = ['x1', 'x2', 'x3', 'x4']\n",
    "x1 = pulp.LpVariable.dicts(\"x1\", x1_vector, lowBound=0, cat='Continuous')"
   ]
  },
  {
   "cell_type": "code",
   "execution_count": 263,
   "metadata": {},
   "outputs": [],
   "source": [
    "L = np.array([\n",
    "    [1, 1, 1, 1],\n",
    "    [0, 1, 1, 0],\n",
    "    [0, 0, 1, 1]\n",
    "])"
   ]
  },
  {
   "cell_type": "code",
   "execution_count": 264,
   "metadata": {},
   "outputs": [],
   "source": [
    "x1 = sym.symbols('x1 x2 x3 x4')"
   ]
  },
  {
   "cell_type": "code",
   "execution_count": 265,
   "metadata": {},
   "outputs": [],
   "source": [
    "error = L @ x1 - b"
   ]
  },
  {
   "cell_type": "code",
   "execution_count": 266,
   "metadata": {},
   "outputs": [
    {
     "data": {
      "text/latex": [
       "$\\displaystyle x_{1} + x_{2} + x_{3} + x_{4} - 50$"
      ],
      "text/plain": [
       "x1 + x2 + x3 + x4 - 50"
      ]
     },
     "execution_count": 266,
     "metadata": {},
     "output_type": "execute_result"
    }
   ],
   "source": [
    "error[0]"
   ]
  },
  {
   "cell_type": "code",
   "execution_count": null,
   "metadata": {},
   "outputs": [],
   "source": []
  },
  {
   "cell_type": "code",
   "execution_count": null,
   "metadata": {},
   "outputs": [],
   "source": []
  },
  {
   "cell_type": "code",
   "execution_count": 233,
   "metadata": {},
   "outputs": [],
   "source": [
    "import pulp"
   ]
  },
  {
   "cell_type": "code",
   "execution_count": 267,
   "metadata": {},
   "outputs": [],
   "source": [
    "# 1. 建立最小化问题\n",
    "AlloyModel = pulp.LpProblem(\"many_attributes\", pulp.LpMinimize)"
   ]
  },
  {
   "cell_type": "code",
   "execution_count": 268,
   "metadata": {},
   "outputs": [],
   "source": [
    "x1 = pulp.LpVariable('x1', lowBound=0, upBound=7, cat='Integer') \n",
    "x2 = pulp.LpVariable('x2', lowBound=0, upBound=7, cat='Integer') \n",
    "x3 = pulp.LpVariable('x3', lowBound=0, upBound=7, cat='Continuous')\n",
    "x4 = pulp.LpVariable('x4', lowBound=0, upBound=7, cat='Continuous') "
   ]
  },
  {
   "cell_type": "code",
   "execution_count": 269,
   "metadata": {},
   "outputs": [],
   "source": [
    "# 3. 设置目标函数\n",
    "L = np.array([\n",
    "    [1, 1, 1, 1],\n",
    "    [0, 1, 1, 0],\n",
    "    [0, 0, 1, 1]\n",
    "])\n",
    "b = np.array([50, 30, 40])\n",
    "\n",
    "\n",
    "AlloyModel += x1 + x2 + x3 + x4#pulp.lpSum([item**2 for item in x1]), \"总生产成本\""
   ]
  },
  {
   "cell_type": "code",
   "execution_count": null,
   "metadata": {},
   "outputs": [],
   "source": [
    "# # 4. 施加约束\n",
    "carbonPercent = {\n",
    "    '废料1': 0.8,\n",
    "    '废料2': 0.7,\n",
    "    '废料3': 0.85,\n",
    "    '废料4': 0.4,\n",
    "    '镍': 0,\n",
    "    '铬': 0,\n",
    "    '钼': 0}\n",
    "NiPercent = {\n",
    "    '废料1': 18,\n",
    "    '废料2': 3.2,\n",
    "    '废料3': 0,\n",
    "    '废料4': 0,\n",
    "    '镍': 100,\n",
    "    '铬': 0,\n",
    "    '钼': 0}\n",
    "CrPercent = {\n",
    "    '废料1': 12,\n",
    "    '废料2': 1.1,\n",
    "    '废料3': 0,\n",
    "    '废料4': 0,\n",
    "    '镍': 0,\n",
    "    '铬': 100,\n",
    "    '钼': 0}\n",
    "MoPercent = {\n",
    "    '废料1': 0,\n",
    "    '废料2': 0.1,\n",
    "    '废料3': 0,\n",
    "    '废料4': 0,\n",
    "    '镍': 0,\n",
    "    '铬': 0,\n",
    "    '钼': 100}\n",
    "AlloyModel += pulp.lpSum([mass[item] for item in material]) == 1000, \"质量约束\"\n",
    "AlloyModel += pulp.lpSum([carbonPercent[item] * mass[item] for item in material]) >= 0.65*1000, \"碳最小占比\"\n",
    "AlloyModel += pulp.lpSum([carbonPercent[item] * mass[item] for item in material]) <= 0.75*1000, \"碳最大占比\"\n",
    "AlloyModel += pulp.lpSum([NiPercent[item] * mass[item] for item in material]) >= 3.0*1000, \"镍最小占比\"\n",
    "AlloyModel += pulp.lpSum([NiPercent[item] * mass[item] for item in material]) <= 3.5*1000, \"镍最大占比\"\n",
    "AlloyModel += pulp.lpSum([CrPercent[item] * mass[item] for item in material]) >= 1.0*1000, \"铬最小占比\"\n",
    "AlloyModel += pulp.lpSum([CrPercent[item] * mass[item] for item in material]) <= 1.2*1000, \"铬最大占比\"\n",
    "AlloyModel += pulp.lpSum([MoPercent[item] * mass[item] for item in material]) >= 1.1*1000, \"钼最小占比\"\n",
    "AlloyModel += pulp.lpSum([MoPercent[item] * mass[item] for item in material]) <= 1.3*1000, \"钼最大占比\"\n",
    "AlloyModel += mass['废料1'] <= 75, \"废料1可用量\"\n",
    "AlloyModel += mass['废料2'] <= 250, \"废料2可用量\""
   ]
  },
  {
   "cell_type": "code",
   "execution_count": 270,
   "metadata": {},
   "outputs": [
    {
     "data": {
      "text/plain": [
       "1"
      ]
     },
     "execution_count": 270,
     "metadata": {},
     "output_type": "execute_result"
    }
   ],
   "source": [
    "# 5. 求解\n",
    "AlloyModel.solve()"
   ]
  },
  {
   "cell_type": "code",
   "execution_count": 271,
   "metadata": {},
   "outputs": [
    {
     "name": "stdout",
     "output_type": "stream",
     "text": [
      "many_attributes:\n",
      "MINIMIZE\n",
      "1*x1 + 1*x2 + 1*x3 + 1*x4 + 0\n",
      "VARIABLES\n",
      "0 <= x1 <= 7 Integer\n",
      "0 <= x2 <= 7 Integer\n",
      "x3 <= 7 Continuous\n",
      "x4 <= 7 Continuous\n",
      "\n"
     ]
    }
   ],
   "source": [
    "# 6. 打印结果\n",
    "print(AlloyModel)  # 输出问题设定参数和条件"
   ]
  },
  {
   "cell_type": "code",
   "execution_count": 272,
   "metadata": {},
   "outputs": [
    {
     "name": "stdout",
     "output_type": "stream",
     "text": [
      "优化状态: Optimal\n",
      "x1 = 0.0\n",
      "x2 = 0.0\n",
      "x3 = 0.0\n",
      "x4 = 0.0\n",
      "最优总成本 =  0.0\n"
     ]
    }
   ],
   "source": [
    "print(\"优化状态:\", pulp.LpStatus[AlloyModel.status])\n",
    "for v in AlloyModel.variables():\n",
    "    print(v.name, \"=\", v.varValue)\n",
    "print(\"最优总成本 = \", pulp.value(AlloyModel.objective))"
   ]
  },
  {
   "cell_type": "code",
   "execution_count": null,
   "metadata": {},
   "outputs": [],
   "source": []
  },
  {
   "cell_type": "code",
   "execution_count": null,
   "metadata": {},
   "outputs": [],
   "source": []
  }
 ],
 "metadata": {
  "hide_input": false,
  "kernelspec": {
   "display_name": "Python 3",
   "language": "python",
   "name": "python3"
  },
  "language_info": {
   "codemirror_mode": {
    "name": "ipython",
    "version": 3
   },
   "file_extension": ".py",
   "mimetype": "text/x-python",
   "name": "python",
   "nbconvert_exporter": "python",
   "pygments_lexer": "ipython3",
   "version": "3.7.7"
  },
  "toc": {
   "base_numbering": 1,
   "nav_menu": {},
   "number_sections": true,
   "sideBar": true,
   "skip_h1_title": false,
   "title_cell": "Table of Contents",
   "title_sidebar": "Contents",
   "toc_cell": false,
   "toc_position": {
    "height": "calc(100% - 180px)",
    "left": "10px",
    "top": "150px",
    "width": "384px"
   },
   "toc_section_display": true,
   "toc_window_display": true
  },
  "varInspector": {
   "cols": {
    "lenName": 16,
    "lenType": 16,
    "lenVar": 40
   },
   "kernels_config": {
    "python": {
     "delete_cmd_postfix": "",
     "delete_cmd_prefix": "del ",
     "library": "var_list.py",
     "varRefreshCmd": "print(var_dic_list())"
    },
    "r": {
     "delete_cmd_postfix": ") ",
     "delete_cmd_prefix": "rm(",
     "library": "var_list.r",
     "varRefreshCmd": "cat(var_dic_list()) "
    }
   },
   "types_to_exclude": [
    "module",
    "function",
    "builtin_function_or_method",
    "instance",
    "_Feature"
   ],
   "window_display": false
  }
 },
 "nbformat": 4,
 "nbformat_minor": 4
}
