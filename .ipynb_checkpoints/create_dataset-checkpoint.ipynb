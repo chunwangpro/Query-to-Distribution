{
 "cells": [
  {
   "cell_type": "code",
   "execution_count": null,
   "id": "967183fe",
   "metadata": {},
   "outputs": [],
   "source": [
    "import numpy as np\n",
    "import pandas as pd"
   ]
  },
  {
   "cell_type": "code",
   "execution_count": null,
   "id": "aa75be5b",
   "metadata": {},
   "outputs": [],
   "source": [
    "n = 100\n",
    "df = pd.DataFrame({'col_0': np.random.permutation(range(1, n+1)), 'col_1': [np.random.choice(i)+1 for i in range(1, n+1)], 'col_2': [1]*(n//2) + [2]*(n//2)})\n",
    "df"
   ]
  },
  {
   "cell_type": "code",
   "execution_count": null,
   "id": "4ba05f3b",
   "metadata": {},
   "outputs": [],
   "source": [
    "df.to_csv(\"./datasets/test.csv\", header=False, index=False)"
   ]
  },
  {
   "cell_type": "code",
   "execution_count": null,
   "id": "1f127388",
   "metadata": {},
   "outputs": [],
   "source": [
    "# create wine2.csv\n",
    "aaaa = pd.read_csv(\"./datasets/wine3.csv\", header=None)\n",
    "aaaa.columns=['col1', 'col2', 'col3']\n",
    "aaaa[[\"col1\", \"col2\"]].to_csv(\"./datasets/wine2.csv\", header=None, index=None)"
   ]
  }
 ],
 "metadata": {
  "kernelspec": {
   "display_name": "Python 3 (ipykernel)",
   "language": "python",
   "name": "python3"
  },
  "language_info": {
   "codemirror_mode": {
    "name": "ipython",
    "version": 3
   },
   "file_extension": ".py",
   "mimetype": "text/x-python",
   "name": "python",
   "nbconvert_exporter": "python",
   "pygments_lexer": "ipython3",
   "version": "3.7.16"
  }
 },
 "nbformat": 4,
 "nbformat_minor": 5
}
