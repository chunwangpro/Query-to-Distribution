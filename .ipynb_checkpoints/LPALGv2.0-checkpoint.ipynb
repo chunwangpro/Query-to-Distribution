{
 "cells": [
  {
   "cell_type": "code",
   "execution_count": 1,
   "metadata": {
    "deletable": false,
    "editable": false
   },
   "outputs": [
    {
     "name": "stdout",
     "output_type": "stream",
     "text": [
      "# conda environments:\r\n",
      "#\r\n",
      "base                  *  /Users/hubble/opt/anaconda3\r\n",
      "\r\n"
     ]
    }
   ],
   "source": [
    "!conda env list"
   ]
  },
  {
   "cell_type": "markdown",
   "metadata": {
    "deletable": false,
    "editable": false
   },
   "source": [
    "- [x] 测试是否有等于0的数据 -> 无\n",
    "- [x] 测试增加 > <后，sys.maximize之后是否正确 -> 查看column等变量没有问题\n",
    "- [x] 测试@符号与x[value].sum()之间是否相等\n",
    "- [x] 优化fun的for循环\n",
    "- [x] 优化query constraints里的itertool.product方法的for循环\n",
    "- [ ] 减少列数\n",
    "- [ ] 修改sys.maximize为一个合适的大小，之后再对数据进行normalization，其实在LPALG中不需要normalization，这点在神经网络里就显得特别重要了，先变成normal distribution 再求逆映射转换回原先的分布。normal distribution能加速网络学习，提升网络拟合精度。\n",
    "- [ ] 尝试multiprocessing、joblib\n",
    "- [ ] 尝试pulp、OSQP（C++）"
   ]
  },
  {
   "cell_type": "code",
   "execution_count": 1,
   "metadata": {
    "deletable": false,
    "editable": false
   },
   "outputs": [
    {
     "data": {
      "text/plain": [
       "array([1, 2, 3])"
      ]
     },
     "execution_count": 1,
     "metadata": {},
     "output_type": "execute_result"
    }
   ],
   "source": [
    "import numpy as np\n",
    "np.array([1,2,3])"
   ]
  },
  {
   "cell_type": "code",
   "execution_count": 2,
   "metadata": {
    "deletable": false,
    "editable": false,
    "scrolled": true
   },
   "outputs": [
    {
     "name": "stderr",
     "output_type": "stream",
     "text": [
      "2023-03-22 11:19:56.753090: I tensorflow/core/platform/cpu_feature_guard.cc:193] This TensorFlow binary is optimized with oneAPI Deep Neural Network Library (oneDNN) to use the following CPU instructions in performance-critical operations:  AVX2 FMA\n",
      "To enable them in other operations, rebuild TensorFlow with the appropriate compiler flags.\n",
      "2023-03-22 11:19:59.855663: I tensorflow/core/platform/cpu_feature_guard.cc:193] This TensorFlow binary is optimized with oneAPI Deep Neural Network Library (oneDNN) to use the following CPU instructions in performance-critical operations:  AVX2 FMA\n",
      "To enable them in other operations, rebuild TensorFlow with the appropriate compiler flags.\n"
     ]
    },
    {
     "data": {
      "text/plain": [
       "<tf.Tensor: shape=(3,), dtype=float32, numpy=array([2., 4., 6.], dtype=float32)>"
      ]
     },
     "execution_count": 2,
     "metadata": {},
     "output_type": "execute_result"
    }
   ],
   "source": [
    "import tensorflow as tf\n",
    "a = tf.constant([1.0,2.0,3.0],shape = [3], name='a')\n",
    "b = tf.constant([1.0,2.0,3.0], shape = [3], name='b')\n",
    "a + b"
   ]
  },
  {
   "cell_type": "code",
   "execution_count": 3,
   "metadata": {
    "deletable": false,
    "editable": false
   },
   "outputs": [
    {
     "data": {
      "text/plain": [
       "tensor([[0.0564, 0.3365, 0.9122],\n",
       "        [0.3899, 0.2135, 0.0993],\n",
       "        [0.4875, 0.1269, 0.3280],\n",
       "        [0.9049, 0.1867, 0.6006],\n",
       "        [0.6287, 0.1585, 0.8693]])"
      ]
     },
     "execution_count": 3,
     "metadata": {},
     "output_type": "execute_result"
    }
   ],
   "source": [
    "import torch\n",
    "torch.rand(5,3)"
   ]
  },
  {
   "cell_type": "code",
   "execution_count": 4,
   "metadata": {
    "deletable": false,
    "editable": false
   },
   "outputs": [
    {
     "data": {
      "text/plain": [
       "'2.11.0'"
      ]
     },
     "execution_count": 4,
     "metadata": {},
     "output_type": "execute_result"
    }
   ],
   "source": [
    "tf.__version__"
   ]
  },
  {
   "cell_type": "code",
   "execution_count": 6,
   "metadata": {
    "deletable": false,
    "editable": false
   },
   "outputs": [
    {
     "name": "stdout",
     "output_type": "stream",
     "text": [
      "# packages in environment at /Users/hubble/miniforge3/envs/tf25py39:\r\n",
      "#\r\n",
      "# Name                    Version                   Build  Channel\r\n",
      "absl-py                   1.2.0                    pypi_0    pypi\r\n",
      "aom                       3.4.0                hbe31e94_1    conda-forge\r\n",
      "appnope                   0.1.3              pyhd8ed1ab_0    conda-forge\r\n",
      "argon2-cffi               21.3.0             pyhd8ed1ab_0    conda-forge\r\n",
      "argon2-cffi-bindings      21.2.0           py39hb18efdd_2    conda-forge\r\n",
      "asttokens                 2.0.8              pyhd8ed1ab_0    conda-forge\r\n",
      "astunparse                1.6.3              pyhd8ed1ab_0    conda-forge\r\n",
      "attrs                     22.1.0             pyh71513ae_1    conda-forge\r\n",
      "autopep8                  1.7.0              pyhd8ed1ab_0    conda-forge\r\n",
      "backcall                  0.2.0              pyh9f0ad1d_0    conda-forge\r\n",
      "backports                 1.0                        py_2    conda-forge\r\n",
      "backports.functools_lru_cache 1.6.4              pyhd8ed1ab_0    conda-forge\r\n",
      "beautifulsoup4            4.11.1             pyha770c72_0    conda-forge\r\n",
      "bleach                    5.0.1              pyhd8ed1ab_0    conda-forge\r\n",
      "blosc                     1.21.1               hd414afc_3    conda-forge\r\n",
      "brotli                    1.0.9                h1c322ee_7    conda-forge\r\n",
      "brotli-bin                1.0.9                h1c322ee_7    conda-forge\r\n",
      "brotlipy                  0.7.0           py39hb18efdd_1004    conda-forge\r\n",
      "brunsli                   0.1                  h9f76cd9_0    conda-forge\r\n",
      "bzip2                     1.0.8                h3422bc3_4    conda-forge\r\n",
      "c-ares                    1.18.1               h3422bc3_0    conda-forge\r\n",
      "c-blosc2                  2.3.0                h303ed30_0    conda-forge\r\n",
      "ca-certificates           2022.6.15            h4653dfc_0    conda-forge\r\n",
      "cached-property           1.5.2                hd8ed1ab_1    conda-forge\r\n",
      "cached_property           1.5.2              pyha770c72_1    conda-forge\r\n",
      "cachetools                5.2.0                    pypi_0    pypi\r\n",
      "certifi                   2022.6.15        py39h2804cbe_0    conda-forge\r\n",
      "cffi                      1.15.1           py39h04d3946_0    conda-forge\r\n",
      "cfitsio                   4.1.0                hd4f5c17_0    conda-forge\r\n",
      "charls                    2.3.4                hbdafb3b_0    conda-forge\r\n",
      "charset-normalizer        2.1.0              pyhd8ed1ab_0    conda-forge\r\n",
      "cloudpickle               2.1.0              pyhd8ed1ab_0    conda-forge\r\n",
      "cryptography              37.0.4           py39h4cb6239_0    conda-forge\r\n",
      "cycler                    0.11.0             pyhd8ed1ab_0    conda-forge\r\n",
      "cytoolz                   0.12.0           py39h9eb174b_0    conda-forge\r\n",
      "dask-core                 2022.8.1           pyhd8ed1ab_0    conda-forge\r\n",
      "dav1d                     1.0.0                he4db4b2_1    conda-forge\r\n",
      "debugpy                   1.6.3            py39h3c22d25_0    conda-forge\r\n",
      "decorator                 5.1.1              pyhd8ed1ab_0    conda-forge\r\n",
      "defusedxml                0.7.1              pyhd8ed1ab_0    conda-forge\r\n",
      "dm-sonnet                 2.0.0                    pypi_0    pypi\r\n",
      "dm-tree                   0.1.7                    pypi_0    pypi\r\n",
      "entrypoints               0.4                pyhd8ed1ab_0    conda-forge\r\n",
      "executing                 0.10.0             pyhd8ed1ab_0    conda-forge\r\n",
      "expat                     2.4.8                h6b3803e_0    conda-forge\r\n",
      "ffmpeg                    5.1.0           gpl_hfdc7bce_101    conda-forge\r\n",
      "flake8                    5.0.4              pyhd8ed1ab_0    conda-forge\r\n",
      "flatbuffers               1.12                     pypi_0    pypi\r\n",
      "flit-core                 3.7.1              pyhd8ed1ab_0    conda-forge\r\n",
      "font-ttf-dejavu-sans-mono 2.37                 hab24e00_0    conda-forge\r\n",
      "font-ttf-inconsolata      3.000                h77eed37_0    conda-forge\r\n",
      "font-ttf-source-code-pro  2.038                h77eed37_0    conda-forge\r\n",
      "font-ttf-ubuntu           0.83                 hab24e00_0    conda-forge\r\n",
      "fontconfig                2.14.0               hfb34624_0    conda-forge\r\n",
      "fonts-conda-ecosystem     1                             0    conda-forge\r\n",
      "fonts-conda-forge         1                             0    conda-forge\r\n",
      "fonttools                 4.36.0           py39h4eb3d34_0    conda-forge\r\n",
      "freetype                  2.12.1               hd633e50_0    conda-forge\r\n",
      "fsspec                    2022.7.1           pyhd8ed1ab_0    conda-forge\r\n",
      "gast                      0.4.0              pyh9f0ad1d_0    conda-forge\r\n",
      "gettext                   0.19.8.1          h049c9fb_1008    conda-forge\r\n",
      "giflib                    5.2.1                h27ca646_2    conda-forge\r\n",
      "gmp                       6.2.1                h9f76cd9_0    conda-forge\r\n",
      "gnutls                    3.7.7                h27a1928_0    conda-forge\r\n",
      "google-auth               2.11.0                   pypi_0    pypi\r\n",
      "google-auth-oauthlib      0.4.6                    pypi_0    pypi\r\n",
      "google-pasta              0.2.0              pyh8c360ce_0    conda-forge\r\n",
      "grpcio                    1.34.1           py39h1eaaf2b_0    conda-forge\r\n",
      "h5py                      3.1.0           nompi_py39h99babb8_100    conda-forge\r\n",
      "hdf5                      1.10.6          nompi_h0fc092c_1114    conda-forge\r\n",
      "icu                       70.1                 h6b3803e_0    conda-forge\r\n",
      "idna                      3.3                pyhd8ed1ab_0    conda-forge\r\n",
      "imagecodecs               2022.8.8         py39h6d89392_4    conda-forge\r\n",
      "imageio                   2.21.1             pyhfa7a67d_0    conda-forge\r\n",
      "importlib-metadata        4.11.4           py39h2804cbe_0    conda-forge\r\n",
      "importlib_resources       5.9.0              pyhd8ed1ab_0    conda-forge\r\n",
      "ipykernel                 6.15.1             pyh736e0ef_0    conda-forge\r\n",
      "ipython                   8.4.0            py39h2804cbe_0    conda-forge\r\n",
      "ipython_genutils          0.2.0                      py_1    conda-forge\r\n",
      "ipywidgets                8.0.1              pyhd8ed1ab_0    conda-forge\r\n",
      "jedi                      0.18.1             pyhd8ed1ab_2    conda-forge\r\n",
      "jinja2                    3.1.2              pyhd8ed1ab_1    conda-forge\r\n",
      "joblib                    1.1.0              pyhd8ed1ab_0    conda-forge\r\n",
      "jpeg                      9e                   he4db4b2_2    conda-forge\r\n",
      "jsonschema                4.9.1              pyhd8ed1ab_0    conda-forge\r\n",
      "jupyter                   1.0.0            py39h2804cbe_7    conda-forge\r\n",
      "jupyter_client            7.3.4              pyhd8ed1ab_0    conda-forge\r\n",
      "jupyter_console           6.4.4              pyhd8ed1ab_0    conda-forge\r\n",
      "jupyter_core              4.11.1           py39h2804cbe_0    conda-forge\r\n",
      "jupyterlab_pygments       0.2.2              pyhd8ed1ab_0    conda-forge\r\n",
      "jupyterlab_widgets        3.0.2              pyhd8ed1ab_0    conda-forge\r\n",
      "jxrlib                    1.1                  h27ca646_2    conda-forge\r\n",
      "keras                     2.9.0                    pypi_0    pypi\r\n",
      "keras-preprocessing       1.1.2              pyhd8ed1ab_0    conda-forge\r\n",
      "kiwisolver                1.4.4            py39hab5e169_0    conda-forge\r\n",
      "krb5                      1.19.3               hf9b2bbe_0    conda-forge\r\n",
      "lame                      3.100             h27ca646_1001    conda-forge\r\n",
      "lcms2                     2.12                 had6a04f_0    conda-forge\r\n",
      "lerc                      4.0.0                h9a09cb3_0    conda-forge\r\n",
      "libaec                    1.0.6                hbdafb3b_0    conda-forge\r\n",
      "libavif                   0.10.1               he4db4b2_1    conda-forge\r\n",
      "libblas                   3.9.0           16_osxarm64_openblas    conda-forge\r\n",
      "libbrotlicommon           1.0.9                h1c322ee_7    conda-forge\r\n",
      "libbrotlidec              1.0.9                h1c322ee_7    conda-forge\r\n",
      "libbrotlienc              1.0.9                h1c322ee_7    conda-forge\r\n",
      "libcblas                  3.9.0           16_osxarm64_openblas    conda-forge\r\n",
      "libclang                  14.0.6                   pypi_0    pypi\r\n",
      "libcurl                   7.83.1               h2fcd78c_0    conda-forge\r\n",
      "libcxx                    14.0.6               h04bba0f_0    conda-forge\r\n",
      "libdeflate                1.13                 h57fd34a_0    conda-forge\r\n",
      "libedit                   3.1.20191231         hc8eb9b7_2    conda-forge\r\n",
      "libev                     4.33                 h642e427_1    conda-forge\r\n",
      "libffi                    3.4.2                h3422bc3_5    conda-forge\r\n",
      "libgfortran               5.0.0           11_3_0_hd922786_25    conda-forge\r\n",
      "libgfortran5              11.3.0              hdaf2cc0_25    conda-forge\r\n",
      "libiconv                  1.16                 h642e427_0    conda-forge\r\n",
      "libidn2                   2.3.3                he4db4b2_0    conda-forge\r\n",
      "liblapack                 3.9.0           16_osxarm64_openblas    conda-forge\r\n",
      "libnghttp2                1.47.0               h232270b_1    conda-forge\r\n",
      "libopenblas               0.3.21          openmp_hc731615_2    conda-forge\r\n",
      "libpng                    1.6.37               h9b2ccdc_4    conda-forge\r\n",
      "libprotobuf               3.20.1               hb558339_1    conda-forge\r\n",
      "libsodium                 1.0.18               h27ca646_1    conda-forge\r\n",
      "libsqlite                 3.39.2               h2c9beb0_1    conda-forge\r\n",
      "libssh2                   1.10.0               hb80f160_3    conda-forge\r\n",
      "libtasn1                  4.18.0               he4db4b2_1    conda-forge\r\n",
      "libtiff                   4.4.0                hd6ca8d7_3    conda-forge\r\n",
      "libunistring              0.9.10               h3422bc3_0    conda-forge\r\n",
      "libvpx                    1.11.0               hc470f4d_3    conda-forge\r\n",
      "libwebp-base              1.2.4                h57fd34a_0    conda-forge\r\n",
      "libxcb                    1.13              h9b22ae9_1004    conda-forge\r\n",
      "libxml2                   2.9.14               h9d8dfc2_4    conda-forge\r\n",
      "libzlib                   1.2.12               ha287fd2_2    conda-forge\r\n",
      "libzopfli                 1.0.3                h9f76cd9_0    conda-forge\r\n",
      "llvm-openmp               14.0.4               hd125106_0    conda-forge\r\n",
      "locket                    1.0.0              pyhd8ed1ab_0    conda-forge\r\n",
      "lz4-c                     1.9.3                hbdafb3b_1    conda-forge\r\n",
      "markdown                  3.4.1                    pypi_0    pypi\r\n",
      "markupsafe                2.1.1            py39hb18efdd_1    conda-forge\r\n",
      "matplotlib                3.5.3            py39hdf13c20_1    conda-forge\r\n",
      "matplotlib-base           3.5.3            py39h267d6a8_1    conda-forge\r\n",
      "matplotlib-inline         0.1.6              pyhd8ed1ab_0    conda-forge\r\n",
      "mccabe                    0.7.0              pyhd8ed1ab_0    conda-forge\r\n",
      "mistune                   0.8.4           py39h5161555_1005    conda-forge\r\n",
      "munkres                   1.1.4              pyh9f0ad1d_0    conda-forge\r\n",
      "nbclient                  0.5.13             pyhd8ed1ab_0    conda-forge\r\n",
      "nbconvert                 6.4.5            py39h2804cbe_0    conda-forge\r\n",
      "nbformat                  5.4.0              pyhd8ed1ab_0    conda-forge\r\n",
      "ncurses                   6.3                  h07bb92c_1    conda-forge\r\n",
      "nest-asyncio              1.5.5              pyhd8ed1ab_0    conda-forge\r\n",
      "nettle                    3.8.1                h63371fa_1    conda-forge\r\n",
      "networkx                  2.8.5              pyhd8ed1ab_0    conda-forge\r\n",
      "notebook                  6.4.12             pyha770c72_0    conda-forge\r\n",
      "numpy                     1.23.2                   pypi_0    pypi\r\n",
      "oauthlib                  3.2.0                    pypi_0    pypi\r\n",
      "openh264                  2.3.0                h9a09cb3_0    conda-forge\r\n",
      "openjpeg                  2.5.0                h5d4e404_1    conda-forge\r\n",
      "openssl                   1.1.1q               ha287fd2_0    conda-forge\r\n",
      "opt_einsum                3.3.0              pyhd8ed1ab_1    conda-forge\r\n",
      "p11-kit                   0.24.1               h29577a5_0    conda-forge\r\n",
      "packaging                 21.3               pyhd8ed1ab_0    conda-forge\r\n",
      "pandas                    1.4.3            py39hd2dba81_0    conda-forge\r\n",
      "pandocfilters             1.5.0              pyhd8ed1ab_0    conda-forge\r\n",
      "parso                     0.8.3              pyhd8ed1ab_0    conda-forge\r\n",
      "partd                     1.3.0              pyhd8ed1ab_0    conda-forge\r\n",
      "patsy                     0.5.2              pyhd8ed1ab_0    conda-forge\r\n",
      "pexpect                   4.8.0              pyh9f0ad1d_2    conda-forge\r\n",
      "pickleshare               0.7.5                   py_1003    conda-forge\r\n",
      "pillow                    9.2.0            py39he45c975_2    conda-forge\r\n",
      "pip                       22.2.2             pyhd8ed1ab_0    conda-forge\r\n",
      "pkgutil-resolve-name      1.3.10             pyhd8ed1ab_0    conda-forge\r\n",
      "prometheus_client         0.14.1             pyhd8ed1ab_0    conda-forge\r\n",
      "prompt-toolkit            3.0.30             pyha770c72_0    conda-forge\r\n",
      "prompt_toolkit            3.0.30               hd8ed1ab_0    conda-forge\r\n",
      "protobuf                  3.19.4                   pypi_0    pypi\r\n",
      "psutil                    5.9.1            py39h9eb174b_0    conda-forge\r\n",
      "pthread-stubs             0.4               h27ca646_1001    conda-forge\r\n",
      "ptyprocess                0.7.0              pyhd3deb0d_0    conda-forge\r\n",
      "pure_eval                 0.2.2              pyhd8ed1ab_0    conda-forge\r\n",
      "pyasn1                    0.4.8                    pypi_0    pypi\r\n",
      "pyasn1-modules            0.2.8                    pypi_0    pypi\r\n",
      "pycodestyle               2.9.1              pyhd8ed1ab_0    conda-forge\r\n",
      "pycparser                 2.21               pyhd8ed1ab_0    conda-forge\r\n",
      "pyflakes                  2.5.0              pyhd8ed1ab_0    conda-forge\r\n",
      "pygments                  2.13.0             pyhd8ed1ab_0    conda-forge\r\n",
      "pyopenssl                 22.0.0             pyhd8ed1ab_0    conda-forge\r\n",
      "pyparsing                 3.0.9              pyhd8ed1ab_0    conda-forge\r\n",
      "pyrsistent                0.18.1           py39hb18efdd_1    conda-forge\r\n",
      "pysocks                   1.7.1            py39h2804cbe_5    conda-forge\r\n",
      "python                    3.9.13          hc596b02_0_cpython    conda-forge\r\n",
      "python-dateutil           2.8.2              pyhd8ed1ab_0    conda-forge\r\n",
      "python-fastjsonschema     2.16.1             pyhd8ed1ab_0    conda-forge\r\n",
      "python-graphviz           0.20.1                   pypi_0    pypi\r\n",
      "python_abi                3.9                      2_cp39    conda-forge\r\n",
      "pytorch                   1.12.1                  py3.9_0    pytorch\r\n",
      "pytz                      2022.2.1           pyhd8ed1ab_0    conda-forge\r\n",
      "pywavelets                1.3.0            py39h43ea957_1    conda-forge\r\n",
      "pyyaml                    6.0              py39hb18efdd_4    conda-forge\r\n",
      "pyzmq                     23.2.1           py39h59d144a_0    conda-forge\r\n",
      "readline                  8.1.2                h46ed386_0    conda-forge\r\n",
      "requests                  2.28.1             pyhd8ed1ab_0    conda-forge\r\n",
      "requests-oauthlib         1.3.1                    pypi_0    pypi\r\n",
      "rsa                       4.9                      pypi_0    pypi\r\n",
      "scikit-image              0.19.3           py39h533cade_1    conda-forge\r\n",
      "scikit-learn              1.1.2            py39h598ef33_0    conda-forge\r\n",
      "scipy                     1.9.0            py39h14896cb_0    conda-forge\r\n",
      "seaborn                   0.11.2               hd8ed1ab_0    conda-forge\r\n",
      "seaborn-base              0.11.2             pyhd8ed1ab_0    conda-forge\r\n",
      "send2trash                1.8.0              pyhd8ed1ab_0    conda-forge\r\n",
      "setuptools                65.1.1           py39h2804cbe_0    conda-forge\r\n",
      "six                       1.15.0             pyh9f0ad1d_0    conda-forge\r\n",
      "snappy                    1.1.9                h39c3846_1    conda-forge\r\n",
      "soupsieve                 2.3.2.post1        pyhd8ed1ab_0    conda-forge\r\n",
      "sqlite                    3.39.2               h40dfcc0_1    conda-forge\r\n",
      "stack_data                0.4.0              pyhd8ed1ab_0    conda-forge\r\n",
      "statsmodels               0.13.2           py39h7b9fbcb_0    conda-forge\r\n",
      "svt-av1                   1.2.1                he23bcac_0    conda-forge\r\n",
      "tabulate                  0.8.10                   pypi_0    pypi\r\n",
      "tensorboard               2.9.1                    pypi_0    pypi\r\n",
      "tensorboard-data-server   0.6.1                    pypi_0    pypi\r\n",
      "tensorboard-plugin-wit    1.8.1                    pypi_0    pypi\r\n",
      "tensorflow-deps           2.5.0                         1    apple\r\n",
      "tensorflow-estimator      2.9.0                    pypi_0    pypi\r\n",
      "tensorflow-lattice        2.0.10                   pypi_0    pypi\r\n",
      "tensorflow-macos          2.9.2                    pypi_0    pypi\r\n",
      "tensorflow-metal          0.5.1                    pypi_0    pypi\r\n",
      "termcolor                 1.1.0              pyhd8ed1ab_3    conda-forge\r\n",
      "terminado                 0.15.0           py39h2804cbe_0    conda-forge\r\n",
      "testpath                  0.6.0              pyhd8ed1ab_0    conda-forge\r\n",
      "threadpoolctl             3.1.0              pyh8a188c0_0    conda-forge\r\n",
      "tifffile                  2022.8.12          pyhd8ed1ab_0    conda-forge\r\n",
      "tk                        8.6.12               he1e0b03_0    conda-forge\r\n",
      "toml                      0.10.2             pyhd8ed1ab_0    conda-forge\r\n",
      "toolz                     0.12.0             pyhd8ed1ab_0    conda-forge\r\n",
      "torchaudio                0.12.1                 py39_cpu    pytorch\r\n",
      "torchvision               0.13.1                 py39_cpu    pytorch\r\n",
      "torchviz                  0.0.2                    pypi_0    pypi\r\n",
      "tornado                   6.2              py39h9eb174b_0    conda-forge\r\n",
      "traitlets                 5.3.0              pyhd8ed1ab_0    conda-forge\r\n",
      "typing_extensions         3.7.4.3                    py_0    conda-forge\r\n",
      "tzdata                    2022c                h191b570_0    conda-forge\r\n",
      "unicodedata2              14.0.0           py39hb18efdd_1    conda-forge\r\n",
      "urllib3                   1.26.11            pyhd8ed1ab_0    conda-forge\r\n",
      "wcwidth                   0.2.5              pyh9f0ad1d_2    conda-forge\r\n",
      "webencodings              0.5.1                      py_1    conda-forge\r\n",
      "werkzeug                  2.2.2                    pypi_0    pypi\r\n",
      "wheel                     0.35.1             pyh9f0ad1d_0    conda-forge\r\n",
      "widgetsnbextension        4.0.2              pyhd8ed1ab_0    conda-forge\r\n",
      "wrapt                     1.12.1           py39h5161555_3    conda-forge\r\n",
      "x264                      1!164.3095           h57fd34a_2    conda-forge\r\n",
      "x265                      3.5                  hbc6ce65_3    conda-forge\r\n",
      "xorg-libxau               1.0.9                h27ca646_0    conda-forge\r\n",
      "xorg-libxdmcp             1.1.3                h27ca646_0    conda-forge\r\n",
      "xz                        5.2.6                h57fd34a_0    conda-forge\r\n",
      "yaml                      0.2.5                h3422bc3_2    conda-forge\r\n",
      "yapf                      0.32.0             pyhd8ed1ab_0    conda-forge\r\n",
      "zeromq                    4.3.4                hbdafb3b_1    conda-forge\r\n",
      "zfp                       1.0.0                h7b19444_1    conda-forge\r\n",
      "zipp                      3.8.1              pyhd8ed1ab_0    conda-forge\r\n",
      "zlib                      1.2.12               ha287fd2_2    conda-forge\r\n",
      "zlib-ng                   2.0.6                he4db4b2_0    conda-forge\r\n",
      "zstd                      1.5.2                h8128057_4    conda-forge\r\n"
     ]
    }
   ],
   "source": [
    "!conda list"
   ]
  },
  {
   "cell_type": "code",
   "execution_count": null,
   "metadata": {
    "deletable": false,
    "editable": false
   },
   "outputs": [],
   "source": []
  },
  {
   "cell_type": "code",
   "execution_count": 5,
   "metadata": {
    "deletable": false,
    "editable": false
   },
   "outputs": [],
   "source": [
    "# LPALG\n",
    "import sys\n",
    "import time\n",
    "import argparse\n",
    "import itertools\n",
    "import numpy as np\n",
    "import pandas as pd\n",
    "\n",
    "import datasets\n",
    "import estimators as estimators_lib\n",
    "\n",
    "# import scipy as sc\n",
    "from scipy import optimize\n",
    "from copy import deepcopy\n",
    "# from scipy.sparse import csr_matrix"
   ]
  },
  {
   "cell_type": "code",
   "execution_count": 6,
   "metadata": {
    "deletable": false,
    "editable": false
   },
   "outputs": [],
   "source": [
    "def Oracle(table, query):\n",
    "    cols, idxs, ops, vals = query\n",
    "    oracle_est = estimators_lib.Oracle(table)\n",
    "    return oracle_est.Query(cols, ops, vals)"
   ]
  },
  {
   "cell_type": "code",
   "execution_count": 7,
   "metadata": {
    "deletable": false,
    "editable": false
   },
   "outputs": [],
   "source": [
    "def cal_true_card(query, table):\n",
    "    cols, idxs, ops, vals = query\n",
    "    ops = np.array(ops)\n",
    "    probs = Oracle(table, (cols, idxs, ops, vals))\n",
    "    return probs"
   ]
  },
  {
   "cell_type": "code",
   "execution_count": 8,
   "metadata": {
    "deletable": false,
    "editable": false
   },
   "outputs": [],
   "source": [
    "def GenerateQuery(table, min_num_filters, max_num_filters, rng, dataset):\n",
    "    \"\"\"Generate a random query.\"\"\"\n",
    "    num_filters = rng.randint(max_num_filters - 1, max_num_filters)\n",
    "    cols, idxs, ops, vals = SampleTupleThenRandom(table, num_filters, rng,\n",
    "                                                  dataset)\n",
    "    sel = cal_true_card(\n",
    "        (cols, idxs, ops, vals), table) / float(table.cardinality)\n",
    "    return cols, idxs, ops, vals, sel"
   ]
  },
  {
   "cell_type": "code",
   "execution_count": 9,
   "metadata": {
    "deletable": false,
    "editable": false
   },
   "outputs": [],
   "source": [
    "def SampleTupleThenRandom(table, num_filters, rng, dataset):\n",
    "    vals = []\n",
    "    new_table = table.data\n",
    "    s = new_table.iloc[rng.randint(0, new_table.shape[0])]\n",
    "    vals = s.values\n",
    "    if dataset in ['dmv', 'dmv-tiny', 'order_line']:\n",
    "        vals[6] = vals[6].to_datetime64()\n",
    "    elif dataset in ['orders1', 'orders']:\n",
    "        vals[4] = vals[4].to_datetime64()\n",
    "    elif dataset == 'lineitem':\n",
    "        vals[10] = vals[10].to_datetime64()\n",
    "        vals[11] = vals[11].to_datetime64()\n",
    "        vals[12] = vals[12].to_datetime64()\n",
    "    idxs = rng.choice(len(table.columns), replace=False, size=num_filters)\n",
    "    cols = np.take(table.columns, idxs)\n",
    "    # If dom size >= 10, okay to place a range filter.\n",
    "    # Otherwise, low domain size columns should be queried with equality.\n",
    "    ops = rng.choice(['<', '>', '<=', '>=', '='], size=num_filters)\n",
    "    ops_all_eqs = ['='] * num_filters\n",
    "    sensible_to_do_range = [c.DistributionSize() >= 10 for c in cols]\n",
    "    ops = np.where(sensible_to_do_range, ops, ops_all_eqs)\n",
    "    # if num_filters == len(table.columns):\n",
    "    #     return table.columns,np.arange(len(table.columns)), ops, vals\n",
    "    vals = vals[idxs]\n",
    "    op_a = []\n",
    "    val_a = []\n",
    "    for i in range(len(vals)):\n",
    "        val_a.append([vals[i]])\n",
    "        op_a.append([ops[i]])\n",
    "    return cols, idxs, pd.DataFrame(op_a).values, pd.DataFrame(val_a).values"
   ]
  },
  {
   "cell_type": "code",
   "execution_count": 10,
   "metadata": {
    "deletable": false,
    "editable": false,
    "scrolled": true
   },
   "outputs": [],
   "source": [
    "def dictionary_column_interval(table_size, query_set):\n",
    "    # Traverse all queries to apply the intervalization skill for each column\n",
    "    n_column = table_size[1]\n",
    "    column_interval = {}\n",
    "    for i in range(n_column):\n",
    "        column_interval[i] = set([0, sys.maxsize])  # use set([0, sys.maxsize]) to adapt '>' and '<'.\n",
    "    for query in query_set:\n",
    "        col_idxs = query[1]\n",
    "        vals = query[3]\n",
    "        for i in range(len(col_idxs)):\n",
    "            column_interval[col_idxs[i]].add(vals[i][0])\n",
    "    for k, v in column_interval.items():\n",
    "        if not v:\n",
    "            column_interval[k] = [0]\n",
    "        else:\n",
    "            column_interval[k] = sorted(list(v))\n",
    "    return column_interval"
   ]
  },
  {
   "cell_type": "code",
   "execution_count": 11,
   "metadata": {
    "deletable": false,
    "editable": false
   },
   "outputs": [],
   "source": [
    "def dictionary_column_variable(column_to_interval):\n",
    "    # Assign a sequential index to each interval in each column\n",
    "    column_to_variable = {}\n",
    "    total_intervals = 0  # count how many intervals in total\n",
    "    column_variable_number = []  # count how many intervals in each column\n",
    "    for k, v in column_to_interval.items():\n",
    "        count = len(v)\n",
    "        column_to_variable[k] = [total_intervals + i for i in range(count)]\n",
    "        total_intervals += count\n",
    "        column_variable_number.append(count)\n",
    "    return total_intervals, column_variable_number, column_to_variable"
   ]
  },
  {
   "cell_type": "code",
   "execution_count": 12,
   "metadata": {
    "deletable": false,
    "editable": false
   },
   "outputs": [],
   "source": [
    "def dictionary_variable_interval(column_to_interval, column_to_variable):\n",
    "    # Map each interval index to the left endpoint of its corresponding interval\n",
    "    variable_to_interval = {}\n",
    "    for column, variable in column_to_variable.items():\n",
    "        for i in range(len(variable)):\n",
    "            variable_to_interval[variable[i]] = column_to_interval[column][i]\n",
    "    return variable_to_interval"
   ]
  },
  {
   "cell_type": "code",
   "execution_count": 13,
   "metadata": {
    "deletable": false,
    "editable": false
   },
   "outputs": [],
   "source": [
    "def op_to_variables(column_to_variable, column, index, op):\n",
    "    # Find all matching intervals' index in the column based on the operator and input interval index\n",
    "    column_interval_idx = np.array(column_to_variable[column])\n",
    "    if op == '>':\n",
    "        return list(column_interval_idx[index + 1:])\n",
    "    elif op == '>=':\n",
    "        return list(column_interval_idx[index:])\n",
    "    elif op == '=':\n",
    "        return [column_interval_idx[index]]\n",
    "    elif op == '<':\n",
    "        return list(column_interval_idx[:index])\n",
    "    elif op == '<=':\n",
    "        return list(column_interval_idx[:index + 1])"
   ]
  },
  {
   "cell_type": "code",
   "execution_count": 14,
   "metadata": {
    "deletable": false,
    "editable": false
   },
   "outputs": [],
   "source": [
    "def dictionary_query_to_interval(query_set, column_to_interval,\n",
    "                                 column_to_variable):\n",
    "    # Traverse all queries to find their corresponding interval index\n",
    "    query_to_interval = {}\n",
    "    for i in range(len(query_set)):\n",
    "        col_idxs = query_set[i][1]\n",
    "        ops = query_set[i][2]\n",
    "        vals = query_set[i][3]\n",
    "        query_to_interval[i] = []\n",
    "        for j in range(len(col_idxs)):\n",
    "            column = col_idxs[j]\n",
    "            index = column_to_interval[column].index(vals[j][0])\n",
    "            query_to_interval[i].append(\n",
    "                op_to_variables(column_to_variable, column, index,\n",
    "                                ops[j][0]))\n",
    "    return query_to_interval"
   ]
  },
  {
   "cell_type": "code",
   "execution_count": 15,
   "metadata": {
    "deletable": false,
    "editable": false
   },
   "outputs": [],
   "source": [
    "def dictionary_query_to_x_index(query_set, query_to_interval, column_to_variable):\n",
    "    # Traverse all queries to find their corresponding x index\n",
    "    query_to_x_index = {}\n",
    "    for i in range(len(query_set)):\n",
    "        col_idxs = query_set[i][1]\n",
    "        query_to_x_index[i] = [[] for i in range(n_column)]\n",
    "        for j in range(len(col_idxs)):\n",
    "            column = col_idxs[j]\n",
    "            variable = query_to_interval[i][j]\n",
    "            for k in variable:\n",
    "                x_index = column_to_variable[column].index(k)\n",
    "                query_to_x_index[i][column].append(x_index)\n",
    "    return query_to_x_index"
   ]
  },
  {
   "cell_type": "code",
   "execution_count": 16,
   "metadata": {
    "deletable": false,
    "editable": false
   },
   "outputs": [],
   "source": [
    "def transfer_x_index(query_to_x_index, column_variable_number):\n",
    "    # Transfer all empty x-index-list to all-indexes-list corresponding to the column\n",
    "    x_index = {}\n",
    "    for k, v in query_to_x_index.items():\n",
    "        x_index[k] = []\n",
    "        for i in range(len(v)):\n",
    "            if v[i] == []:\n",
    "                x_index[k].append([j for j in range(column_variable_number[i])])\n",
    "            else:\n",
    "                x_index[k].append(v[i])\n",
    "    return x_index"
   ]
  },
  {
   "cell_type": "code",
   "execution_count": 17,
   "metadata": {
    "deletable": false,
    "editable": false
   },
   "outputs": [],
   "source": [
    "# Build Minimize Problem"
   ]
  },
  {
   "cell_type": "code",
   "execution_count": 18,
   "metadata": {
    "deletable": false,
    "editable": false
   },
   "outputs": [],
   "source": [
    "def x0():\n",
    "    return np.ones(total_x) * n_row / total_x"
   ]
  },
  {
   "cell_type": "code",
   "execution_count": 19,
   "metadata": {
    "deletable": false,
    "editable": false
   },
   "outputs": [],
   "source": [
    "def bounds():\n",
    "    return np.array([[0, n_row]] * total_x)"
   ]
  },
  {
   "cell_type": "code",
   "execution_count": 20,
   "metadata": {
    "deletable": false,
    "editable": false
   },
   "outputs": [],
   "source": [
    "def constraints():\n",
    "    return [{'type': 'eq', 'fun': lambda x: n_row - x.sum()}]"
   ]
  },
  {
   "cell_type": "code",
   "execution_count": 21,
   "metadata": {
    "deletable": false,
    "editable": false
   },
   "outputs": [],
   "source": [
    "def query_constraints(query_set, x_index, column_variable_number):\n",
    "    query_constraints_list = []\n",
    "#     find = np.array([\n",
    "#         np.product(column_variable_number[i:])\n",
    "#         for i in range(1, len(column_variable_number))\n",
    "#     ] + [1])\n",
    "    flip = np.flip(np.array(column_variable_number + [1]))\n",
    "    find = np.flip(flip.cumprod())[1:]\n",
    "\n",
    "    for key, values in x_index.items():\n",
    "        sel = query_set[key][4]\n",
    "        x_ind = np.array([x for x in itertools.product(*values)])#, dtype=np.uint16)\n",
    "        result = np.dot(x_ind, find)  # same as x_ind @ find\n",
    "        def value_constraints(x, sel=sel, value=result):\n",
    "            return x[value].sum() - sel * n_row\n",
    "\n",
    "#         row = np.zeros(len(result))\n",
    "#         col = result\n",
    "#         data = np.ones(len(result))\n",
    "#         matrix = csr_matrix((data, (row, col)), shape=(1, total_x))#, dtype=np.uint16)\n",
    "#         def value_constraints(x, sel=sel, matrix=matrix):\n",
    "#             return matrix @ x - sel * n_row\n",
    "        \n",
    "        query_constraints_list.append(value_constraints)\n",
    "    return query_constraints_list"
   ]
  },
  {
   "cell_type": "code",
   "execution_count": 22,
   "metadata": {
    "deletable": false,
    "editable": false
   },
   "outputs": [],
   "source": [
    "def fun():\n",
    "    def error(x):\n",
    "        return sum([constraint(x)**2\n",
    "                    for constraint in query_constraints_list]) / (n_row)  # **2\n",
    "\n",
    "    return error"
   ]
  },
  {
   "cell_type": "code",
   "execution_count": 23,
   "metadata": {
    "deletable": false,
    "editable": false
   },
   "outputs": [],
   "source": [
    "def randomized_rouding(x):\n",
    "    int_x = deepcopy(x)\n",
    "    for i in range(len(x)):\n",
    "        xi = x[i]\n",
    "        floor = np.floor(xi)\n",
    "        ceil = np.ceil(xi)\n",
    "        if not floor == ceil:\n",
    "            int_x[i] = np.random.choice([floor, ceil],\n",
    "                                        p=[xi - floor, ceil - xi])\n",
    "    return int_x"
   ]
  },
  {
   "cell_type": "code",
   "execution_count": 24,
   "metadata": {
    "deletable": false,
    "editable": false
   },
   "outputs": [],
   "source": [
    "def generate_table_data(column_to_interval, int_x, column_variable_number):\n",
    "    df = pd.DataFrame(columns=[f'col_{i}' for i in range(n_column)], index=[i for i in range(int_x.sum())])\n",
    "\n",
    "    column_to_x = []\n",
    "    for i in column_variable_number:\n",
    "        column_to_x.append([j for j in range(i)])\n",
    "    all_x = np.array([x for x in itertools.product(*column_to_x)], dtype=np.uint16)\n",
    "\n",
    "    count = 0\n",
    "    for i in range(total_x):  # Here: total_x == len(int_x), n_column == all_x.shape[1]\n",
    "        if int_x[i] != 0:\n",
    "            df.iloc[count:count+int_x[i], :] = [column_to_interval[j][all_x[i][j]] for j in range(n_column)]\n",
    "            count += int_x[i]\n",
    "    return df"
   ]
  },
  {
   "cell_type": "code",
   "execution_count": 25,
   "metadata": {
    "deletable": false,
    "editable": false
   },
   "outputs": [],
   "source": [
    "def execute_query(our_table, query_set):\n",
    "    diff = []\n",
    "    for query in query_set:\n",
    "        sentence = ''\n",
    "        for i in range(len(query[0])):\n",
    "            if i != 0:\n",
    "                sentence += ' and '\n",
    "            sentence += f'col_{query[1][i]}'\n",
    "            if query[2][i][0] == '=':\n",
    "                sentence += '=='\n",
    "            else:\n",
    "                sentence += query[2][i][0]\n",
    "            sentence += f'{query[3][i][0]}'\n",
    "        sel = our_table.query(sentence).shape[0] / our_table.shape[0]\n",
    "        sel2 = query[4]  # round(query[4] * n_row)\n",
    "        if sel == 0:\n",
    "            print('oh, zero sel!')\n",
    "            sel += 1 / our_table.shape[0]\n",
    "        if sel2 == 0:\n",
    "            print('oh, zero sel2!')\n",
    "            sel2 += 1 / n_row\n",
    "        if sel < sel2:\n",
    "            diff.append(sel2 / sel)\n",
    "        else:\n",
    "            diff.append(sel / sel2)\n",
    "    return diff  "
   ]
  },
  {
   "cell_type": "code",
   "execution_count": null,
   "metadata": {},
   "outputs": [],
   "source": []
  },
  {
   "cell_type": "code",
   "execution_count": 26,
   "metadata": {
    "deletable": false,
    "editable": false
   },
   "outputs": [],
   "source": [
    "# if __name__ == '__main__':"
   ]
  },
  {
   "cell_type": "code",
   "execution_count": 27,
   "metadata": {
    "deletable": false,
    "editable": false
   },
   "outputs": [],
   "source": [
    "parser = argparse.ArgumentParser()\n",
    "parser.add_argument('--dataset', type=str, default='wine', help='Dataset.')\n",
    "parser.add_argument('--query-size', type=int, default=5, help='query size')\n",
    "parser.add_argument('--reload', type=bool, default=False, help='reload')\n",
    "parser.add_argument('--num-conditions',\n",
    "                    type=int,\n",
    "                    default=2,\n",
    "                    help='num of conditions')\n",
    "\n",
    "# args = parser.parse_args()  # for python\n",
    "args, unknown = parser.parse_known_args()  # for jupyter notebook"
   ]
  },
  {
   "cell_type": "code",
   "execution_count": 28,
   "metadata": {
    "deletable": false,
    "editable": false
   },
   "outputs": [
    {
     "name": "stdout",
     "output_type": "stream",
     "text": [
      "load dataset wine.csv done\n",
      "(6497, 13)\n",
      "(6497, 13)\n",
      "0\n",
      "1\n",
      "2\n",
      "3\n",
      "4\n",
      "5\n",
      "6\n",
      "7\n",
      "8\n",
      "9\n",
      "10\n",
      "11\n",
      "12\n",
      "0 106\n",
      "1 187\n",
      "2 89\n",
      "3 316\n",
      "4 214\n",
      "5 135\n",
      "6 276\n",
      "7 975\n",
      "8 108\n",
      "9 111\n",
      "10 111\n",
      "11 7\n",
      "12 2\n",
      "Begin Generating Queries ...\n",
      "Complete Generating Queries.\n"
     ]
    }
   ],
   "source": [
    "# assert args.dataset in ['dmv-tiny', 'dmv']\n",
    "if args.dataset == 'dmv-tiny':\n",
    "    table = datasets.LoadDmv('dmv-tiny.csv')\n",
    "elif args.dataset == 'dmv':\n",
    "    table = datasets.LoadDmv()\n",
    "else:\n",
    "    type_casts = {}\n",
    "    if args.dataset in ['orders1']:\n",
    "        type_casts = {4: np.datetime64, 5: np.float}\n",
    "    elif args.dataset in ['orders']:\n",
    "        type_casts = {4: np.datetime64}\n",
    "    elif args.dataset == 'lineitem':\n",
    "        type_casts = {\n",
    "            10: np.datetime64,\n",
    "            11: np.datetime64,\n",
    "            12: np.datetime64\n",
    "        }\n",
    "    elif args.dataset == 'order_line':\n",
    "        type_casts = {6: np.datetime64}\n",
    "\n",
    "    table = datasets.LoadDataset(args.dataset + '.csv',\n",
    "                                 args.dataset,\n",
    "                                 type_casts=type_casts)\n",
    "\n",
    "if not args.reload:\n",
    "    print('Begin Generating Queries ...')\n",
    "    rng = np.random.RandomState(1234)\n",
    "    query_set = [\n",
    "        GenerateQuery(table, 2, args.num_conditions + 1, rng, args.dataset)\n",
    "        for i in range(args.query_size)\n",
    "    ]\n",
    "    print('Complete Generating Queries.')"
   ]
  },
  {
   "cell_type": "code",
   "execution_count": 29,
   "metadata": {
    "deletable": false,
    "editable": false,
    "scrolled": false
   },
   "outputs": [
    {
     "name": "stdout",
     "output_type": "stream",
     "text": [
      "\n",
      "\n",
      "Begin LPALG...\n",
      "\n",
      " Solving LP problem with total param = 373248 ...\n"
     ]
    },
    {
     "ename": "KeyboardInterrupt",
     "evalue": "",
     "output_type": "error",
     "traceback": [
      "\u001b[0;31m---------------------------------------------------------------------------\u001b[0m",
      "\u001b[0;31mKeyboardInterrupt\u001b[0m                         Traceback (most recent call last)",
      "\u001b[0;32m/var/folders/mw/c72k1t7964xbgclv6yqghg980000gn/T/ipykernel_2621/2208853700.py\u001b[0m in \u001b[0;36m<module>\u001b[0;34m\u001b[0m\n\u001b[1;32m     19\u001b[0m                         \u001b[0mmethod\u001b[0m\u001b[0;34m=\u001b[0m\u001b[0;34m'SLSQP'\u001b[0m\u001b[0;34m,\u001b[0m\u001b[0;34m\u001b[0m\u001b[0;34m\u001b[0m\u001b[0m\n\u001b[1;32m     20\u001b[0m                         \u001b[0mconstraints\u001b[0m\u001b[0;34m=\u001b[0m\u001b[0mconstraints\u001b[0m\u001b[0;34m(\u001b[0m\u001b[0;34m)\u001b[0m\u001b[0;34m,\u001b[0m\u001b[0;34m\u001b[0m\u001b[0;34m\u001b[0m\u001b[0m\n\u001b[0;32m---> 21\u001b[0;31m                         \u001b[0mbounds\u001b[0m\u001b[0;34m=\u001b[0m \u001b[0mbounds\u001b[0m\u001b[0;34m(\u001b[0m\u001b[0;34m)\u001b[0m\u001b[0;34m,\u001b[0m\u001b[0;34m\u001b[0m\u001b[0;34m\u001b[0m\u001b[0m\n\u001b[0m\u001b[1;32m     22\u001b[0m                         \u001b[0;31m# tol=1e-323,\u001b[0m\u001b[0;34m\u001b[0m\u001b[0;34m\u001b[0m\u001b[0;34m\u001b[0m\u001b[0m\n\u001b[1;32m     23\u001b[0m                         \u001b[0;31m# options={'maxiter': 1e8},\u001b[0m\u001b[0;34m\u001b[0m\u001b[0;34m\u001b[0m\u001b[0;34m\u001b[0m\u001b[0m\n",
      "\u001b[0;32m~/opt/anaconda3/envs/py37/lib/python3.7/site-packages/scipy/optimize/_minimize.py\u001b[0m in \u001b[0;36mminimize\u001b[0;34m(fun, x0, args, method, jac, hess, hessp, bounds, constraints, tol, callback, options)\u001b[0m\n\u001b[1;32m    630\u001b[0m     \u001b[0;32melif\u001b[0m \u001b[0mmeth\u001b[0m \u001b[0;34m==\u001b[0m \u001b[0;34m'slsqp'\u001b[0m\u001b[0;34m:\u001b[0m\u001b[0;34m\u001b[0m\u001b[0;34m\u001b[0m\u001b[0m\n\u001b[1;32m    631\u001b[0m         return _minimize_slsqp(fun, x0, args, jac, bounds,\n\u001b[0;32m--> 632\u001b[0;31m                                constraints, callback=callback, **options)\n\u001b[0m\u001b[1;32m    633\u001b[0m     \u001b[0;32melif\u001b[0m \u001b[0mmeth\u001b[0m \u001b[0;34m==\u001b[0m \u001b[0;34m'trust-constr'\u001b[0m\u001b[0;34m:\u001b[0m\u001b[0;34m\u001b[0m\u001b[0;34m\u001b[0m\u001b[0m\n\u001b[1;32m    634\u001b[0m         return _minimize_trustregion_constr(fun, x0, args, jac, hess, hessp,\n",
      "\u001b[0;32m~/opt/anaconda3/envs/py37/lib/python3.7/site-packages/scipy/optimize/slsqp.py\u001b[0m in \u001b[0;36m_minimize_slsqp\u001b[0;34m(func, x0, args, jac, bounds, constraints, maxiter, ftol, iprint, disp, eps, callback, finite_diff_rel_step, **unknown_options)\u001b[0m\n\u001b[1;32m    375\u001b[0m     sf = _prepare_scalar_function(func, x, jac=jac, args=args, epsilon=eps,\n\u001b[1;32m    376\u001b[0m                                   \u001b[0mfinite_diff_rel_step\u001b[0m\u001b[0;34m=\u001b[0m\u001b[0mfinite_diff_rel_step\u001b[0m\u001b[0;34m,\u001b[0m\u001b[0;34m\u001b[0m\u001b[0;34m\u001b[0m\u001b[0m\n\u001b[0;32m--> 377\u001b[0;31m                                   bounds=new_bounds)\n\u001b[0m\u001b[1;32m    378\u001b[0m     \u001b[0;31m# gh11403 SLSQP sometimes exceeds bounds by 1 or 2 ULP, make sure this\u001b[0m\u001b[0;34m\u001b[0m\u001b[0;34m\u001b[0m\u001b[0;34m\u001b[0m\u001b[0m\n\u001b[1;32m    379\u001b[0m     \u001b[0;31m# doesn't get sent to the func/grad evaluator.\u001b[0m\u001b[0;34m\u001b[0m\u001b[0;34m\u001b[0m\u001b[0;34m\u001b[0m\u001b[0m\n",
      "\u001b[0;32m~/opt/anaconda3/envs/py37/lib/python3.7/site-packages/scipy/optimize/optimize.py\u001b[0m in \u001b[0;36m_prepare_scalar_function\u001b[0;34m(fun, x0, jac, args, bounds, epsilon, finite_diff_rel_step, hess)\u001b[0m\n\u001b[1;32m    260\u001b[0m     \u001b[0;31m# calculation reduces overall function evaluations.\u001b[0m\u001b[0;34m\u001b[0m\u001b[0;34m\u001b[0m\u001b[0;34m\u001b[0m\u001b[0m\n\u001b[1;32m    261\u001b[0m     sf = ScalarFunction(fun, x0, args, grad, hess,\n\u001b[0;32m--> 262\u001b[0;31m                         finite_diff_rel_step, bounds, epsilon=epsilon)\n\u001b[0m\u001b[1;32m    263\u001b[0m \u001b[0;34m\u001b[0m\u001b[0m\n\u001b[1;32m    264\u001b[0m     \u001b[0;32mreturn\u001b[0m \u001b[0msf\u001b[0m\u001b[0;34m\u001b[0m\u001b[0;34m\u001b[0m\u001b[0m\n",
      "\u001b[0;32m~/opt/anaconda3/envs/py37/lib/python3.7/site-packages/scipy/optimize/_differentiable_functions.py\u001b[0m in \u001b[0;36m__init__\u001b[0;34m(self, fun, x0, args, grad, hess, finite_diff_rel_step, finite_diff_bounds, epsilon)\u001b[0m\n\u001b[1;32m    157\u001b[0m \u001b[0;34m\u001b[0m\u001b[0m\n\u001b[1;32m    158\u001b[0m         \u001b[0mself\u001b[0m\u001b[0;34m.\u001b[0m\u001b[0m_update_grad_impl\u001b[0m \u001b[0;34m=\u001b[0m \u001b[0mupdate_grad\u001b[0m\u001b[0;34m\u001b[0m\u001b[0;34m\u001b[0m\u001b[0m\n\u001b[0;32m--> 159\u001b[0;31m         \u001b[0mself\u001b[0m\u001b[0;34m.\u001b[0m\u001b[0m_update_grad\u001b[0m\u001b[0;34m(\u001b[0m\u001b[0;34m)\u001b[0m\u001b[0;34m\u001b[0m\u001b[0;34m\u001b[0m\u001b[0m\n\u001b[0m\u001b[1;32m    160\u001b[0m \u001b[0;34m\u001b[0m\u001b[0m\n\u001b[1;32m    161\u001b[0m         \u001b[0;31m# Hessian Evaluation\u001b[0m\u001b[0;34m\u001b[0m\u001b[0;34m\u001b[0m\u001b[0;34m\u001b[0m\u001b[0m\n",
      "\u001b[0;32m~/opt/anaconda3/envs/py37/lib/python3.7/site-packages/scipy/optimize/_differentiable_functions.py\u001b[0m in \u001b[0;36m_update_grad\u001b[0;34m(self)\u001b[0m\n\u001b[1;32m    236\u001b[0m     \u001b[0;32mdef\u001b[0m \u001b[0m_update_grad\u001b[0m\u001b[0;34m(\u001b[0m\u001b[0mself\u001b[0m\u001b[0;34m)\u001b[0m\u001b[0;34m:\u001b[0m\u001b[0;34m\u001b[0m\u001b[0;34m\u001b[0m\u001b[0m\n\u001b[1;32m    237\u001b[0m         \u001b[0;32mif\u001b[0m \u001b[0;32mnot\u001b[0m \u001b[0mself\u001b[0m\u001b[0;34m.\u001b[0m\u001b[0mg_updated\u001b[0m\u001b[0;34m:\u001b[0m\u001b[0;34m\u001b[0m\u001b[0;34m\u001b[0m\u001b[0m\n\u001b[0;32m--> 238\u001b[0;31m             \u001b[0mself\u001b[0m\u001b[0;34m.\u001b[0m\u001b[0m_update_grad_impl\u001b[0m\u001b[0;34m(\u001b[0m\u001b[0;34m)\u001b[0m\u001b[0;34m\u001b[0m\u001b[0;34m\u001b[0m\u001b[0m\n\u001b[0m\u001b[1;32m    239\u001b[0m             \u001b[0mself\u001b[0m\u001b[0;34m.\u001b[0m\u001b[0mg_updated\u001b[0m \u001b[0;34m=\u001b[0m \u001b[0;32mTrue\u001b[0m\u001b[0;34m\u001b[0m\u001b[0;34m\u001b[0m\u001b[0m\n\u001b[1;32m    240\u001b[0m \u001b[0;34m\u001b[0m\u001b[0m\n",
      "\u001b[0;32m~/opt/anaconda3/envs/py37/lib/python3.7/site-packages/scipy/optimize/_differentiable_functions.py\u001b[0m in \u001b[0;36mupdate_grad\u001b[0;34m()\u001b[0m\n\u001b[1;32m    154\u001b[0m                 \u001b[0mself\u001b[0m\u001b[0;34m.\u001b[0m\u001b[0mngev\u001b[0m \u001b[0;34m+=\u001b[0m \u001b[0;36m1\u001b[0m\u001b[0;34m\u001b[0m\u001b[0;34m\u001b[0m\u001b[0m\n\u001b[1;32m    155\u001b[0m                 self.g = approx_derivative(fun_wrapped, self.x, f0=self.f,\n\u001b[0;32m--> 156\u001b[0;31m                                            **finite_diff_options)\n\u001b[0m\u001b[1;32m    157\u001b[0m \u001b[0;34m\u001b[0m\u001b[0m\n\u001b[1;32m    158\u001b[0m         \u001b[0mself\u001b[0m\u001b[0;34m.\u001b[0m\u001b[0m_update_grad_impl\u001b[0m \u001b[0;34m=\u001b[0m \u001b[0mupdate_grad\u001b[0m\u001b[0;34m\u001b[0m\u001b[0;34m\u001b[0m\u001b[0m\n",
      "\u001b[0;32m~/opt/anaconda3/envs/py37/lib/python3.7/site-packages/scipy/optimize/_numdiff.py\u001b[0m in \u001b[0;36mapprox_derivative\u001b[0;34m(fun, x0, method, rel_step, abs_step, f0, bounds, sparsity, as_linear_operator, args, kwargs)\u001b[0m\n\u001b[1;32m    485\u001b[0m         \u001b[0;32mif\u001b[0m \u001b[0msparsity\u001b[0m \u001b[0;32mis\u001b[0m \u001b[0;32mNone\u001b[0m\u001b[0;34m:\u001b[0m\u001b[0;34m\u001b[0m\u001b[0;34m\u001b[0m\u001b[0m\n\u001b[1;32m    486\u001b[0m             return _dense_difference(fun_wrapped, x0, f0, h,\n\u001b[0;32m--> 487\u001b[0;31m                                      use_one_sided, method)\n\u001b[0m\u001b[1;32m    488\u001b[0m         \u001b[0;32melse\u001b[0m\u001b[0;34m:\u001b[0m\u001b[0;34m\u001b[0m\u001b[0;34m\u001b[0m\u001b[0m\n\u001b[1;32m    489\u001b[0m             \u001b[0;32mif\u001b[0m \u001b[0;32mnot\u001b[0m \u001b[0missparse\u001b[0m\u001b[0;34m(\u001b[0m\u001b[0msparsity\u001b[0m\u001b[0;34m)\u001b[0m \u001b[0;32mand\u001b[0m \u001b[0mlen\u001b[0m\u001b[0;34m(\u001b[0m\u001b[0msparsity\u001b[0m\u001b[0;34m)\u001b[0m \u001b[0;34m==\u001b[0m \u001b[0;36m2\u001b[0m\u001b[0;34m:\u001b[0m\u001b[0;34m\u001b[0m\u001b[0;34m\u001b[0m\u001b[0m\n",
      "\u001b[0;32m~/opt/anaconda3/envs/py37/lib/python3.7/site-packages/scipy/optimize/_numdiff.py\u001b[0m in \u001b[0;36m_dense_difference\u001b[0;34m(fun, x0, f0, h, use_one_sided, method)\u001b[0m\n\u001b[1;32m    554\u001b[0m         \u001b[0;32mif\u001b[0m \u001b[0mmethod\u001b[0m \u001b[0;34m==\u001b[0m \u001b[0;34m'2-point'\u001b[0m\u001b[0;34m:\u001b[0m\u001b[0;34m\u001b[0m\u001b[0;34m\u001b[0m\u001b[0m\n\u001b[1;32m    555\u001b[0m             \u001b[0mx\u001b[0m \u001b[0;34m=\u001b[0m \u001b[0mx0\u001b[0m \u001b[0;34m+\u001b[0m \u001b[0mh_vecs\u001b[0m\u001b[0;34m[\u001b[0m\u001b[0mi\u001b[0m\u001b[0;34m]\u001b[0m\u001b[0;34m\u001b[0m\u001b[0;34m\u001b[0m\u001b[0m\n\u001b[0;32m--> 556\u001b[0;31m             \u001b[0mdx\u001b[0m \u001b[0;34m=\u001b[0m \u001b[0mx\u001b[0m\u001b[0;34m[\u001b[0m\u001b[0mi\u001b[0m\u001b[0;34m]\u001b[0m \u001b[0;34m-\u001b[0m \u001b[0mx0\u001b[0m\u001b[0;34m[\u001b[0m\u001b[0mi\u001b[0m\u001b[0;34m]\u001b[0m  \u001b[0;31m# Recompute dx as exactly representable number.\u001b[0m\u001b[0;34m\u001b[0m\u001b[0;34m\u001b[0m\u001b[0m\n\u001b[0m\u001b[1;32m    557\u001b[0m             \u001b[0mdf\u001b[0m \u001b[0;34m=\u001b[0m \u001b[0mfun\u001b[0m\u001b[0;34m(\u001b[0m\u001b[0mx\u001b[0m\u001b[0;34m)\u001b[0m \u001b[0;34m-\u001b[0m \u001b[0mf0\u001b[0m\u001b[0;34m\u001b[0m\u001b[0;34m\u001b[0m\u001b[0m\n\u001b[1;32m    558\u001b[0m         \u001b[0;32melif\u001b[0m \u001b[0mmethod\u001b[0m \u001b[0;34m==\u001b[0m \u001b[0;34m'3-point'\u001b[0m \u001b[0;32mand\u001b[0m \u001b[0muse_one_sided\u001b[0m\u001b[0;34m[\u001b[0m\u001b[0mi\u001b[0m\u001b[0;34m]\u001b[0m\u001b[0;34m:\u001b[0m\u001b[0;34m\u001b[0m\u001b[0;34m\u001b[0m\u001b[0m\n",
      "\u001b[0;31mKeyboardInterrupt\u001b[0m: "
     ]
    }
   ],
   "source": [
    "# LPALG\n",
    "print(\"\\n\\nBegin LPALG...\")\n",
    "tic = time.time()\n",
    "table_size = table.data.shape\n",
    "n_row = table_size[0]\n",
    "n_column = table_size[1]\n",
    "column_to_interval = dictionary_column_interval(table_size, query_set)\n",
    "total_intervals, column_variable_number, column_to_variable = dictionary_column_variable(column_to_interval)\n",
    "variable_to_interval = dictionary_variable_interval(column_to_interval, column_to_variable)\n",
    "total_x = np.product(column_variable_number)\n",
    "query_to_interval = dictionary_query_to_interval(query_set, column_to_interval, column_to_variable)\n",
    "query_to_x_index = dictionary_query_to_x_index(query_set, query_to_interval, column_to_variable)\n",
    "x_index = transfer_x_index(query_to_x_index, column_variable_number)\n",
    "query_constraints_list = query_constraints(query_set, x_index, column_variable_number)\n",
    "\n",
    "print(f\"\\n Solving LP problem with total param = {total_x} ...\")\n",
    "res = optimize.minimize(fun(),\n",
    "                        x0(),\n",
    "                        method='SLSQP',\n",
    "                        constraints=constraints(),\n",
    "                        bounds= bounds(),\n",
    "                        # tol=1e-323,\n",
    "                        # options={'maxiter': 1e8},\n",
    "                        # options={'maxiter': 1},\n",
    "                       )\n",
    "print(\"\\n Optimize.minimize Solver Status: \\n\", res)\n",
    "int_x = randomized_rouding(res.x).astype(int)\n",
    "print(f\"\\n Integer X: ( length = {len(int_x)} )\\n\", int_x)\n",
    "\n",
    "\n",
    "# generate data\n",
    "dataNew = generate_table_data(column_to_interval, int_x, column_variable_number)\n",
    "# print(dataNew)\n",
    "\n",
    "\n",
    "# calculate error\n",
    "diff = execute_query(dataNew, query_set)\n",
    "print(\n",
    "    f\"\\n\\n Q-error of LPALG (query size={args.query_size}, condition={args.num_conditions}, total param={total_x}):\\n\"\n",
    ")\n",
    "print(f\"min:    {np.min(diff)}\")\n",
    "print(f\"10:     {np.percentile(diff, 10)}\")\n",
    "print(f\"20:     {np.percentile(diff, 20)}\")\n",
    "print(f\"30:     {np.percentile(diff, 30)}\")\n",
    "print(f\"40:     {np.percentile(diff, 40)}\")\n",
    "print(f\"median: {np.median(diff)}\")\n",
    "print(f\"60:     {np.percentile(diff, 60)}\")\n",
    "print(f\"70:     {np.percentile(diff, 70)}\")\n",
    "print(f\"80:     {np.percentile(diff, 80)}\")\n",
    "print(f\"mean:   {np.mean(diff)}\")\n",
    "print(f\"90:     {np.percentile(diff, 90)}\")\n",
    "print(f\"max:    {np.max(diff)}\")\n",
    "toc = time.time()\n",
    "total_time = toc - tic\n",
    "m, s = divmod(total_time, 60)\n",
    "h, m = divmod(m, 60)\n",
    "print(f\"Time passed:  {h:0>2.0f}:{m:0>2.0f}:{s:0>2.0f}\")"
   ]
  },
  {
   "cell_type": "code",
   "execution_count": null,
   "metadata": {
    "deletable": false,
    "editable": false
   },
   "outputs": [],
   "source": []
  },
  {
   "cell_type": "code",
   "execution_count": null,
   "metadata": {
    "deletable": false,
    "editable": false
   },
   "outputs": [],
   "source": []
  },
  {
   "cell_type": "code",
   "execution_count": null,
   "metadata": {
    "deletable": false,
    "editable": false
   },
   "outputs": [],
   "source": []
  },
  {
   "cell_type": "code",
   "execution_count": null,
   "metadata": {
    "deletable": false,
    "editable": false
   },
   "outputs": [],
   "source": []
  },
  {
   "cell_type": "code",
   "execution_count": null,
   "metadata": {
    "deletable": false,
    "editable": false
   },
   "outputs": [],
   "source": []
  },
  {
   "cell_type": "code",
   "execution_count": null,
   "metadata": {
    "deletable": false,
    "editable": false
   },
   "outputs": [],
   "source": []
  },
  {
   "cell_type": "code",
   "execution_count": null,
   "metadata": {
    "deletable": false,
    "editable": false
   },
   "outputs": [],
   "source": []
  },
  {
   "cell_type": "code",
   "execution_count": null,
   "metadata": {
    "deletable": false,
    "editable": false
   },
   "outputs": [],
   "source": []
  },
  {
   "cell_type": "code",
   "execution_count": null,
   "metadata": {
    "deletable": false,
    "editable": false
   },
   "outputs": [],
   "source": []
  },
  {
   "cell_type": "code",
   "execution_count": null,
   "metadata": {
    "deletable": false,
    "editable": false
   },
   "outputs": [],
   "source": []
  },
  {
   "cell_type": "code",
   "execution_count": null,
   "metadata": {
    "deletable": false,
    "editable": false
   },
   "outputs": [],
   "source": []
  },
  {
   "cell_type": "code",
   "execution_count": null,
   "metadata": {
    "deletable": false,
    "editable": false
   },
   "outputs": [],
   "source": []
  },
  {
   "cell_type": "markdown",
   "metadata": {
    "deletable": false,
    "editable": false
   },
   "source": [
    "# Pulp"
   ]
  },
  {
   "cell_type": "code",
   "execution_count": 196,
   "metadata": {
    "deletable": false,
    "editable": false
   },
   "outputs": [],
   "source": [
    "import pulp"
   ]
  },
  {
   "cell_type": "code",
   "execution_count": null,
   "metadata": {
    "deletable": false,
    "editable": false
   },
   "outputs": [],
   "source": [
    "MyProbLP = pulp.LpProblem(\"LPProbDemo1\", sense=pulp.LpMaximize)  # 定义问题，求最小值 pulp.LpMinimize / 最大值"
   ]
  },
  {
   "cell_type": "code",
   "execution_count": 204,
   "metadata": {
    "deletable": false,
    "editable": false
   },
   "outputs": [],
   "source": [
    "x1 = pulp.LpVariable('x1', lowBound=0, upBound=7, cat='Integer') \n",
    "x2 = pulp.LpVariable('x2', lowBound=0, upBound=7, cat='Integer') \n",
    "x3 = pulp.LpVariable('x3', lowBound=0, upBound=7, cat='Continuous') "
   ]
  },
  {
   "cell_type": "code",
   "execution_count": 205,
   "metadata": {
    "deletable": false,
    "editable": false
   },
   "outputs": [],
   "source": [
    "MyProbLP += 2*x1 + 3*x2 - 5*x3  # 设置目标函数\n",
    "MyProbLP += (2*x1 - 5*x2 + x3 >= 10)  # 不等式约束\n",
    "MyProbLP += (x1 + 3*x2 + x3 <= 12)  # 不等式约束\n",
    "MyProbLP += (x1 + x2 + x3 == 7)  # 等式约束"
   ]
  },
  {
   "cell_type": "code",
   "execution_count": 206,
   "metadata": {
    "deletable": false,
    "editable": false
   },
   "outputs": [
    {
     "data": {
      "text/plain": [
       "1"
      ]
     },
     "execution_count": 206,
     "metadata": {},
     "output_type": "execute_result"
    }
   ],
   "source": [
    "MyProbLP.solve()"
   ]
  },
  {
   "cell_type": "code",
   "execution_count": 210,
   "metadata": {
    "deletable": false,
    "editable": false
   },
   "outputs": [
    {
     "name": "stdout",
     "output_type": "stream",
     "text": [
      "LPProbDemo1:\n",
      "MAXIMIZE\n",
      "2*x1 + 3*x2 + -5*x3 + 0\n",
      "SUBJECT TO\n",
      "_C1: 2 x1 - 5 x2 + x3 >= 10\n",
      "\n",
      "_C2: x1 + 3 x2 + x3 <= 12\n",
      "\n",
      "_C3: x1 + x2 + x3 = 7\n",
      "\n",
      "VARIABLES\n",
      "0 <= x1 <= 7 Integer\n",
      "0 <= x2 <= 7 Integer\n",
      "x3 <= 7 Continuous\n",
      "\n"
     ]
    }
   ],
   "source": [
    "print(MyProbLP)  # 输出问题设定参数和条件"
   ]
  },
  {
   "cell_type": "code",
   "execution_count": 207,
   "metadata": {
    "deletable": false,
    "editable": false
   },
   "outputs": [
    {
     "name": "stdout",
     "output_type": "stream",
     "text": [
      "Status: Optimal\n"
     ]
    }
   ],
   "source": [
    "print(\"Status:\", pulp.LpStatus[MyProbLP.status]) # 输出求解状态"
   ]
  },
  {
   "cell_type": "code",
   "execution_count": 208,
   "metadata": {
    "deletable": false,
    "editable": false
   },
   "outputs": [
    {
     "name": "stdout",
     "output_type": "stream",
     "text": [
      "x1 = 7.0\n",
      "x2 = 0.0\n",
      "x3 = 0.0\n"
     ]
    }
   ],
   "source": [
    "for v in MyProbLP.variables():\n",
    "    print(v.name, \"=\", v.varValue)  # 输出每个变量的最优值"
   ]
  },
  {
   "cell_type": "code",
   "execution_count": 209,
   "metadata": {
    "deletable": false,
    "editable": false
   },
   "outputs": [
    {
     "name": "stdout",
     "output_type": "stream",
     "text": [
      "F(x) =  14.0\n"
     ]
    }
   ],
   "source": [
    "print(\"F(x) = \", pulp.value(MyProbLP.objective))  #输出最优解的目标函数值"
   ]
  },
  {
   "cell_type": "code",
   "execution_count": null,
   "metadata": {
    "deletable": false,
    "editable": false
   },
   "outputs": [],
   "source": []
  },
  {
   "cell_type": "code",
   "execution_count": null,
   "metadata": {
    "deletable": false,
    "editable": false
   },
   "outputs": [],
   "source": []
  },
  {
   "cell_type": "code",
   "execution_count": null,
   "metadata": {
    "deletable": false,
    "editable": false
   },
   "outputs": [],
   "source": [
    "# 第二个实例"
   ]
  },
  {
   "cell_type": "code",
   "execution_count": 69,
   "metadata": {
    "deletable": false,
    "editable": false
   },
   "outputs": [
    {
     "name": "stdout",
     "output_type": "stream",
     "text": [
      "Data_Gen:\n",
      "MINIMIZE\n",
      "16*x_0 + 10*x_1 + 8*x_2 + 9*x_3 + 48*x_4 + 60*x_5 + 53*x_6 + 0\n",
      "SUBJECT TO\n",
      "table_length: x_0 + x_1 + x_2 + x_3 + x_4 + x_5 + x_6 = 6497\n",
      "\n",
      "VARIABLES\n",
      "x_0 <= 6497 Continuous\n",
      "x_1 <= 6497 Continuous\n",
      "x_2 <= 6497 Continuous\n",
      "x_3 <= 6497 Continuous\n",
      "x_4 <= 6497 Continuous\n",
      "x_5 <= 6497 Continuous\n",
      "x_6 <= 6497 Continuous\n",
      "\n",
      "优化状态: Optimal\n",
      "x_0 = 0.0\n",
      "x_1 = 0.0\n",
      "x_2 = 6497.0\n",
      "x_3 = 0.0\n",
      "x_4 = 0.0\n",
      "x_5 = 0.0\n",
      "x_6 = 0.0\n",
      "最优总成本 =  51976.0\n"
     ]
    },
    {
     "name": "stderr",
     "output_type": "stream",
     "text": [
      "/Users/hubble/opt/anaconda3/lib/python3.7/site-packages/pulp/pulp.py:1352: UserWarning: Spaces are not permitted in the name. Converted to '_'\n",
      "  warnings.warn(\"Spaces are not permitted in the name. Converted to '_'\")\n"
     ]
    }
   ],
   "source": [
    "import pulp\n",
    "\n",
    "# 1. 建立问题\n",
    "AlloyModel = pulp.LpProblem(\"Data Gen\", pulp.LpMinimize)\n",
    "# 2. 建立变量\n",
    "material = [i for i in range(7)]\n",
    "mass = pulp.LpVariable.dicts(\"x\", material, lowBound=0, upBound=n_row, cat='Continuous')\n",
    "# 3. 设置目标函数\n",
    "cost = {\n",
    "    0: 16,\n",
    "    1: 10,\n",
    "    2: 8,\n",
    "    3: 9,\n",
    "    4: 48,\n",
    "    5: 60,\n",
    "    6: 53}\n",
    "AlloyModel += pulp.lpSum([cost[item] * mass[item] for item in material]), \"Query error\"\n",
    "# # 4. 施加约束\n",
    "AlloyModel += pulp.lpSum([mass[item] for item in material]) == n_row, \"table length\"\n",
    "# 5. 求解\n",
    "AlloyModel.solve()\n",
    "# 6. 打印结果\n",
    "print(AlloyModel)  # 输出问题设定参数和条件\n",
    "print(\"优化状态:\", pulp.LpStatus[AlloyModel.status])\n",
    "for v in AlloyModel.variables():\n",
    "    print(v.name, \"=\", v.varValue)\n",
    "print(\"最优总成本 = \", pulp.value(AlloyModel.objective))"
   ]
  },
  {
   "cell_type": "markdown",
   "metadata": {
    "deletable": false,
    "editable": false
   },
   "source": [
    "## many attributes"
   ]
  },
  {
   "cell_type": "code",
   "execution_count": 233,
   "metadata": {
    "deletable": false,
    "editable": false
   },
   "outputs": [],
   "source": [
    "import pulp"
   ]
  },
  {
   "cell_type": "code",
   "execution_count": 267,
   "metadata": {
    "deletable": false,
    "editable": false
   },
   "outputs": [],
   "source": [
    "# 1. 建立最小化问题\n",
    "AlloyModel = pulp.LpProblem(\"many_attributes\", pulp.LpMinimize)"
   ]
  },
  {
   "cell_type": "code",
   "execution_count": 268,
   "metadata": {
    "deletable": false,
    "editable": false
   },
   "outputs": [],
   "source": [
    "x1 = pulp.LpVariable('x1', lowBound=0, upBound=7, cat='Integer') \n",
    "x2 = pulp.LpVariable('x2', lowBound=0, upBound=7, cat='Integer') \n",
    "x3 = pulp.LpVariable('x3', lowBound=0, upBound=7, cat='Continuous')\n",
    "x4 = pulp.LpVariable('x4', lowBound=0, upBound=7, cat='Continuous') "
   ]
  },
  {
   "cell_type": "code",
   "execution_count": 269,
   "metadata": {
    "deletable": false,
    "editable": false
   },
   "outputs": [],
   "source": [
    "# 3. 设置目标函数\n",
    "L = np.array([\n",
    "    [1, 1, 1, 1],\n",
    "    [0, 1, 1, 0],\n",
    "    [0, 0, 1, 1]\n",
    "])\n",
    "b = np.array([50, 30, 40])\n",
    "\n",
    "\n",
    "AlloyModel += x1 + x2 + x3 + x4#pulp.lpSum([item**2 for item in x1]), \"总生产成本\""
   ]
  },
  {
   "cell_type": "code",
   "execution_count": null,
   "metadata": {
    "deletable": false,
    "editable": false
   },
   "outputs": [],
   "source": [
    "# # 4. 施加约束\n",
    "carbonPercent = {\n",
    "    '废料1': 0.8,\n",
    "    '废料2': 0.7,\n",
    "    '废料3': 0.85,\n",
    "    '废料4': 0.4,\n",
    "    '镍': 0,\n",
    "    '铬': 0,\n",
    "    '钼': 0}\n",
    "NiPercent = {\n",
    "    '废料1': 18,\n",
    "    '废料2': 3.2,\n",
    "    '废料3': 0,\n",
    "    '废料4': 0,\n",
    "    '镍': 100,\n",
    "    '铬': 0,\n",
    "    '钼': 0}\n",
    "CrPercent = {\n",
    "    '废料1': 12,\n",
    "    '废料2': 1.1,\n",
    "    '废料3': 0,\n",
    "    '废料4': 0,\n",
    "    '镍': 0,\n",
    "    '铬': 100,\n",
    "    '钼': 0}\n",
    "MoPercent = {\n",
    "    '废料1': 0,\n",
    "    '废料2': 0.1,\n",
    "    '废料3': 0,\n",
    "    '废料4': 0,\n",
    "    '镍': 0,\n",
    "    '铬': 0,\n",
    "    '钼': 100}\n",
    "AlloyModel += pulp.lpSum([mass[item] for item in material]) == 1000, \"质量约束\"\n",
    "AlloyModel += pulp.lpSum([carbonPercent[item] * mass[item] for item in material]) >= 0.65*1000, \"碳最小占比\"\n",
    "AlloyModel += pulp.lpSum([carbonPercent[item] * mass[item] for item in material]) <= 0.75*1000, \"碳最大占比\"\n",
    "AlloyModel += pulp.lpSum([NiPercent[item] * mass[item] for item in material]) >= 3.0*1000, \"镍最小占比\"\n",
    "AlloyModel += pulp.lpSum([NiPercent[item] * mass[item] for item in material]) <= 3.5*1000, \"镍最大占比\"\n",
    "AlloyModel += pulp.lpSum([CrPercent[item] * mass[item] for item in material]) >= 1.0*1000, \"铬最小占比\"\n",
    "AlloyModel += pulp.lpSum([CrPercent[item] * mass[item] for item in material]) <= 1.2*1000, \"铬最大占比\"\n",
    "AlloyModel += pulp.lpSum([MoPercent[item] * mass[item] for item in material]) >= 1.1*1000, \"钼最小占比\"\n",
    "AlloyModel += pulp.lpSum([MoPercent[item] * mass[item] for item in material]) <= 1.3*1000, \"钼最大占比\"\n",
    "AlloyModel += mass['废料1'] <= 75, \"废料1可用量\"\n",
    "AlloyModel += mass['废料2'] <= 250, \"废料2可用量\""
   ]
  },
  {
   "cell_type": "code",
   "execution_count": 270,
   "metadata": {
    "deletable": false,
    "editable": false
   },
   "outputs": [
    {
     "data": {
      "text/plain": [
       "1"
      ]
     },
     "execution_count": 270,
     "metadata": {},
     "output_type": "execute_result"
    }
   ],
   "source": [
    "# 5. 求解\n",
    "AlloyModel.solve()"
   ]
  },
  {
   "cell_type": "code",
   "execution_count": 271,
   "metadata": {
    "deletable": false,
    "editable": false
   },
   "outputs": [
    {
     "name": "stdout",
     "output_type": "stream",
     "text": [
      "many_attributes:\n",
      "MINIMIZE\n",
      "1*x1 + 1*x2 + 1*x3 + 1*x4 + 0\n",
      "VARIABLES\n",
      "0 <= x1 <= 7 Integer\n",
      "0 <= x2 <= 7 Integer\n",
      "x3 <= 7 Continuous\n",
      "x4 <= 7 Continuous\n",
      "\n"
     ]
    }
   ],
   "source": [
    "# 6. 打印结果\n",
    "print(AlloyModel)  # 输出问题设定参数和条件"
   ]
  },
  {
   "cell_type": "code",
   "execution_count": 272,
   "metadata": {
    "deletable": false,
    "editable": false
   },
   "outputs": [
    {
     "name": "stdout",
     "output_type": "stream",
     "text": [
      "优化状态: Optimal\n",
      "x1 = 0.0\n",
      "x2 = 0.0\n",
      "x3 = 0.0\n",
      "x4 = 0.0\n",
      "最优总成本 =  0.0\n"
     ]
    }
   ],
   "source": [
    "print(\"优化状态:\", pulp.LpStatus[AlloyModel.status])\n",
    "for v in AlloyModel.variables():\n",
    "    print(v.name, \"=\", v.varValue)\n",
    "print(\"最优总成本 = \", pulp.value(AlloyModel.objective))"
   ]
  },
  {
   "cell_type": "code",
   "execution_count": null,
   "metadata": {
    "deletable": false,
    "editable": false
   },
   "outputs": [],
   "source": []
  },
  {
   "cell_type": "code",
   "execution_count": null,
   "metadata": {
    "deletable": false,
    "editable": false
   },
   "outputs": [],
   "source": []
  },
  {
   "cell_type": "code",
   "execution_count": null,
   "metadata": {
    "deletable": false,
    "editable": false
   },
   "outputs": [],
   "source": []
  },
  {
   "cell_type": "code",
   "execution_count": null,
   "metadata": {
    "deletable": false,
    "editable": false
   },
   "outputs": [],
   "source": []
  },
  {
   "cell_type": "code",
   "execution_count": null,
   "metadata": {
    "deletable": false,
    "editable": false
   },
   "outputs": [],
   "source": []
  },
  {
   "cell_type": "code",
   "execution_count": null,
   "metadata": {
    "deletable": false,
    "editable": false
   },
   "outputs": [],
   "source": []
  },
  {
   "cell_type": "code",
   "execution_count": null,
   "metadata": {
    "deletable": false,
    "editable": false
   },
   "outputs": [],
   "source": []
  },
  {
   "cell_type": "code",
   "execution_count": null,
   "metadata": {
    "deletable": false,
    "editable": false
   },
   "outputs": [],
   "source": []
  },
  {
   "cell_type": "code",
   "execution_count": null,
   "metadata": {
    "deletable": false,
    "editable": false
   },
   "outputs": [],
   "source": []
  },
  {
   "cell_type": "code",
   "execution_count": null,
   "metadata": {
    "deletable": false,
    "editable": false
   },
   "outputs": [],
   "source": []
  },
  {
   "cell_type": "code",
   "execution_count": null,
   "metadata": {
    "deletable": false,
    "editable": false
   },
   "outputs": [],
   "source": []
  },
  {
   "cell_type": "code",
   "execution_count": null,
   "metadata": {
    "deletable": false,
    "editable": false
   },
   "outputs": [],
   "source": []
  },
  {
   "cell_type": "code",
   "execution_count": null,
   "metadata": {
    "deletable": false,
    "editable": false
   },
   "outputs": [],
   "source": []
  },
  {
   "cell_type": "code",
   "execution_count": null,
   "metadata": {
    "deletable": false,
    "editable": false
   },
   "outputs": [],
   "source": []
  },
  {
   "cell_type": "code",
   "execution_count": null,
   "metadata": {
    "deletable": false,
    "editable": false
   },
   "outputs": [],
   "source": []
  }
 ],
 "metadata": {
  "hide_input": false,
  "kernelspec": {
   "display_name": "Python 3 (ipykernel)",
   "language": "python",
   "name": "python3"
  },
  "language_info": {
   "codemirror_mode": {
    "name": "ipython",
    "version": 3
   },
   "file_extension": ".py",
   "mimetype": "text/x-python",
   "name": "python",
   "nbconvert_exporter": "python",
   "pygments_lexer": "ipython3",
   "version": "3.7.16"
  },
  "toc": {
   "base_numbering": 1,
   "nav_menu": {},
   "number_sections": true,
   "sideBar": true,
   "skip_h1_title": false,
   "title_cell": "Table of Contents",
   "title_sidebar": "Contents",
   "toc_cell": false,
   "toc_position": {
    "height": "calc(100% - 180px)",
    "left": "10px",
    "top": "150px",
    "width": "384px"
   },
   "toc_section_display": true,
   "toc_window_display": false
  },
  "varInspector": {
   "cols": {
    "lenName": 16,
    "lenType": 16,
    "lenVar": 40
   },
   "kernels_config": {
    "python": {
     "delete_cmd_postfix": "",
     "delete_cmd_prefix": "del ",
     "library": "var_list.py",
     "varRefreshCmd": "print(var_dic_list())"
    },
    "r": {
     "delete_cmd_postfix": ") ",
     "delete_cmd_prefix": "rm(",
     "library": "var_list.r",
     "varRefreshCmd": "cat(var_dic_list()) "
    }
   },
   "oldHeight": 838.844,
   "position": {
    "height": "777.83px",
    "left": "891.938px",
    "right": "20px",
    "top": "3.97569px",
    "width": "542.535px"
   },
   "types_to_exclude": [
    "module",
    "function",
    "builtin_function_or_method",
    "instance",
    "_Feature"
   ],
   "varInspector_section_display": "block",
   "window_display": false
  }
 },
 "nbformat": 4,
 "nbformat_minor": 4
}
