{
 "cells": [
  {
   "cell_type": "markdown",
   "metadata": {},
   "source": [
    "# Python 期中测验"
   ]
  },
  {
   "cell_type": "markdown",
   "metadata": {},
   "source": [
    "## 第一题"
   ]
  },
  {
   "cell_type": "code",
   "execution_count": null,
   "metadata": {},
   "outputs": [],
   "source": [
    "def appear_times():\n",
    "    print(\"判断字符在字符串中出现的次数，不区分大小写\")\n",
    "    while True:\n",
    "        S = input(\"请输入一个由字母和数字组成的字符串和一个字符，用空格隔开，输入 quit 退出：\")\n",
    "        \n",
    "        if S == 'quit':\n",
    "            print(\"quit!\")\n",
    "            break\n",
    "\n",
    "        String = S.split()\n",
    "        if len(String) != 2:\n",
    "            print(\"您输入格式不满足要求，请重新输入！\")\n",
    "            continue\n",
    "        \n",
    "        string = String[0].lower()\n",
    "        label = String[-1]\n",
    "        result = [s == label for s in string]\n",
    "        print(sum(result))\n",
    "\n",
    "            \n",
    "if __name__ == \"__main__\":\n",
    "    appear_times()"
   ]
  },
  {
   "cell_type": "markdown",
   "metadata": {},
   "source": [
    "## 第二题"
   ]
  },
  {
   "cell_type": "code",
   "execution_count": null,
   "metadata": {},
   "outputs": [],
   "source": [
    "def isPalindrome():\n",
    "    print(\"判断是否为回文数\")\n",
    "    while True:\n",
    "        s = input(\"请输入一个奇数位数字，输入 quit 退出：\")\n",
    "        if s == 'quit':\n",
    "            print(\"quit!\")\n",
    "            break\n",
    "        if len(s) % 2 == 0:\n",
    "            print(\"您输入了偶数位数字，请输入一个奇数位数字！\")\n",
    "            continue\n",
    "        elif s == s[::-1]:\n",
    "            print(\"yes\")\n",
    "        else:\n",
    "            print(\"no\")\n",
    "\n",
    "            \n",
    "if __name__ == \"__main__\":\n",
    "    isPalindrome()"
   ]
  },
  {
   "cell_type": "markdown",
   "metadata": {},
   "source": [
    "## 第三题"
   ]
  },
  {
   "cell_type": "code",
   "execution_count": null,
   "metadata": {},
   "outputs": [],
   "source": [
    "def Print_prim():\n",
    "    print(\"输出小于一个正整数范围内的素数\")\n",
    "    while True:\n",
    "        s = input(\"请输入(2, 100]内的一个正整数，输入 quit 退出：\")\n",
    "        if s == 'quit':\n",
    "            print(\"quit!\")\n",
    "            break\n",
    "        \n",
    "        p = []\n",
    "        n = int(s)\n",
    "        for i in range(2, n):\n",
    "            for j in range(2, int(i**0.5)+1):\n",
    "                if i % j ==0:\n",
    "                    break\n",
    "            else:\n",
    "                p.append(i)\n",
    "        print(p)\n",
    "        \n",
    "\n",
    "if __name__ == \"__main__\":\n",
    "    Print_prim()"
   ]
  }
 ],
 "metadata": {
  "kernelspec": {
   "display_name": "Python 3",
   "language": "python",
   "name": "python3"
  },
  "language_info": {
   "codemirror_mode": {
    "name": "ipython",
    "version": 3
   },
   "file_extension": ".py",
   "mimetype": "text/x-python",
   "name": "python",
   "nbconvert_exporter": "python",
   "pygments_lexer": "ipython3",
   "version": "3.7.7"
  },
  "toc": {
   "base_numbering": 1,
   "nav_menu": {},
   "number_sections": true,
   "sideBar": true,
   "skip_h1_title": false,
   "title_cell": "Table of Contents",
   "title_sidebar": "Contents",
   "toc_cell": false,
   "toc_position": {},
   "toc_section_display": true,
   "toc_window_display": false
  },
  "varInspector": {
   "cols": {
    "lenName": 16,
    "lenType": 16,
    "lenVar": 40
   },
   "kernels_config": {
    "python": {
     "delete_cmd_postfix": "",
     "delete_cmd_prefix": "del ",
     "library": "var_list.py",
     "varRefreshCmd": "print(var_dic_list())"
    },
    "r": {
     "delete_cmd_postfix": ") ",
     "delete_cmd_prefix": "rm(",
     "library": "var_list.r",
     "varRefreshCmd": "cat(var_dic_list()) "
    }
   },
   "types_to_exclude": [
    "module",
    "function",
    "builtin_function_or_method",
    "instance",
    "_Feature"
   ],
   "window_display": false
  }
 },
 "nbformat": 4,
 "nbformat_minor": 4
}
