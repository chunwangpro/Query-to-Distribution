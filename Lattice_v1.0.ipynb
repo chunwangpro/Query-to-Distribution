{
 "cells": [
  {
   "cell_type": "markdown",
   "id": "5516e8a0",
   "metadata": {},
   "source": [
    "# PWL - Lattice"
   ]
  },
  {
   "cell_type": "code",
   "execution_count": 1,
   "id": "88ef059e",
   "metadata": {},
   "outputs": [],
   "source": [
    "# PWLLattice.py"
   ]
  },
  {
   "cell_type": "code",
   "execution_count": 2,
   "id": "a95cbdc5",
   "metadata": {},
   "outputs": [
    {
     "name": "stderr",
     "output_type": "stream",
     "text": [
      "/var/folders/x9/rlw36ttd3d9dvskjy8fd9t3r0000gn/T/ipykernel_55758/1248846584.py:9: DeprecationWarning: \n",
      "Pyarrow will become a required dependency of pandas in the next major release of pandas (pandas 3.0),\n",
      "(to allow more performant data types, such as the Arrow string type, and better interoperability with other libraries)\n",
      "but was not found to be installed on your system.\n",
      "If this would cause problems for you,\n",
      "please provide us feedback at https://github.com/pandas-dev/pandas/issues/54466\n",
      "        \n",
      "  import pandas as pd\n"
     ]
    }
   ],
   "source": [
    "import os\n",
    "import sys\n",
    "\n",
    "# import common\n",
    "import argparse\n",
    "\n",
    "# import datasets\n",
    "import numpy as np\n",
    "import pandas as pd\n",
    "\n",
    "from tqdm import tqdm\n",
    "\n",
    "from matplotlib import pyplot as plt\n",
    "\n",
    "# import estimators as estimators_lib\n",
    "import itertools\n",
    "import tensorflow as tf\n",
    "import tensorflow_lattice as tfl\n",
    "\n",
    "from query_func import *\n",
    "from models import *"
   ]
  },
  {
   "cell_type": "code",
   "execution_count": 3,
   "id": "1685b74e",
   "metadata": {},
   "outputs": [
    {
     "name": "stderr",
     "output_type": "stream",
     "text": [
      "usage: ipykernel_launcher.py [-h] [--dataset DATASET]\n",
      "                             [--query-size QUERY_SIZE]\n",
      "                             [--min-conditions MIN_CONDITIONS]\n",
      "                             [--max-conditions MAX_CONDITIONS]\n",
      "                             [--epochs EPOCHS] [--bs BS] [--loss LOSS]\n",
      "                             [--lattice-size LATTICE_SIZE] [--lr LR]\n",
      "                             [--seed SEED]\n",
      "ipykernel_launcher.py: error: unrecognized arguments: --f=/Users/chun/Library/Jupyter/runtime/kernel-v2-54065WOxaY6oNweVL.json\n"
     ]
    }
   ],
   "source": [
    "parser = argparse.ArgumentParser()\n",
    "parser.add_argument(\"--dataset\", type=str, default=\"wine2\", help=\"Dataset.\")\n",
    "parser.add_argument(\"--query-size\", type=int, default=100, help=\"query size\")\n",
    "parser.add_argument(\"--min-conditions\", type=int, default=1, help=\"min num of conditions\")\n",
    "parser.add_argument(\"--max-conditions\", type=int, default=2, help=\"max num of conditions\")\n",
    "parser.add_argument(\"--epochs\", type=int, default=10, help=\"Number of epochs to train for.\")\n",
    "parser.add_argument(\"--bs\", type=int, default=10000, help=\"Batch size.\")\n",
    "parser.add_argument(\"--loss\", type=str, default=\"MSE\", help=\"Loss.\")\n",
    "parser.add_argument(\"--lattice-size\", type=int, default=2, help=\"Lattice size.\")\n",
    "parser.add_argument(\"--lr\", type=float, default=1e-3, help=\"learning rate\")\n",
    "parser.add_argument(\"--seed\", type=int, default=42, help=\"Random seed\")\n",
    "\n",
    "try:\n",
    "    args = parser.parse_args()\n",
    "except:\n",
    "    # args = parser.parse_args([])\n",
    "    args, unknown = parser.parse_known_args()"
   ]
  },
  {
   "cell_type": "code",
   "execution_count": 4,
   "id": "5bdfd2dc",
   "metadata": {},
   "outputs": [],
   "source": [
    "def make_directory(directory):\n",
    "    if not os.path.exists(directory):\n",
    "        os.makedirs(directory)\n",
    "\n",
    "\n",
    "OPS = {\">\": np.greater, \"<\": np.less, \">=\": np.greater_equal, \"<=\": np.less_equal, \"=\": np.equal}\n",
    "FilePath = (\n",
    "    f\"{args.dataset}_{args.query_size}_{args.min_conditions}_{args.max_conditions}_{args.loss}\"\n",
    ")\n",
    "resultsPath = f\"results/{FilePath}\"\n",
    "modelPath = f\"saved_models/{FilePath}\"\n",
    "make_directory(resultsPath)\n",
    "make_directory(modelPath)"
   ]
  },
  {
   "cell_type": "code",
   "execution_count": 5,
   "id": "c77627d6",
   "metadata": {},
   "outputs": [],
   "source": [
    "# n_row, n_column 要被table_size 取代"
   ]
  },
  {
   "cell_type": "code",
   "execution_count": 6,
   "id": "80f44992",
   "metadata": {},
   "outputs": [
    {
     "name": "stdout",
     "output_type": "stream",
     "text": [
      "Begin Loading Data ...\n",
      "wine2.csv\n",
      "Done.\n",
      "\n",
      "Begin Generating Queries Set...\n"
     ]
    },
    {
     "name": "stderr",
     "output_type": "stream",
     "text": [
      "100%|██████████| 100/100 [00:00<00:00, 14294.05it/s]"
     ]
    },
    {
     "name": "stdout",
     "output_type": "stream",
     "text": [
      "Done.\n",
      "\n",
      "Begin Intervalization ...\n",
      "column_interval_number=[35, 42]\n",
      "Done.\n",
      "\n"
     ]
    },
    {
     "name": "stderr",
     "output_type": "stream",
     "text": [
      "\n"
     ]
    }
   ],
   "source": [
    "print(\"Begin Loading Data ...\")\n",
    "print(f\"{args.dataset}.csv\")\n",
    "table = np.loadtxt(f\"datasets/{args.dataset}.csv\", delimiter=\",\")\n",
    "np.savetxt(f\"{resultsPath}/original_table.csv\", table, delimiter=\",\")\n",
    "print(\"Done.\\n\")\n",
    "\n",
    "print(\"Begin Generating Queries Set...\")\n",
    "table_size = table.shape\n",
    "n_row, n_column = table_size\n",
    "rng = np.random.RandomState(args.seed)\n",
    "query_set = [\n",
    "    generate_random_query(table, args.min_conditions, args.max_conditions + 1, rng)\n",
    "    for _ in tqdm(range(args.query_size))\n",
    "]\n",
    "print(\"Done.\\n\")\n",
    "print(\"Begin Intervalization ...\")\n",
    "unique_intervals = column_intervalization(table_size, query_set)\n",
    "unique_intervals\n",
    "column_interval_number = count_column_unique_interval(unique_intervals)\n",
    "print(f\"{column_interval_number=}\")\n",
    "print(\"Done.\\n\")"
   ]
  },
  {
   "cell_type": "code",
   "execution_count": 7,
   "id": "d5790a1f",
   "metadata": {},
   "outputs": [],
   "source": [
    "# table = datasets.LoadDataset(f\"datasets/{args.dataset}.csv\", args.dataset)\n",
    "\n",
    "# print(\"Begin Generating Queries Set...\")\n",
    "# rng = np.random.RandomState(args.seed)\n",
    "# query_set = [\n",
    "#     GenerateQuery(table, args.min_conditions, args.max_conditions + 1, rng, args.dataset)\n",
    "#     for _ in tqdm(range(args.query_size))\n",
    "# ]\n",
    "# print(\"Done.\\n\")\n",
    "\n",
    "\n",
    "# table_size = table.data.shape\n",
    "# n_row = table_size[0]\n",
    "# n_column = table_size[1]\n",
    "# print(\"Begin Intervalization ...\")\n",
    "# unique_intervals = dictionary_column_interval(table_size, query_set)\n",
    "# column_interval_number = count_column_unique_interval(unique_intervals)\n",
    "# print(\"Done.\\n\")\n",
    "# print(column_interval_number)"
   ]
  },
  {
   "cell_type": "code",
   "execution_count": 8,
   "id": "5e14f32d",
   "metadata": {},
   "outputs": [],
   "source": [
    "# 修改 x = [sys.maxsize] * n_column     # 这里使用每个col_unique_interval的最后一个元素即可\n",
    "# 如果使用两个input的话，一个修改为最大，一个修改为最小\n",
    "train_X = []\n",
    "for query in query_set:\n",
    "    x = [sys.maxsize] * n_column  # 这里使用每个col_unique_interval的最后一个元素即可\n",
    "    idxs, _, vals, _ = query\n",
    "    for i in range(len(idxs)):\n",
    "        x[idxs[i]] = vals[i]\n",
    "    train_X.append(x)\n",
    "train_X = np.array(train_X).astype(np.float32)\n",
    "train_Y = np.array([[query[-1]] for query in query_set], dtype=np.float32)"
   ]
  },
  {
   "cell_type": "code",
   "execution_count": 9,
   "id": "27aac810",
   "metadata": {},
   "outputs": [],
   "source": [
    "# train_X = []\n",
    "# train_Y = []\n",
    "# for query in query_set:\n",
    "#     x = [sys.maxsize] * n_column  # 这里使用每个col_unique_interval的最后一个元素即可\n",
    "#     _, idxs, _, vals, sel = query\n",
    "#     for i in range(len(idxs)):\n",
    "#         x[idxs[i]] = vals[i][0]\n",
    "#     train_X.append(x)\n",
    "#     train_Y.append(sel)\n",
    "\n",
    "# train_X = np.array(train_X).astype(np.float32)\n",
    "# train_Y = np.array(train_Y).astype(np.float32).reshape(-1, 1)"
   ]
  },
  {
   "cell_type": "code",
   "execution_count": 10,
   "id": "16c82915",
   "metadata": {},
   "outputs": [],
   "source": [
    "# make train set unique\n",
    "# train = np.concatenate((train_X, train_Y), axis=1)\n",
    "# train = np.unique(train, axis=0)\n",
    "# train_X, train_Y = np.hsplit(train, [-1])"
   ]
  },
  {
   "cell_type": "code",
   "execution_count": 11,
   "id": "fb1c7017",
   "metadata": {},
   "outputs": [],
   "source": [
    "# 可以PWL改成三次样条吗"
   ]
  },
  {
   "cell_type": "code",
   "execution_count": 12,
   "id": "46f24ed7",
   "metadata": {},
   "outputs": [
    {
     "name": "stderr",
     "output_type": "stream",
     "text": [
      "2024-06-12 18:01:19.948743: I metal_plugin/src/device/metal_device.cc:1154] Metal device set to: Apple M1 Pro\n",
      "2024-06-12 18:01:19.948779: I metal_plugin/src/device/metal_device.cc:296] systemMemory: 16.00 GB\n",
      "2024-06-12 18:01:19.948785: I metal_plugin/src/device/metal_device.cc:313] maxCacheSize: 5.33 GB\n",
      "2024-06-12 18:01:19.948857: I tensorflow/core/common_runtime/pluggable_device/pluggable_device_factory.cc:306] Could not identify NUMA node of platform GPU ID 0, defaulting to 0. Your kernel may not have been built with NUMA support.\n",
      "2024-06-12 18:01:19.949029: I tensorflow/core/common_runtime/pluggable_device/pluggable_device_factory.cc:272] Created TensorFlow device (/job:localhost/replica:0/task:0/device:GPU:0 with 0 MB memory) -> physical PluggableDevice (device: 0, name: METAL, pci bus id: <undefined>)\n"
     ]
    },
    {
     "name": "stdout",
     "output_type": "stream",
     "text": [
      "Model: \"model\"\n",
      "__________________________________________________________________________________________________\n",
      " Layer (type)                Output Shape                 Param #   Connected to                  \n",
      "==================================================================================================\n",
      " col_0 (InputLayer)          [(None, 1)]                  0         []                            \n",
      "                                                                                                  \n",
      " col_1 (InputLayer)          [(None, 1)]                  0         []                            \n",
      "                                                                                                  \n",
      " pwl_calibration (PWLCalibr  (None, 1)                    35        ['col_0[0][0]']               \n",
      " ation)                                                                                           \n",
      "                                                                                                  \n",
      " pwl_calibration_1 (PWLCali  (None, 1)                    42        ['col_1[0][0]']               \n",
      " bration)                                                                                         \n",
      "                                                                                                  \n",
      " lattice (Lattice)           (None, 1)                    4         ['pwl_calibration[0][0]',     \n",
      "                                                                     'pwl_calibration_1[0][0]']   \n",
      "                                                                                                  \n",
      "==================================================================================================\n",
      "Total params: 81 (324.00 Byte)\n",
      "Trainable params: 81 (324.00 Byte)\n",
      "Non-trainable params: 0 (0.00 Byte)\n",
      "__________________________________________________________________________________________________\n"
     ]
    }
   ],
   "source": [
    "m = PWLLattice(\n",
    "    modelPath,\n",
    "    table_size,\n",
    "    unique_intervals,\n",
    "    pwl_keypoints=None,\n",
    "    lattice_size=args.lattice_size,\n",
    ")"
   ]
  },
  {
   "cell_type": "code",
   "execution_count": 13,
   "id": "89220d53",
   "metadata": {},
   "outputs": [
    {
     "name": "stderr",
     "output_type": "stream",
     "text": [
      "WARNING:absl:At this time, the v2.11+ optimizer `tf.keras.optimizers.Adamax` runs slowly on M1/M2 Macs, please use the legacy Keras optimizer instead, located at `tf.keras.optimizers.legacy.Adamax`.\n"
     ]
    },
    {
     "name": "stdout",
     "output_type": "stream",
     "text": [
      "Epoch 1/10\n"
     ]
    },
    {
     "name": "stderr",
     "output_type": "stream",
     "text": [
      "2024-06-12 18:01:21.267582: I tensorflow/core/grappler/optimizers/custom_graph_optimizer_registry.cc:117] Plugin optimizer for device_type GPU is enabled.\n"
     ]
    },
    {
     "name": "stdout",
     "output_type": "stream",
     "text": [
      "1/1 [==============================] - ETA: 0s - loss: 0.0365\n",
      "Epoch 1: loss improved from inf to 0.03646, saving model to saved_models/wine2_100_1_2_MSE/PWLLattice_weight.h5\n",
      "1/1 [==============================] - 1s 1s/step - loss: 0.0365 - lr: 0.0010\n",
      "Epoch 2/10\n",
      "1/1 [==============================] - ETA: 0s - loss: 0.0309\n",
      "Epoch 2: loss improved from 0.03646 to 0.03089, saving model to saved_models/wine2_100_1_2_MSE/PWLLattice_weight.h5\n",
      "1/1 [==============================] - 0s 56ms/step - loss: 0.0309 - lr: 0.0010\n",
      "Epoch 3/10\n",
      "1/1 [==============================] - ETA: 0s - loss: 0.0269\n",
      "Epoch 3: loss improved from 0.03089 to 0.02694, saving model to saved_models/wine2_100_1_2_MSE/PWLLattice_weight.h5\n",
      "1/1 [==============================] - 0s 53ms/step - loss: 0.0269 - lr: 0.0010\n",
      "Epoch 4/10\n",
      "1/1 [==============================] - ETA: 0s - loss: 0.0242\n",
      "Epoch 4: loss improved from 0.02694 to 0.02424, saving model to saved_models/wine2_100_1_2_MSE/PWLLattice_weight.h5\n",
      "1/1 [==============================] - 0s 53ms/step - loss: 0.0242 - lr: 0.0010\n",
      "Epoch 5/10\n",
      "1/1 [==============================] - ETA: 0s - loss: 0.0225\n",
      "Epoch 5: loss improved from 0.02424 to 0.02249, saving model to saved_models/wine2_100_1_2_MSE/PWLLattice_weight.h5\n",
      "1/1 [==============================] - 0s 53ms/step - loss: 0.0225 - lr: 0.0010\n",
      "Epoch 6/10\n",
      "1/1 [==============================] - ETA: 0s - loss: 0.0214\n",
      "Epoch 6: loss improved from 0.02249 to 0.02143, saving model to saved_models/wine2_100_1_2_MSE/PWLLattice_weight.h5\n",
      "1/1 [==============================] - 0s 52ms/step - loss: 0.0214 - lr: 0.0010\n",
      "Epoch 7/10\n",
      "1/1 [==============================] - ETA: 0s - loss: 0.0208\n",
      "Epoch 7: loss improved from 0.02143 to 0.02085, saving model to saved_models/wine2_100_1_2_MSE/PWLLattice_weight.h5\n",
      "1/1 [==============================] - 0s 52ms/step - loss: 0.0208 - lr: 0.0010\n",
      "Epoch 8/10\n",
      "1/1 [==============================] - ETA: 0s - loss: 0.0206\n",
      "Epoch 8: loss improved from 0.02085 to 0.02058, saving model to saved_models/wine2_100_1_2_MSE/PWLLattice_weight.h5\n",
      "1/1 [==============================] - 0s 52ms/step - loss: 0.0206 - lr: 0.0010\n",
      "Epoch 9/10\n",
      "1/1 [==============================] - ETA: 0s - loss: 0.0205\n",
      "Epoch 9: loss improved from 0.02058 to 0.02052, saving model to saved_models/wine2_100_1_2_MSE/PWLLattice_weight.h5\n",
      "1/1 [==============================] - 0s 52ms/step - loss: 0.0205 - lr: 0.0010\n",
      "Epoch 10/10\n",
      "1/1 [==============================] - ETA: 0s - loss: 0.0205\n",
      "Epoch 10: loss did not improve from 0.02052\n",
      "1/1 [==============================] - 0s 48ms/step - loss: 0.0205 - lr: 0.0010\n",
      "INFO:tensorflow:Assets written to: saved_models/wine2_100_1_2_MSE/PWLLattice_model/assets\n"
     ]
    },
    {
     "name": "stderr",
     "output_type": "stream",
     "text": [
      "INFO:tensorflow:Assets written to: saved_models/wine2_100_1_2_MSE/PWLLattice_model/assets\n"
     ]
    }
   ],
   "source": [
    "m.fit(train_X, train_Y, lr=args.lr, bs=args.bs, epochs=args.epochs, loss=args.loss)"
   ]
  },
  {
   "cell_type": "code",
   "execution_count": 14,
   "id": "dda671da",
   "metadata": {},
   "outputs": [],
   "source": [
    "values = [v for v in unique_intervals.values()]\n",
    "mesh = np.meshgrid(*values)  # 所有 unique interval 的笛卡尔积网格\n",
    "grid = np.array(mesh).T.reshape(-1, len(values)).astype(np.float32)"
   ]
  },
  {
   "cell_type": "code",
   "execution_count": 15,
   "id": "9188d1a8",
   "metadata": {},
   "outputs": [
    {
     "name": "stderr",
     "output_type": "stream",
     "text": [
      "WARNING:absl:At this time, the v2.11+ optimizer `tf.keras.optimizers.RestoredOptimizer` runs slowly on M1/M2 Macs, please use the legacy Keras optimizer instead, located at `tf.keras.optimizers.legacy.RestoredOptimizer`.\n",
      "WARNING:absl:At this time, the v2.11+ optimizer `tf.keras.optimizers.Adamax` runs slowly on M1/M2 Macs, please use the legacy Keras optimizer instead, located at `tf.keras.optimizers.legacy.Adamax`.\n"
     ]
    },
    {
     "name": "stdout",
     "output_type": "stream",
     "text": [
      "46/46 [==============================] - 0s 5ms/step\n"
     ]
    }
   ],
   "source": [
    "m.load()\n",
    "grid_pred = m.predict(grid)"
   ]
  },
  {
   "cell_type": "code",
   "execution_count": 16,
   "id": "9e47912d",
   "metadata": {},
   "outputs": [
    {
     "name": "stdout",
     "output_type": "stream",
     "text": [
      "Begin Generating Table ...\n"
     ]
    },
    {
     "name": "stderr",
     "output_type": "stream",
     "text": [
      "100%|██████████| 1470/1470 [00:00<00:00, 90439.56it/s]\n"
     ]
    },
    {
     "name": "stdout",
     "output_type": "stream",
     "text": [
      "Done.\n",
      "\n",
      "Begin Calculating Q-error ...\n"
     ]
    },
    {
     "name": "stderr",
     "output_type": "stream",
     "text": [
      "100%|██████████| 100/100 [00:00<00:00, 43253.62it/s]"
     ]
    },
    {
     "name": "stdout",
     "output_type": "stream",
     "text": [
      "Done.\n",
      "\n",
      "dataset=wine2, query size=100, condition=[1, 2], loss=MSE):\n",
      "\n",
      "           Q-error\n",
      "min       1.006849\n",
      "10        1.052350\n",
      "20        1.095652\n",
      "30        1.163914\n",
      "40        1.225180\n",
      "median    1.251805\n",
      "60        1.280123\n",
      "70        1.491699\n",
      "80        1.798297\n",
      "90        2.303123\n",
      "95        6.379262\n",
      "99      113.578333\n",
      "max     121.333333\n",
      "mean      4.386888\n"
     ]
    },
    {
     "name": "stderr",
     "output_type": "stream",
     "text": [
      "\n"
     ]
    }
   ],
   "source": [
    "dataNew = m.generate(grid, grid_pred)\n",
    "np.savetxt(f\"{resultsPath}/generated_table.csv\", dataNew, delimiter=\",\")\n",
    "Q_error = calculate_Q_error(dataNew, query_set, table_size)\n",
    "print_Q_error(Q_error, args, resultsPath)"
   ]
  },
  {
   "cell_type": "code",
   "execution_count": 17,
   "id": "5b23881a",
   "metadata": {},
   "outputs": [
    {
     "data": {
      "text/plain": [
       "((5077, 2), (6497, 2))"
      ]
     },
     "execution_count": 17,
     "metadata": {},
     "output_type": "execute_result"
    }
   ],
   "source": [
    "dataNew.shape, table_size"
   ]
  },
  {
   "cell_type": "code",
   "execution_count": 18,
   "id": "b07af08f",
   "metadata": {},
   "outputs": [
    {
     "data": {
      "image/png": "[encoded data removed]",
      "text/plain": [
       "<Figure size 1200x600 with 2 Axes>"
      ]
     },
     "metadata": {},
     "output_type": "display_data"
    }
   ],
   "source": [
    "fig, axs = plt.subplots(1, 2, figsize=(12, 6))\n",
    "axs[0].plot(dataNew[:, 0], dataNew[:, 1], \"o\")\n",
    "axs[0].set_title(\"Generated Table\")\n",
    "axs[0].set_xlabel(\"X-axis\")\n",
    "axs[0].set_ylabel(\"Y-axis\")\n",
    "\n",
    "axs[1].plot(table[:, 0], table[:, 1], \"o\")\n",
    "axs[1].set_title(\"Original Table\")\n",
    "axs[1].set_xlabel(\"X-axis\")\n",
    "axs[1].set_ylabel(\"Y-axis\")\n",
    "plt.tight_layout()\n",
    "plt.show()"
   ]
  },
  {
   "cell_type": "code",
   "execution_count": null,
   "id": "17c90d0d",
   "metadata": {},
   "outputs": [],
   "source": []
  },
  {
   "cell_type": "markdown",
   "id": "a3311ecb",
   "metadata": {},
   "source": [
    "### generate_from_batches"
   ]
  },
  {
   "cell_type": "code",
   "execution_count": 19,
   "id": "200aaf47",
   "metadata": {},
   "outputs": [],
   "source": [
    "# 确认一下，下面 batch生成的数组格式和grid 的格式是否是相同的，shape"
   ]
  },
  {
   "cell_type": "code",
   "execution_count": 20,
   "id": "5db1f21f",
   "metadata": {},
   "outputs": [],
   "source": [
    "values = [v for v in unique_intervals.values()]\n",
    "mesh = np.meshgrid(*values)  # 所有unique interval 的笛卡尔积网格\n",
    "grid = np.array(mesh).T.reshape(-1, len(values)).astype(np.float32)"
   ]
  },
  {
   "cell_type": "code",
   "execution_count": 21,
   "id": "5ddaeb5a",
   "metadata": {},
   "outputs": [],
   "source": [
    "def _generate_grid_batches(values, batch_size):\n",
    "    iterator = itertools.product(*values)\n",
    "    while True:\n",
    "        batch = list(itertools.islice(iterator, batch_size))\n",
    "        if not batch:\n",
    "            break\n",
    "        yield np.array(batch).astype(np.float32)"
   ]
  },
  {
   "cell_type": "code",
   "execution_count": 22,
   "id": "23505901",
   "metadata": {},
   "outputs": [
    {
     "name": "stderr",
     "output_type": "stream",
     "text": [
      "100%|██████████| 1/1 [00:00<00:00, 1149.44it/s]\n"
     ]
    }
   ],
   "source": [
    "values = [v for v in unique_intervals.values()]\n",
    "total_combinations = np.prod([len(v) for v in values])\n",
    "batch_size = 10000\n",
    "processed_batches = []\n",
    "for batch in tqdm(\n",
    "    _generate_grid_batches(values, batch_size), total=(total_combinations // batch_size) + 1\n",
    "):\n",
    "    processed_batches.append(batch)\n",
    "\n",
    "final_array = np.vstack(processed_batches)"
   ]
  },
  {
   "cell_type": "code",
   "execution_count": 23,
   "id": "ecd88765",
   "metadata": {},
   "outputs": [],
   "source": [
    "assert grid.shape == final_array.shape"
   ]
  },
  {
   "cell_type": "code",
   "execution_count": 24,
   "id": "43dd6b6a",
   "metadata": {},
   "outputs": [],
   "source": [
    "assert (final_array == grid).sum() == np.prod(grid.shape)"
   ]
  },
  {
   "cell_type": "code",
   "execution_count": 28,
   "id": "2212acc3",
   "metadata": {},
   "outputs": [
    {
     "name": "stdout",
     "output_type": "stream",
     "text": [
      "Begin Generating Table from Batches (batch_size=10000) ...\n"
     ]
    },
    {
     "name": "stderr",
     "output_type": "stream",
     "text": [
      "  0%|          | 0/1 [00:00<?, ?it/s]"
     ]
    },
    {
     "name": "stdout",
     "output_type": "stream",
     "text": [
      "46/46 [==============================] - 0s 6ms/step\n"
     ]
    },
    {
     "name": "stderr",
     "output_type": "stream",
     "text": [
      "100%|██████████| 1/1 [00:00<00:00,  2.79it/s]\n"
     ]
    },
    {
     "name": "stdout",
     "output_type": "stream",
     "text": [
      "Done.\n",
      "\n",
      "Begin Calculating Q-error ...\n"
     ]
    },
    {
     "name": "stderr",
     "output_type": "stream",
     "text": [
      "100%|██████████| 100/100 [00:00<00:00, 39078.58it/s]"
     ]
    },
    {
     "name": "stdout",
     "output_type": "stream",
     "text": [
      "Done.\n",
      "\n",
      "dataset=wine2, query size=100, condition=[1, 2], loss=MSE):\n",
      "\n",
      "           Q-error\n",
      "min       1.006849\n",
      "10        1.052350\n",
      "20        1.095652\n",
      "30        1.163914\n",
      "40        1.225180\n",
      "median    1.251805\n",
      "60        1.280123\n",
      "70        1.491699\n",
      "80        1.798297\n",
      "90        2.303123\n",
      "95        6.379262\n",
      "99      113.578333\n",
      "max     121.333333\n",
      "mean      4.386888\n"
     ]
    },
    {
     "name": "stderr",
     "output_type": "stream",
     "text": [
      "\n"
     ]
    }
   ],
   "source": [
    "dataNew = m.generate_6(unique_intervals, batch_size=10000)\n",
    "np.savetxt(f\"{resultsPath}/generated_table.csv\", dataNew, delimiter=\",\")\n",
    "Q_error = calculate_Q_error(dataNew, query_set, table_size)\n",
    "print_Q_error(Q_error, args, resultsPath)"
   ]
  },
  {
   "cell_type": "code",
   "execution_count": null,
   "id": "a962b2c9",
   "metadata": {},
   "outputs": [],
   "source": []
  },
  {
   "cell_type": "code",
   "execution_count": null,
   "id": "40cf9e15",
   "metadata": {},
   "outputs": [],
   "source": []
  },
  {
   "cell_type": "code",
   "execution_count": 26,
   "id": "2d4730e0",
   "metadata": {},
   "outputs": [
    {
     "ename": "SyntaxError",
     "evalue": "'break' outside loop (668683560.py, line 1)",
     "output_type": "error",
     "traceback": [
      "\u001b[0;36m  Cell \u001b[0;32mIn[26], line 1\u001b[0;36m\u001b[0m\n\u001b[0;31m    break\u001b[0m\n\u001b[0m    ^\u001b[0m\n\u001b[0;31mSyntaxError\u001b[0m\u001b[0;31m:\u001b[0m 'break' outside loop\n"
     ]
    }
   ],
   "source": [
    "break"
   ]
  },
  {
   "cell_type": "code",
   "execution_count": null,
   "metadata": {},
   "outputs": [],
   "source": []
  },
  {
   "cell_type": "markdown",
   "id": "8f83a421",
   "metadata": {},
   "source": [
    "### 测试简单分布中，使用generate是否能得到正确的分布"
   ]
  },
  {
   "cell_type": "code",
   "execution_count": null,
   "id": "0aebd6c5",
   "metadata": {},
   "outputs": [],
   "source": [
    "data = np.array([[2, 9], [5, 4], [3, 1], [9, 3], [2, 9], [2, 9], [3, 10], [9, 1], [10, 1], [10, 1]])\n",
    "values = [range(1, 11), range(1, 11)]\n",
    "mesh = np.meshgrid(*values)  # 所有unique interval 的笛卡尔积网格\n",
    "grid = np.array(mesh).T.reshape(-1, len(values)).astype(np.float32)\n",
    "results = []\n",
    "df = pd.DataFrame(data, columns=[\"x\", \"y\"])\n",
    "for x in range(1, 11):\n",
    "    for y in range(1, 11):\n",
    "        count = df[(df[\"x\"] <= x) & (df[\"y\"] <= y)].shape[0]\n",
    "        results.append(count)\n",
    "pred = np.array(results).reshape(-1, 1) / df.shape[0]"
   ]
  },
  {
   "cell_type": "code",
   "execution_count": null,
   "id": "61441fdf",
   "metadata": {},
   "outputs": [],
   "source": [
    "n_row = df.shape[0]\n",
    "n_column = df.shape[1]"
   ]
  },
  {
   "cell_type": "code",
   "execution_count": null,
   "id": "a9d6f5ad",
   "metadata": {},
   "outputs": [],
   "source": [
    "def generate_5(grid, pred=None):\n",
    "    # numpy / calculate_query_cardinality_numpy / np.concatenate\n",
    "    # generate by row, one query may generate several rows\n",
    "    print(\"Begin Generating Table ...\")\n",
    "    count = 0\n",
    "    ArrayNew = None\n",
    "    ops = [\"<=\"] * n_column\n",
    "    pred = (pred * n_row).astype(int)  # Case 1: change 0.8 to 0, 1.8 to 1\n",
    "    for i in tqdm(range(grid.shape[0])):\n",
    "        vals = grid[i]\n",
    "        card = pred[i, 0] - calculate_query_cardinality(ArrayNew, ops, vals)\n",
    "        if card >= 1:\n",
    "            array3 = np.repeat(vals, card).reshape(self.n_column, card).T\n",
    "            ArrayNew = array3 if ArrayNew is None else np.concatenate((ArrayNew, array3), axis=0)\n",
    "            count += card\n",
    "            if count > n_row:\n",
    "                print(\n",
    "                    f\"Reached table max row length({n_row}) in {i}-th row of grid with grid value of {vals}, stop generation.\"\n",
    "                )\n",
    "                break\n",
    "    else:\n",
    "        print(\"Done.\\n\")\n",
    "        # if count < n_row:\n",
    "        #     print(\n",
    "        #         f\"Generated table row length({count}) is less than the original table row length({n_row}).\"\n",
    "        #     )\n",
    "        #     # 如果不足,补系统最大值吗？\n",
    "        return ArrayNew\n",
    "    return ArrayNew[:n_row, :]"
   ]
  },
  {
   "cell_type": "code",
   "execution_count": null,
   "id": "0fc0df8e",
   "metadata": {},
   "outputs": [],
   "source": [
    "dataNew = generate_5(grid, pred)\n",
    "dataNew"
   ]
  },
  {
   "cell_type": "code",
   "execution_count": null,
   "id": "1df79022",
   "metadata": {},
   "outputs": [],
   "source": [
    "dataNew.plot(kind=\"scatter\", x=\"col_0\", y=\"col_1\", alpha=0.5)"
   ]
  },
  {
   "cell_type": "code",
   "execution_count": null,
   "id": "6d9915b5",
   "metadata": {},
   "outputs": [],
   "source": []
  },
  {
   "cell_type": "code",
   "execution_count": null,
   "metadata": {},
   "outputs": [],
   "source": []
  },
  {
   "cell_type": "code",
   "execution_count": null,
   "id": "a1135c42",
   "metadata": {},
   "outputs": [],
   "source": []
  },
  {
   "cell_type": "code",
   "execution_count": null,
   "id": "eb9071ad",
   "metadata": {},
   "outputs": [],
   "source": []
  },
  {
   "cell_type": "markdown",
   "id": "3aeafb7c",
   "metadata": {},
   "source": [
    "#### 为什么 kl散度是负数，修改 epoch为一个很小的值，看看是否会出现负数"
   ]
  },
  {
   "cell_type": "code",
   "execution_count": null,
   "id": "8790f817",
   "metadata": {},
   "outputs": [],
   "source": [
    "# 可能与网络的初始化输出值有关？\n",
    "# 使用 kl散度是否时正确的，如何使用神经网络进行最大似然估计，似然与kl散度之间的关系是什么？"
   ]
  },
  {
   "cell_type": "code",
   "execution_count": null,
   "id": "ce6fe0b7",
   "metadata": {},
   "outputs": [],
   "source": [
    "def some(a):\n",
    "    b = 9\n",
    "    return a + b"
   ]
  },
  {
   "cell_type": "code",
   "execution_count": null,
   "id": "c05e2fb6",
   "metadata": {},
   "outputs": [],
   "source": [
    "some(3)"
   ]
  },
  {
   "cell_type": "code",
   "execution_count": null,
   "id": "e6980010",
   "metadata": {},
   "outputs": [],
   "source": [
    "grid_pred"
   ]
  },
  {
   "cell_type": "code",
   "execution_count": null,
   "id": "0b989136",
   "metadata": {},
   "outputs": [],
   "source": [
    "train_X"
   ]
  },
  {
   "cell_type": "code",
   "execution_count": null,
   "id": "77e5d7ef",
   "metadata": {},
   "outputs": [],
   "source": [
    "train_X.shape"
   ]
  },
  {
   "cell_type": "code",
   "execution_count": null,
   "id": "a808cb5b",
   "metadata": {},
   "outputs": [],
   "source": [
    "train_Y.shape"
   ]
  },
  {
   "cell_type": "code",
   "execution_count": null,
   "id": "9053765f",
   "metadata": {},
   "outputs": [],
   "source": [
    "m.predict(train_X)"
   ]
  },
  {
   "cell_type": "code",
   "execution_count": null,
   "id": "af34fe5e",
   "metadata": {},
   "outputs": [],
   "source": []
  },
  {
   "cell_type": "code",
   "execution_count": null,
   "id": "37477b65",
   "metadata": {},
   "outputs": [],
   "source": []
  },
  {
   "cell_type": "code",
   "execution_count": null,
   "id": "a7280f60",
   "metadata": {},
   "outputs": [],
   "source": [
    "# 2024/06/06 update\n",
    "## 计算 Q-error 的速度：calculate_Q_error > calculate_Q_error_old, 二者的准确性相同, 目前的速度已经很快了\n",
    "## 生成表的速度：generate_3 > generate > generate_2，之后考虑用numpy的concatenate来替代pd的concat，进一步提升生成速度，第二个思路：如果采用 auto regressive 模型,按列生成是否可以借助 gpu 来加速，\n",
    "## 生成表的准确性：generate = generate_2 约等于 generate_3(有时候高，有时候低，误差不大，0.1与0.09999999的差别)"
   ]
  },
  {
   "cell_type": "markdown",
   "id": "e6d7c2dd",
   "metadata": {},
   "source": [
    "# 画图"
   ]
  },
  {
   "cell_type": "code",
   "execution_count": null,
   "id": "4addf73c",
   "metadata": {},
   "outputs": [],
   "source": [
    "# 把plot 整合到 lattice里，或者单独写几个函数"
   ]
  },
  {
   "cell_type": "code",
   "execution_count": null,
   "id": "6f0d7c58",
   "metadata": {},
   "outputs": [],
   "source": [
    "grid_pred = m.predict(grid)"
   ]
  },
  {
   "cell_type": "code",
   "execution_count": null,
   "id": "4bba1121",
   "metadata": {},
   "outputs": [],
   "source": [
    "plt.figure(figsize=(20, 8))\n",
    "plt.plot(grid_pred, \"bo\")"
   ]
  },
  {
   "cell_type": "code",
   "execution_count": null,
   "id": "1aed0fd4",
   "metadata": {},
   "outputs": [],
   "source": [
    "fig1 = plt.figure(figsize=(15, 8))\n",
    "ax1 = plt.axes(projection=\"3d\")\n",
    "\n",
    "# xx = unique_intervals[1]\n",
    "# yy = unique_intervals[0]\n",
    "# X, Y = np.meshgrid(xx, yy)\n",
    "\n",
    "X = grid[:, 1].reshape(column_interval_number[0], column_interval_number[1])  # 这样也可以\n",
    "Y = grid[:, 0].reshape(column_interval_number[0], column_interval_number[1])\n",
    "Z = grid_pred.reshape(column_interval_number[0], column_interval_number[1])\n",
    "\n",
    "ax1.plot_surface(X, Y, Z, cmap=\"viridis\")\n",
    "plt.show()"
   ]
  },
  {
   "cell_type": "code",
   "execution_count": null,
   "id": "3b1929bc",
   "metadata": {},
   "outputs": [],
   "source": [
    "fig2 = plt.figure(figsize=(10, 8))\n",
    "ax2 = fig2.add_subplot(111)\n",
    "cs = ax2.contourf(X, Y, Z, cmap=\"viridis\")\n",
    "\n",
    "# Alternatively, you can manually set the levels\n",
    "# and the norm:\n",
    "# lev_exp = np.arange(np.floor(np.log10(z.min())-1),\n",
    "#                    np.ceil(np.log10(z.max())+1))\n",
    "# levs = np.power(10, lev_exp)\n",
    "# cs = ax.contourf(X, Y, z, levs, norm=colors.LogNorm())    # 这个是啥\n",
    "\n",
    "cbar = fig2.colorbar(cs)  # 让colorbar细粒度更高一点\n",
    "plt.show()"
   ]
  },
  {
   "cell_type": "code",
   "execution_count": null,
   "id": "082a9d36",
   "metadata": {},
   "outputs": [],
   "source": [
    "# 画一下原生的图做对比，是否需要更光滑\n",
    "# 变得光滑：\n",
    "# 1. 数据预处理，缩放，标准化\n",
    "# 2. 凸函数\n",
    "# 3. lattice正则器"
   ]
  },
  {
   "cell_type": "code",
   "execution_count": null,
   "id": "21e88c39",
   "metadata": {},
   "outputs": [],
   "source": [
    "# query 对网格的覆盖率 散点图\n",
    "fig4 = plt.figure(figsize=(10, 10))\n",
    "xtick = unique_intervals[0]\n",
    "ytick = unique_intervals[1]\n",
    "plt.scatter(train_X[:, 0], train_X[:, 1], c=\"b\")\n",
    "plt.vlines(xtick, min(ytick), max(ytick), colors=\"green\")\n",
    "plt.hlines(ytick, min(xtick), max(xtick), colors=\"green\")\n",
    "plt.show()"
   ]
  },
  {
   "cell_type": "markdown",
   "id": "0a59574b",
   "metadata": {},
   "source": [
    "# Lattice 其它尝试"
   ]
  },
  {
   "cell_type": "code",
   "execution_count": null,
   "id": "68211d8b",
   "metadata": {},
   "outputs": [],
   "source": [
    "# 对比，对query做unique 和 不做unique的误差"
   ]
  },
  {
   "cell_type": "code",
   "execution_count": null,
   "id": "227a4058",
   "metadata": {},
   "outputs": [],
   "source": [
    "# 对比传入table unique value 和 只传入 unique_intervals的模型优化效果"
   ]
  },
  {
   "cell_type": "code",
   "execution_count": null,
   "id": "4529dfa9",
   "metadata": {},
   "outputs": [],
   "source": [
    "# table unique value\n",
    "data = table.data.to_numpy()\n",
    "unique_vals = []\n",
    "for i in range(data.shape[1]):\n",
    "    unique_vals.append(np.unique(data[:, i]))"
   ]
  },
  {
   "cell_type": "code",
   "execution_count": null,
   "id": "9a4a2600",
   "metadata": {},
   "outputs": [],
   "source": [
    "unique_vals"
   ]
  },
  {
   "cell_type": "markdown",
   "id": "0112dc94",
   "metadata": {},
   "source": [
    "# 尝试 tfl.configs.FeatureConfig"
   ]
  },
  {
   "cell_type": "code",
   "execution_count": null,
   "id": "72d6a870",
   "metadata": {},
   "outputs": [],
   "source": [
    "NUM_EPOCHS = 1000\n",
    "BATCH_SIZE = 64\n",
    "LEARNING_RATE = 0.01"
   ]
  },
  {
   "cell_type": "code",
   "execution_count": null,
   "id": "37d2d787",
   "metadata": {},
   "outputs": [],
   "source": [
    "# feat_mins = train_X.min(axis=0)\n",
    "# feat_maxs = train_X.max(axis=0)\n",
    "train = np.concatenate((train_X, train_Y), axis=1)\n",
    "train = np.unique(train, axis=0)\n",
    "train_X, train_Y = np.hsplit(train, [-1])\n",
    "df_train = pd.DataFrame(train, columns=[f\"col_{i}\" for i in range(train.shape[1] - 1)] + [\"sel\"])"
   ]
  },
  {
   "cell_type": "code",
   "execution_count": null,
   "id": "dd07a35b",
   "metadata": {},
   "outputs": [],
   "source": [
    "train_input_fn = tf.compat.v1.estimator.inputs.pandas_input_fn(\n",
    "    x=df_train,\n",
    "    y=df_train[\"sel\"],\n",
    "    batch_size=BATCH_SIZE,\n",
    "    num_epochs=NUM_EPOCHS,\n",
    "    shuffle=False,\n",
    ")\n",
    "\n",
    "# feature_analysis_input_fn is used for TF Lattice estimators.\n",
    "feature_analysis_input_fn = tf.compat.v1.estimator.inputs.pandas_input_fn(\n",
    "    x=df_train,\n",
    "    y=df_train[\"sel\"],\n",
    "    batch_size=BATCH_SIZE,\n",
    "    num_epochs=1,\n",
    "    shuffle=False,\n",
    ")"
   ]
  },
  {
   "cell_type": "code",
   "execution_count": null,
   "id": "c3ba4c6b",
   "metadata": {},
   "outputs": [],
   "source": [
    "feature_columns = [\n",
    "    tf.feature_column.numeric_column(\"col_0\"),\n",
    "    tf.feature_column.numeric_column(\"col_1\"),\n",
    "    tf.feature_column.numeric_column(\"col_2\"),\n",
    "]\n",
    "model_config = tfl.configs.CalibratedLatticeConfig(\n",
    "    feature_configs=[\n",
    "        tfl.configs.FeatureConfig(\n",
    "            name=\"col_0\",\n",
    "            lattice_size=2,\n",
    "            monotonicity=\"increasing\",\n",
    "            pwl_calibration_num_keypoints=1000,\n",
    "        ),\n",
    "        tfl.configs.FeatureConfig(\n",
    "            name=\"col_1\",\n",
    "            lattice_size=2,\n",
    "            monotonicity=\"increasing\",\n",
    "            pwl_calibration_num_keypoints=1000,\n",
    "        ),\n",
    "        tfl.configs.FeatureConfig(\n",
    "            name=\"col_1\",\n",
    "            lattice_size=2,\n",
    "            monotonicity=\"increasing\",\n",
    "            pwl_calibration_num_keypoints=1000,\n",
    "        ),\n",
    "    ]\n",
    ")\n",
    "tfl_estimator = tfl.estimators.CannedClassifier(\n",
    "    feature_columns=feature_columns,\n",
    "    model_config=model_config,\n",
    "    feature_analysis_input_fn=feature_analysis_input_fn,\n",
    "    optimizer=tf.keras.optimizers.Adam(learning_rate=LEARNING_RATE),\n",
    "    config=tf.estimator.RunConfig(tf_random_seed=42),\n",
    ")\n",
    "tfl_estimator.train(input_fn=train_input_fn)"
   ]
  },
  {
   "cell_type": "code",
   "execution_count": null,
   "id": "df5d121f",
   "metadata": {},
   "outputs": [],
   "source": [
    "from IPython.core.pylabtools import figsize"
   ]
  },
  {
   "cell_type": "code",
   "execution_count": null,
   "id": "b3ce7747",
   "metadata": {},
   "outputs": [],
   "source": [
    "def save_and_visualize_lattice(tfl_estimator):\n",
    "    saved_model_path = tfl_estimator.export_saved_model(\n",
    "        \"/tmp/TensorFlow_Lattice_101/\",\n",
    "        tf.estimator.export.build_parsing_serving_input_receiver_fn(\n",
    "            feature_spec=tf.feature_column.make_parse_example_spec(feature_columns)\n",
    "        ),\n",
    "    )\n",
    "    model_graph = tfl.estimators.get_model_graph(saved_model_path)\n",
    "    figsize(8, 8)\n",
    "    tfl.visualization.draw_model_graph(model_graph)\n",
    "    return model_graph\n",
    "\n",
    "\n",
    "_ = save_and_visualize_lattice(tfl_estimator)"
   ]
  },
  {
   "cell_type": "code",
   "execution_count": null,
   "id": "5e3d4da5",
   "metadata": {},
   "outputs": [],
   "source": [
    "def query_to_lattice_input(table_size, query_set):\n",
    "    # Traverse all queries to apply the intervalization skill for each column\n",
    "    n_column = table_size[1]\n",
    "    x = [sys.maxsize] * n_column\n",
    "    for i in range(n_column):\n",
    "        column_interval[i] = set(\n",
    "            [0, sys.maxsize]\n",
    "        )  # use set([0, sys.maxsize]) to adapt '>' and '<'.\n",
    "    for query in query_set:\n",
    "        col_idxs = query[1]\n",
    "        vals = query[3]\n",
    "        for i in range(len(col_idxs)):\n",
    "            column_interval[col_idxs[i]].add(vals[i][0])\n",
    "    for k, v in column_interval.items():\n",
    "        if not v:\n",
    "            column_interval[k] = [0]\n",
    "        else:\n",
    "            column_interval[k] = sorted(list(v))\n",
    "    return column_interval"
   ]
  },
  {
   "cell_type": "code",
   "execution_count": null,
   "id": "fb031ba8",
   "metadata": {},
   "outputs": [],
   "source": []
  },
  {
   "cell_type": "code",
   "execution_count": null,
   "id": "7091da7e",
   "metadata": {},
   "outputs": [],
   "source": []
  }
 ],
 "metadata": {
  "kernelspec": {
   "display_name": "Python 3 (ipykernel)",
   "language": "python",
   "name": "python3"
  },
  "language_info": {
   "codemirror_mode": {
    "name": "ipython",
    "version": 3
   },
   "file_extension": ".py",
   "mimetype": "text/x-python",
   "name": "python",
   "nbconvert_exporter": "python",
   "pygments_lexer": "ipython3",
   "version": "3.9.18"
  }
 },
 "nbformat": 4,
 "nbformat_minor": 5
}
