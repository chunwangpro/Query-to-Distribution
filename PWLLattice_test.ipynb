{
 "cells": [
  {
   "cell_type": "markdown",
   "id": "5516e8a0",
   "metadata": {},
   "source": [
    "# PWL - Lattice"
   ]
  },
  {
   "cell_type": "markdown",
   "id": "8ca8eead",
   "metadata": {},
   "source": [
    "### %load PWLLattice.py"
   ]
  },
  {
   "cell_type": "code",
   "execution_count": null,
   "id": "f23a4d87",
   "metadata": {},
   "outputs": [],
   "source": [
    "# %load PWLLattice.py"
   ]
  },
  {
   "cell_type": "code",
   "execution_count": 3,
   "id": "7ebac34e",
   "metadata": {},
   "outputs": [
    {
     "name": "stderr",
     "output_type": "stream",
     "text": [
      "usage: ipykernel_launcher.py [-h] [--dataset DATASET]\n",
      "                             [--query-size QUERY_SIZE]\n",
      "                             [--min-conditions MIN_CONDITIONS]\n",
      "                             [--max-conditions MAX_CONDITIONS]\n",
      "                             [--epochs EPOCHS] [--bs BS] [--loss LOSS]\n",
      "                             [--lattice-size LATTICE_SIZE] [--lr LR]\n",
      "                             [--seed SEED]\n",
      "ipykernel_launcher.py: error: unrecognized arguments: --f=/Users/chun/Library/Jupyter/runtime/kernel-v2-81295DRwBH2mai2xH.json\n"
     ]
    },
    {
     "name": "stdout",
     "output_type": "stream",
     "text": [
      "\n",
      "Begin Loading Data ...\n",
      "wine2.csv\n",
      "Done.\n",
      "\n",
      "Begin Generating Queries Set ...\n"
     ]
    },
    {
     "name": "stderr",
     "output_type": "stream",
     "text": [
      "100%|██████████| 100000/100000 [00:03<00:00, 26762.51it/s]\n"
     ]
    },
    {
     "name": "stdout",
     "output_type": "stream",
     "text": [
      "Done.\n",
      "\n",
      "Begin Intervalization ...\n",
      "column_interval_number=[108, 189]\n",
      "Done.\n",
      "\n",
      "Begin Building Train set and Model ...\n",
      "Model: \"model_1\"\n",
      "__________________________________________________________________________________________________\n",
      " Layer (type)                Output Shape                 Param #   Connected to                  \n",
      "==================================================================================================\n",
      " col_0 (InputLayer)          [(None, 1)]                  0         []                            \n",
      "                                                                                                  \n",
      " col_1 (InputLayer)          [(None, 1)]                  0         []                            \n",
      "                                                                                                  \n",
      " pwl_calibration_2 (PWLCali  (None, 1)                    108       ['col_0[0][0]']               \n",
      " bration)                                                                                         \n",
      "                                                                                                  \n",
      " pwl_calibration_3 (PWLCali  (None, 1)                    189       ['col_1[0][0]']               \n",
      " bration)                                                                                         \n",
      "                                                                                                  \n",
      " lattice (Lattice)           (None, 1)                    4         ['pwl_calibration_2[0][0]',   \n",
      "                                                                     'pwl_calibration_3[0][0]']   \n",
      "                                                                                                  \n",
      "==================================================================================================\n",
      "Total params: 301 (1.18 KB)\n",
      "Trainable params: 301 (1.18 KB)\n",
      "Non-trainable params: 0 (0.00 Byte)\n",
      "__________________________________________________________________________________________________\n"
     ]
    },
    {
     "name": "stderr",
     "output_type": "stream",
     "text": [
      "WARNING:absl:At this time, the v2.11+ optimizer `tf.keras.optimizers.Adamax` runs slowly on M1/M2 Macs, please use the legacy Keras optimizer instead, located at `tf.keras.optimizers.legacy.Adamax`.\n"
     ]
    },
    {
     "name": "stdout",
     "output_type": "stream",
     "text": [
      "Done.\n",
      "\n",
      "Epoch 1/3000\n",
      "100/100 [==============================] - ETA: 0s - loss: 0.0109\n",
      "Epoch 1: loss improved from inf to 0.01085, saving model to saved_models/wine2_100000_1_2_MSE/PWLLattice_weight.h5\n",
      "100/100 [==============================] - 6s 46ms/step - loss: 0.0109 - lr: 0.0100\n",
      "Epoch 2/3000\n",
      "100/100 [==============================] - ETA: 0s - loss: 0.0015\n",
      "Epoch 2: loss improved from 0.01085 to 0.00155, saving model to saved_models/wine2_100000_1_2_MSE/PWLLattice_weight.h5\n",
      "100/100 [==============================] - 4s 45ms/step - loss: 0.0015 - lr: 0.0100\n",
      "Epoch 3/3000\n",
      "100/100 [==============================] - ETA: 0s - loss: 0.0012\n",
      "Epoch 3: loss improved from 0.00155 to 0.00124, saving model to saved_models/wine2_100000_1_2_MSE/PWLLattice_weight.h5\n",
      "100/100 [==============================] - 4s 44ms/step - loss: 0.0012 - lr: 0.0100\n",
      "Epoch 4/3000\n",
      " 99/100 [============================>.] - ETA: 0s - loss: 0.0012\n",
      "Epoch 4: loss improved from 0.00124 to 0.00121, saving model to saved_models/wine2_100000_1_2_MSE/PWLLattice_weight.h5\n",
      "100/100 [==============================] - 4s 44ms/step - loss: 0.0012 - lr: 0.0100\n",
      "Epoch 5/3000\n",
      " 99/100 [============================>.] - ETA: 0s - loss: 0.0012\n",
      "Epoch 5: loss improved from 0.00121 to 0.00120, saving model to saved_models/wine2_100000_1_2_MSE/PWLLattice_weight.h5\n",
      "100/100 [==============================] - 4s 44ms/step - loss: 0.0012 - lr: 0.0100\n",
      "Epoch 6/3000\n",
      "100/100 [==============================] - ETA: 0s - loss: 0.0012\n",
      "Epoch 6: loss improved from 0.00120 to 0.00120, saving model to saved_models/wine2_100000_1_2_MSE/PWLLattice_weight.h5\n",
      "100/100 [==============================] - 4s 44ms/step - loss: 0.0012 - lr: 0.0100\n",
      "Epoch 7/3000\n",
      " 99/100 [============================>.] - ETA: 0s - loss: 0.0012\n",
      "Epoch 7: loss improved from 0.00120 to 0.00119, saving model to saved_models/wine2_100000_1_2_MSE/PWLLattice_weight.h5\n",
      "100/100 [==============================] - 4s 44ms/step - loss: 0.0012 - lr: 0.0100\n",
      "Epoch 8/3000\n",
      "100/100 [==============================] - ETA: 0s - loss: 0.0012\n",
      "Epoch 8: loss improved from 0.00119 to 0.00119, saving model to saved_models/wine2_100000_1_2_MSE/PWLLattice_weight.h5\n",
      "100/100 [==============================] - 4s 44ms/step - loss: 0.0012 - lr: 0.0100\n",
      "Epoch 9/3000\n",
      "100/100 [==============================] - ETA: 0s - loss: 0.0012\n",
      "Epoch 9: loss improved from 0.00119 to 0.00119, saving model to saved_models/wine2_100000_1_2_MSE/PWLLattice_weight.h5\n",
      "100/100 [==============================] - 4s 44ms/step - loss: 0.0012 - lr: 0.0100\n",
      "Epoch 10/3000\n",
      "100/100 [==============================] - ETA: 0s - loss: 0.0012\n",
      "Epoch 10: loss improved from 0.00119 to 0.00119, saving model to saved_models/wine2_100000_1_2_MSE/PWLLattice_weight.h5\n",
      "100/100 [==============================] - 4s 44ms/step - loss: 0.0012 - lr: 0.0100\n",
      "Epoch 11/3000\n",
      " 71/100 [====================>.........] - ETA: 1s - loss: 0.0012"
     ]
    },
    {
     "ename": "KeyboardInterrupt",
     "evalue": "",
     "output_type": "error",
     "traceback": [
      "\u001b[0;31m---------------------------------------------------------------------------\u001b[0m",
      "\u001b[0;31mKeyboardInterrupt\u001b[0m                         Traceback (most recent call last)",
      "Cell \u001b[0;32mIn[3], line 112\u001b[0m\n\u001b[1;32m    103\u001b[0m m \u001b[38;5;241m=\u001b[39m PWLLattice(\n\u001b[1;32m    104\u001b[0m     modelPath,\n\u001b[1;32m    105\u001b[0m     table_size,\n\u001b[0;32m   (...)\u001b[0m\n\u001b[1;32m    108\u001b[0m     lattice_size\u001b[38;5;241m=\u001b[39margs\u001b[38;5;241m.\u001b[39mlattice_size,\n\u001b[1;32m    109\u001b[0m )\n\u001b[1;32m    110\u001b[0m \u001b[38;5;28mprint\u001b[39m(\u001b[38;5;124m\"\u001b[39m\u001b[38;5;124mDone.\u001b[39m\u001b[38;5;130;01m\\n\u001b[39;00m\u001b[38;5;124m\"\u001b[39m)\n\u001b[0;32m--> 112\u001b[0m \u001b[43mm\u001b[49m\u001b[38;5;241;43m.\u001b[39;49m\u001b[43mfit\u001b[49m\u001b[43m(\u001b[49m\u001b[43mtrain_X\u001b[49m\u001b[43m,\u001b[49m\u001b[43m \u001b[49m\u001b[43mtrain_Y\u001b[49m\u001b[43m,\u001b[49m\u001b[43m \u001b[49m\u001b[43mlr\u001b[49m\u001b[38;5;241;43m=\u001b[39;49m\u001b[43margs\u001b[49m\u001b[38;5;241;43m.\u001b[39;49m\u001b[43mlr\u001b[49m\u001b[43m,\u001b[49m\u001b[43m \u001b[49m\u001b[43mbs\u001b[49m\u001b[38;5;241;43m=\u001b[39;49m\u001b[43margs\u001b[49m\u001b[38;5;241;43m.\u001b[39;49m\u001b[43mbs\u001b[49m\u001b[43m,\u001b[49m\u001b[43m \u001b[49m\u001b[43mepochs\u001b[49m\u001b[38;5;241;43m=\u001b[39;49m\u001b[43margs\u001b[49m\u001b[38;5;241;43m.\u001b[39;49m\u001b[43mepochs\u001b[49m\u001b[43m,\u001b[49m\u001b[43m \u001b[49m\u001b[43mloss\u001b[49m\u001b[38;5;241;43m=\u001b[39;49m\u001b[43margs\u001b[49m\u001b[38;5;241;43m.\u001b[39;49m\u001b[43mloss\u001b[49m\u001b[43m)\u001b[49m\n\u001b[1;32m    113\u001b[0m m\u001b[38;5;241m.\u001b[39mload()\n\u001b[1;32m    115\u001b[0m dataNew \u001b[38;5;241m=\u001b[39m m\u001b[38;5;241m.\u001b[39mgenerate_by_row(unique_intervals, batch_size\u001b[38;5;241m=\u001b[39m\u001b[38;5;241m10000\u001b[39m)\n",
      "File \u001b[0;32m/Volumes/Macintosh HD2/科研/AIDB/LPALG/models.py:187\u001b[0m, in \u001b[0;36mPWLLattice.fit\u001b[0;34m(self, X, y, lr, bs, epochs, reduceLR_factor, reduceLR_patience, verbose, loss)\u001b[0m\n\u001b[1;32m    170\u001b[0m mcp_save \u001b[38;5;241m=\u001b[39m tf\u001b[38;5;241m.\u001b[39mkeras\u001b[38;5;241m.\u001b[39mcallbacks\u001b[38;5;241m.\u001b[39mModelCheckpoint(\n\u001b[1;32m    171\u001b[0m     filepath\u001b[38;5;241m=\u001b[39m\u001b[38;5;124mf\u001b[39m\u001b[38;5;124m\"\u001b[39m\u001b[38;5;132;01m{\u001b[39;00m\u001b[38;5;28mself\u001b[39m\u001b[38;5;241m.\u001b[39mweight_path\u001b[38;5;132;01m}\u001b[39;00m\u001b[38;5;124m.h5\u001b[39m\u001b[38;5;124m\"\u001b[39m,\n\u001b[1;32m    172\u001b[0m     save_weights_only\u001b[38;5;241m=\u001b[39m\u001b[38;5;28;01mTrue\u001b[39;00m,\n\u001b[0;32m   (...)\u001b[0m\n\u001b[1;32m    176\u001b[0m     verbose\u001b[38;5;241m=\u001b[39m\u001b[38;5;241m1\u001b[39m,\n\u001b[1;32m    177\u001b[0m )\n\u001b[1;32m    178\u001b[0m reduce_lr_loss \u001b[38;5;241m=\u001b[39m tf\u001b[38;5;241m.\u001b[39mkeras\u001b[38;5;241m.\u001b[39mcallbacks\u001b[38;5;241m.\u001b[39mReduceLROnPlateau(\n\u001b[1;32m    179\u001b[0m     monitor\u001b[38;5;241m=\u001b[39m\u001b[38;5;124m\"\u001b[39m\u001b[38;5;124mloss\u001b[39m\u001b[38;5;124m\"\u001b[39m,\n\u001b[1;32m    180\u001b[0m     factor\u001b[38;5;241m=\u001b[39mreduceLR_factor,\n\u001b[0;32m   (...)\u001b[0m\n\u001b[1;32m    184\u001b[0m     mode\u001b[38;5;241m=\u001b[39m\u001b[38;5;124m\"\u001b[39m\u001b[38;5;124mmin\u001b[39m\u001b[38;5;124m\"\u001b[39m,\n\u001b[1;32m    185\u001b[0m )\n\u001b[0;32m--> 187\u001b[0m \u001b[38;5;28;43mself\u001b[39;49m\u001b[38;5;241;43m.\u001b[39;49m\u001b[43mmodel\u001b[49m\u001b[38;5;241;43m.\u001b[39;49m\u001b[43mfit\u001b[49m\u001b[43m(\u001b[49m\n\u001b[1;32m    188\u001b[0m \u001b[43m    \u001b[49m\u001b[43mfeatures\u001b[49m\u001b[43m,\u001b[49m\n\u001b[1;32m    189\u001b[0m \u001b[43m    \u001b[49m\u001b[43mtarget\u001b[49m\u001b[43m,\u001b[49m\n\u001b[1;32m    190\u001b[0m \u001b[43m    \u001b[49m\u001b[43mepochs\u001b[49m\u001b[38;5;241;43m=\u001b[39;49m\u001b[43mepochs\u001b[49m\u001b[43m,\u001b[49m\n\u001b[1;32m    191\u001b[0m \u001b[43m    \u001b[49m\u001b[43mbatch_size\u001b[49m\u001b[38;5;241;43m=\u001b[39;49m\u001b[43mbs\u001b[49m\u001b[43m,\u001b[49m\n\u001b[1;32m    192\u001b[0m \u001b[43m    \u001b[49m\u001b[43mverbose\u001b[49m\u001b[38;5;241;43m=\u001b[39;49m\u001b[38;5;241;43m1\u001b[39;49m\u001b[43m,\u001b[49m\n\u001b[1;32m    193\u001b[0m \u001b[43m    \u001b[49m\u001b[43mcallbacks\u001b[49m\u001b[38;5;241;43m=\u001b[39;49m\u001b[43m[\u001b[49m\u001b[43mearlyStopping\u001b[49m\u001b[43m,\u001b[49m\u001b[43m \u001b[49m\u001b[43mmcp_save\u001b[49m\u001b[43m,\u001b[49m\u001b[43m \u001b[49m\u001b[43mreduce_lr_loss\u001b[49m\u001b[43m]\u001b[49m\u001b[43m,\u001b[49m\n\u001b[1;32m    194\u001b[0m \u001b[43m\u001b[49m\u001b[43m)\u001b[49m\n\u001b[1;32m    195\u001b[0m \u001b[38;5;28mself\u001b[39m\u001b[38;5;241m.\u001b[39mmodel\u001b[38;5;241m.\u001b[39msave(\u001b[38;5;124mf\u001b[39m\u001b[38;5;124m\"\u001b[39m\u001b[38;5;132;01m{\u001b[39;00m\u001b[38;5;28mself\u001b[39m\u001b[38;5;241m.\u001b[39mmodel_path\u001b[38;5;132;01m}\u001b[39;00m\u001b[38;5;124m\"\u001b[39m)\n",
      "File \u001b[0;32m/opt/homebrew/Caskroom/miniforge/base/envs/lattice/lib/python3.9/site-packages/keras/src/utils/traceback_utils.py:65\u001b[0m, in \u001b[0;36mfilter_traceback.<locals>.error_handler\u001b[0;34m(*args, **kwargs)\u001b[0m\n\u001b[1;32m     63\u001b[0m filtered_tb \u001b[38;5;241m=\u001b[39m \u001b[38;5;28;01mNone\u001b[39;00m\n\u001b[1;32m     64\u001b[0m \u001b[38;5;28;01mtry\u001b[39;00m:\n\u001b[0;32m---> 65\u001b[0m     \u001b[38;5;28;01mreturn\u001b[39;00m \u001b[43mfn\u001b[49m\u001b[43m(\u001b[49m\u001b[38;5;241;43m*\u001b[39;49m\u001b[43margs\u001b[49m\u001b[43m,\u001b[49m\u001b[43m \u001b[49m\u001b[38;5;241;43m*\u001b[39;49m\u001b[38;5;241;43m*\u001b[39;49m\u001b[43mkwargs\u001b[49m\u001b[43m)\u001b[49m\n\u001b[1;32m     66\u001b[0m \u001b[38;5;28;01mexcept\u001b[39;00m \u001b[38;5;167;01mException\u001b[39;00m \u001b[38;5;28;01mas\u001b[39;00m e:\n\u001b[1;32m     67\u001b[0m     filtered_tb \u001b[38;5;241m=\u001b[39m _process_traceback_frames(e\u001b[38;5;241m.\u001b[39m__traceback__)\n",
      "File \u001b[0;32m/opt/homebrew/Caskroom/miniforge/base/envs/lattice/lib/python3.9/site-packages/keras/src/engine/training.py:1807\u001b[0m, in \u001b[0;36mModel.fit\u001b[0;34m(self, x, y, batch_size, epochs, verbose, callbacks, validation_split, validation_data, shuffle, class_weight, sample_weight, initial_epoch, steps_per_epoch, validation_steps, validation_batch_size, validation_freq, max_queue_size, workers, use_multiprocessing)\u001b[0m\n\u001b[1;32m   1799\u001b[0m \u001b[38;5;28;01mwith\u001b[39;00m tf\u001b[38;5;241m.\u001b[39mprofiler\u001b[38;5;241m.\u001b[39mexperimental\u001b[38;5;241m.\u001b[39mTrace(\n\u001b[1;32m   1800\u001b[0m     \u001b[38;5;124m\"\u001b[39m\u001b[38;5;124mtrain\u001b[39m\u001b[38;5;124m\"\u001b[39m,\n\u001b[1;32m   1801\u001b[0m     epoch_num\u001b[38;5;241m=\u001b[39mepoch,\n\u001b[0;32m   (...)\u001b[0m\n\u001b[1;32m   1804\u001b[0m     _r\u001b[38;5;241m=\u001b[39m\u001b[38;5;241m1\u001b[39m,\n\u001b[1;32m   1805\u001b[0m ):\n\u001b[1;32m   1806\u001b[0m     callbacks\u001b[38;5;241m.\u001b[39mon_train_batch_begin(step)\n\u001b[0;32m-> 1807\u001b[0m     tmp_logs \u001b[38;5;241m=\u001b[39m \u001b[38;5;28;43mself\u001b[39;49m\u001b[38;5;241;43m.\u001b[39;49m\u001b[43mtrain_function\u001b[49m\u001b[43m(\u001b[49m\u001b[43miterator\u001b[49m\u001b[43m)\u001b[49m\n\u001b[1;32m   1808\u001b[0m     \u001b[38;5;28;01mif\u001b[39;00m data_handler\u001b[38;5;241m.\u001b[39mshould_sync:\n\u001b[1;32m   1809\u001b[0m         context\u001b[38;5;241m.\u001b[39masync_wait()\n",
      "File \u001b[0;32m/opt/homebrew/Caskroom/miniforge/base/envs/lattice/lib/python3.9/site-packages/tensorflow/python/util/traceback_utils.py:150\u001b[0m, in \u001b[0;36mfilter_traceback.<locals>.error_handler\u001b[0;34m(*args, **kwargs)\u001b[0m\n\u001b[1;32m    148\u001b[0m filtered_tb \u001b[38;5;241m=\u001b[39m \u001b[38;5;28;01mNone\u001b[39;00m\n\u001b[1;32m    149\u001b[0m \u001b[38;5;28;01mtry\u001b[39;00m:\n\u001b[0;32m--> 150\u001b[0m   \u001b[38;5;28;01mreturn\u001b[39;00m \u001b[43mfn\u001b[49m\u001b[43m(\u001b[49m\u001b[38;5;241;43m*\u001b[39;49m\u001b[43margs\u001b[49m\u001b[43m,\u001b[49m\u001b[43m \u001b[49m\u001b[38;5;241;43m*\u001b[39;49m\u001b[38;5;241;43m*\u001b[39;49m\u001b[43mkwargs\u001b[49m\u001b[43m)\u001b[49m\n\u001b[1;32m    151\u001b[0m \u001b[38;5;28;01mexcept\u001b[39;00m \u001b[38;5;167;01mException\u001b[39;00m \u001b[38;5;28;01mas\u001b[39;00m e:\n\u001b[1;32m    152\u001b[0m   filtered_tb \u001b[38;5;241m=\u001b[39m _process_traceback_frames(e\u001b[38;5;241m.\u001b[39m__traceback__)\n",
      "File \u001b[0;32m/opt/homebrew/Caskroom/miniforge/base/envs/lattice/lib/python3.9/site-packages/tensorflow/python/eager/polymorphic_function/polymorphic_function.py:832\u001b[0m, in \u001b[0;36mFunction.__call__\u001b[0;34m(self, *args, **kwds)\u001b[0m\n\u001b[1;32m    829\u001b[0m compiler \u001b[38;5;241m=\u001b[39m \u001b[38;5;124m\"\u001b[39m\u001b[38;5;124mxla\u001b[39m\u001b[38;5;124m\"\u001b[39m \u001b[38;5;28;01mif\u001b[39;00m \u001b[38;5;28mself\u001b[39m\u001b[38;5;241m.\u001b[39m_jit_compile \u001b[38;5;28;01melse\u001b[39;00m \u001b[38;5;124m\"\u001b[39m\u001b[38;5;124mnonXla\u001b[39m\u001b[38;5;124m\"\u001b[39m\n\u001b[1;32m    831\u001b[0m \u001b[38;5;28;01mwith\u001b[39;00m OptionalXlaContext(\u001b[38;5;28mself\u001b[39m\u001b[38;5;241m.\u001b[39m_jit_compile):\n\u001b[0;32m--> 832\u001b[0m   result \u001b[38;5;241m=\u001b[39m \u001b[38;5;28;43mself\u001b[39;49m\u001b[38;5;241;43m.\u001b[39;49m\u001b[43m_call\u001b[49m\u001b[43m(\u001b[49m\u001b[38;5;241;43m*\u001b[39;49m\u001b[43margs\u001b[49m\u001b[43m,\u001b[49m\u001b[43m \u001b[49m\u001b[38;5;241;43m*\u001b[39;49m\u001b[38;5;241;43m*\u001b[39;49m\u001b[43mkwds\u001b[49m\u001b[43m)\u001b[49m\n\u001b[1;32m    834\u001b[0m new_tracing_count \u001b[38;5;241m=\u001b[39m \u001b[38;5;28mself\u001b[39m\u001b[38;5;241m.\u001b[39mexperimental_get_tracing_count()\n\u001b[1;32m    835\u001b[0m without_tracing \u001b[38;5;241m=\u001b[39m (tracing_count \u001b[38;5;241m==\u001b[39m new_tracing_count)\n",
      "File \u001b[0;32m/opt/homebrew/Caskroom/miniforge/base/envs/lattice/lib/python3.9/site-packages/tensorflow/python/eager/polymorphic_function/polymorphic_function.py:868\u001b[0m, in \u001b[0;36mFunction._call\u001b[0;34m(self, *args, **kwds)\u001b[0m\n\u001b[1;32m    865\u001b[0m   \u001b[38;5;28mself\u001b[39m\u001b[38;5;241m.\u001b[39m_lock\u001b[38;5;241m.\u001b[39mrelease()\n\u001b[1;32m    866\u001b[0m   \u001b[38;5;66;03m# In this case we have created variables on the first call, so we run the\u001b[39;00m\n\u001b[1;32m    867\u001b[0m   \u001b[38;5;66;03m# defunned version which is guaranteed to never create variables.\u001b[39;00m\n\u001b[0;32m--> 868\u001b[0m   \u001b[38;5;28;01mreturn\u001b[39;00m \u001b[43mtracing_compilation\u001b[49m\u001b[38;5;241;43m.\u001b[39;49m\u001b[43mcall_function\u001b[49m\u001b[43m(\u001b[49m\n\u001b[1;32m    869\u001b[0m \u001b[43m      \u001b[49m\u001b[43margs\u001b[49m\u001b[43m,\u001b[49m\u001b[43m \u001b[49m\u001b[43mkwds\u001b[49m\u001b[43m,\u001b[49m\u001b[43m \u001b[49m\u001b[38;5;28;43mself\u001b[39;49m\u001b[38;5;241;43m.\u001b[39;49m\u001b[43m_no_variable_creation_config\u001b[49m\n\u001b[1;32m    870\u001b[0m \u001b[43m  \u001b[49m\u001b[43m)\u001b[49m\n\u001b[1;32m    871\u001b[0m \u001b[38;5;28;01melif\u001b[39;00m \u001b[38;5;28mself\u001b[39m\u001b[38;5;241m.\u001b[39m_variable_creation_config \u001b[38;5;129;01mis\u001b[39;00m \u001b[38;5;129;01mnot\u001b[39;00m \u001b[38;5;28;01mNone\u001b[39;00m:\n\u001b[1;32m    872\u001b[0m   \u001b[38;5;66;03m# Release the lock early so that multiple threads can perform the call\u001b[39;00m\n\u001b[1;32m    873\u001b[0m   \u001b[38;5;66;03m# in parallel.\u001b[39;00m\n\u001b[1;32m    874\u001b[0m   \u001b[38;5;28mself\u001b[39m\u001b[38;5;241m.\u001b[39m_lock\u001b[38;5;241m.\u001b[39mrelease()\n",
      "File \u001b[0;32m/opt/homebrew/Caskroom/miniforge/base/envs/lattice/lib/python3.9/site-packages/tensorflow/python/eager/polymorphic_function/tracing_compilation.py:139\u001b[0m, in \u001b[0;36mcall_function\u001b[0;34m(args, kwargs, tracing_options)\u001b[0m\n\u001b[1;32m    137\u001b[0m bound_args \u001b[38;5;241m=\u001b[39m function\u001b[38;5;241m.\u001b[39mfunction_type\u001b[38;5;241m.\u001b[39mbind(\u001b[38;5;241m*\u001b[39margs, \u001b[38;5;241m*\u001b[39m\u001b[38;5;241m*\u001b[39mkwargs)\n\u001b[1;32m    138\u001b[0m flat_inputs \u001b[38;5;241m=\u001b[39m function\u001b[38;5;241m.\u001b[39mfunction_type\u001b[38;5;241m.\u001b[39munpack_inputs(bound_args)\n\u001b[0;32m--> 139\u001b[0m \u001b[38;5;28;01mreturn\u001b[39;00m \u001b[43mfunction\u001b[49m\u001b[38;5;241;43m.\u001b[39;49m\u001b[43m_call_flat\u001b[49m\u001b[43m(\u001b[49m\u001b[43m  \u001b[49m\u001b[38;5;66;43;03m# pylint: disable=protected-access\u001b[39;49;00m\n\u001b[1;32m    140\u001b[0m \u001b[43m    \u001b[49m\u001b[43mflat_inputs\u001b[49m\u001b[43m,\u001b[49m\u001b[43m \u001b[49m\u001b[43mcaptured_inputs\u001b[49m\u001b[38;5;241;43m=\u001b[39;49m\u001b[43mfunction\u001b[49m\u001b[38;5;241;43m.\u001b[39;49m\u001b[43mcaptured_inputs\u001b[49m\n\u001b[1;32m    141\u001b[0m \u001b[43m\u001b[49m\u001b[43m)\u001b[49m\n",
      "File \u001b[0;32m/opt/homebrew/Caskroom/miniforge/base/envs/lattice/lib/python3.9/site-packages/tensorflow/python/eager/polymorphic_function/concrete_function.py:1323\u001b[0m, in \u001b[0;36mConcreteFunction._call_flat\u001b[0;34m(self, tensor_inputs, captured_inputs)\u001b[0m\n\u001b[1;32m   1319\u001b[0m possible_gradient_type \u001b[38;5;241m=\u001b[39m gradients_util\u001b[38;5;241m.\u001b[39mPossibleTapeGradientTypes(args)\n\u001b[1;32m   1320\u001b[0m \u001b[38;5;28;01mif\u001b[39;00m (possible_gradient_type \u001b[38;5;241m==\u001b[39m gradients_util\u001b[38;5;241m.\u001b[39mPOSSIBLE_GRADIENT_TYPES_NONE\n\u001b[1;32m   1321\u001b[0m     \u001b[38;5;129;01mand\u001b[39;00m executing_eagerly):\n\u001b[1;32m   1322\u001b[0m   \u001b[38;5;66;03m# No tape is watching; skip to running the function.\u001b[39;00m\n\u001b[0;32m-> 1323\u001b[0m   \u001b[38;5;28;01mreturn\u001b[39;00m \u001b[38;5;28;43mself\u001b[39;49m\u001b[38;5;241;43m.\u001b[39;49m\u001b[43m_inference_function\u001b[49m\u001b[38;5;241;43m.\u001b[39;49m\u001b[43mcall_preflattened\u001b[49m\u001b[43m(\u001b[49m\u001b[43margs\u001b[49m\u001b[43m)\u001b[49m\n\u001b[1;32m   1324\u001b[0m forward_backward \u001b[38;5;241m=\u001b[39m \u001b[38;5;28mself\u001b[39m\u001b[38;5;241m.\u001b[39m_select_forward_and_backward_functions(\n\u001b[1;32m   1325\u001b[0m     args,\n\u001b[1;32m   1326\u001b[0m     possible_gradient_type,\n\u001b[1;32m   1327\u001b[0m     executing_eagerly)\n\u001b[1;32m   1328\u001b[0m forward_function, args_with_tangents \u001b[38;5;241m=\u001b[39m forward_backward\u001b[38;5;241m.\u001b[39mforward()\n",
      "File \u001b[0;32m/opt/homebrew/Caskroom/miniforge/base/envs/lattice/lib/python3.9/site-packages/tensorflow/python/eager/polymorphic_function/atomic_function.py:216\u001b[0m, in \u001b[0;36mAtomicFunction.call_preflattened\u001b[0;34m(self, args)\u001b[0m\n\u001b[1;32m    214\u001b[0m \u001b[38;5;28;01mdef\u001b[39;00m \u001b[38;5;21mcall_preflattened\u001b[39m(\u001b[38;5;28mself\u001b[39m, args: Sequence[core\u001b[38;5;241m.\u001b[39mTensor]) \u001b[38;5;241m-\u001b[39m\u001b[38;5;241m>\u001b[39m Any:\n\u001b[1;32m    215\u001b[0m \u001b[38;5;250m  \u001b[39m\u001b[38;5;124;03m\"\"\"Calls with flattened tensor inputs and returns the structured output.\"\"\"\u001b[39;00m\n\u001b[0;32m--> 216\u001b[0m   flat_outputs \u001b[38;5;241m=\u001b[39m \u001b[38;5;28;43mself\u001b[39;49m\u001b[38;5;241;43m.\u001b[39;49m\u001b[43mcall_flat\u001b[49m\u001b[43m(\u001b[49m\u001b[38;5;241;43m*\u001b[39;49m\u001b[43margs\u001b[49m\u001b[43m)\u001b[49m\n\u001b[1;32m    217\u001b[0m   \u001b[38;5;28;01mreturn\u001b[39;00m \u001b[38;5;28mself\u001b[39m\u001b[38;5;241m.\u001b[39mfunction_type\u001b[38;5;241m.\u001b[39mpack_output(flat_outputs)\n",
      "File \u001b[0;32m/opt/homebrew/Caskroom/miniforge/base/envs/lattice/lib/python3.9/site-packages/tensorflow/python/eager/polymorphic_function/atomic_function.py:251\u001b[0m, in \u001b[0;36mAtomicFunction.call_flat\u001b[0;34m(self, *args)\u001b[0m\n\u001b[1;32m    249\u001b[0m \u001b[38;5;28;01mwith\u001b[39;00m record\u001b[38;5;241m.\u001b[39mstop_recording():\n\u001b[1;32m    250\u001b[0m   \u001b[38;5;28;01mif\u001b[39;00m \u001b[38;5;28mself\u001b[39m\u001b[38;5;241m.\u001b[39m_bound_context\u001b[38;5;241m.\u001b[39mexecuting_eagerly():\n\u001b[0;32m--> 251\u001b[0m     outputs \u001b[38;5;241m=\u001b[39m \u001b[38;5;28;43mself\u001b[39;49m\u001b[38;5;241;43m.\u001b[39;49m\u001b[43m_bound_context\u001b[49m\u001b[38;5;241;43m.\u001b[39;49m\u001b[43mcall_function\u001b[49m\u001b[43m(\u001b[49m\n\u001b[1;32m    252\u001b[0m \u001b[43m        \u001b[49m\u001b[38;5;28;43mself\u001b[39;49m\u001b[38;5;241;43m.\u001b[39;49m\u001b[43mname\u001b[49m\u001b[43m,\u001b[49m\n\u001b[1;32m    253\u001b[0m \u001b[43m        \u001b[49m\u001b[38;5;28;43mlist\u001b[39;49m\u001b[43m(\u001b[49m\u001b[43margs\u001b[49m\u001b[43m)\u001b[49m\u001b[43m,\u001b[49m\n\u001b[1;32m    254\u001b[0m \u001b[43m        \u001b[49m\u001b[38;5;28;43mlen\u001b[39;49m\u001b[43m(\u001b[49m\u001b[38;5;28;43mself\u001b[39;49m\u001b[38;5;241;43m.\u001b[39;49m\u001b[43mfunction_type\u001b[49m\u001b[38;5;241;43m.\u001b[39;49m\u001b[43mflat_outputs\u001b[49m\u001b[43m)\u001b[49m\u001b[43m,\u001b[49m\n\u001b[1;32m    255\u001b[0m \u001b[43m    \u001b[49m\u001b[43m)\u001b[49m\n\u001b[1;32m    256\u001b[0m   \u001b[38;5;28;01melse\u001b[39;00m:\n\u001b[1;32m    257\u001b[0m     outputs \u001b[38;5;241m=\u001b[39m make_call_op_in_graph(\n\u001b[1;32m    258\u001b[0m         \u001b[38;5;28mself\u001b[39m,\n\u001b[1;32m    259\u001b[0m         \u001b[38;5;28mlist\u001b[39m(args),\n\u001b[1;32m    260\u001b[0m         \u001b[38;5;28mself\u001b[39m\u001b[38;5;241m.\u001b[39m_bound_context\u001b[38;5;241m.\u001b[39mfunction_call_options\u001b[38;5;241m.\u001b[39mas_attrs(),\n\u001b[1;32m    261\u001b[0m     )\n",
      "File \u001b[0;32m/opt/homebrew/Caskroom/miniforge/base/envs/lattice/lib/python3.9/site-packages/tensorflow/python/eager/context.py:1486\u001b[0m, in \u001b[0;36mContext.call_function\u001b[0;34m(self, name, tensor_inputs, num_outputs)\u001b[0m\n\u001b[1;32m   1484\u001b[0m cancellation_context \u001b[38;5;241m=\u001b[39m cancellation\u001b[38;5;241m.\u001b[39mcontext()\n\u001b[1;32m   1485\u001b[0m \u001b[38;5;28;01mif\u001b[39;00m cancellation_context \u001b[38;5;129;01mis\u001b[39;00m \u001b[38;5;28;01mNone\u001b[39;00m:\n\u001b[0;32m-> 1486\u001b[0m   outputs \u001b[38;5;241m=\u001b[39m \u001b[43mexecute\u001b[49m\u001b[38;5;241;43m.\u001b[39;49m\u001b[43mexecute\u001b[49m\u001b[43m(\u001b[49m\n\u001b[1;32m   1487\u001b[0m \u001b[43m      \u001b[49m\u001b[43mname\u001b[49m\u001b[38;5;241;43m.\u001b[39;49m\u001b[43mdecode\u001b[49m\u001b[43m(\u001b[49m\u001b[38;5;124;43m\"\u001b[39;49m\u001b[38;5;124;43mutf-8\u001b[39;49m\u001b[38;5;124;43m\"\u001b[39;49m\u001b[43m)\u001b[49m\u001b[43m,\u001b[49m\n\u001b[1;32m   1488\u001b[0m \u001b[43m      \u001b[49m\u001b[43mnum_outputs\u001b[49m\u001b[38;5;241;43m=\u001b[39;49m\u001b[43mnum_outputs\u001b[49m\u001b[43m,\u001b[49m\n\u001b[1;32m   1489\u001b[0m \u001b[43m      \u001b[49m\u001b[43minputs\u001b[49m\u001b[38;5;241;43m=\u001b[39;49m\u001b[43mtensor_inputs\u001b[49m\u001b[43m,\u001b[49m\n\u001b[1;32m   1490\u001b[0m \u001b[43m      \u001b[49m\u001b[43mattrs\u001b[49m\u001b[38;5;241;43m=\u001b[39;49m\u001b[43mattrs\u001b[49m\u001b[43m,\u001b[49m\n\u001b[1;32m   1491\u001b[0m \u001b[43m      \u001b[49m\u001b[43mctx\u001b[49m\u001b[38;5;241;43m=\u001b[39;49m\u001b[38;5;28;43mself\u001b[39;49m\u001b[43m,\u001b[49m\n\u001b[1;32m   1492\u001b[0m \u001b[43m  \u001b[49m\u001b[43m)\u001b[49m\n\u001b[1;32m   1493\u001b[0m \u001b[38;5;28;01melse\u001b[39;00m:\n\u001b[1;32m   1494\u001b[0m   outputs \u001b[38;5;241m=\u001b[39m execute\u001b[38;5;241m.\u001b[39mexecute_with_cancellation(\n\u001b[1;32m   1495\u001b[0m       name\u001b[38;5;241m.\u001b[39mdecode(\u001b[38;5;124m\"\u001b[39m\u001b[38;5;124mutf-8\u001b[39m\u001b[38;5;124m\"\u001b[39m),\n\u001b[1;32m   1496\u001b[0m       num_outputs\u001b[38;5;241m=\u001b[39mnum_outputs,\n\u001b[0;32m   (...)\u001b[0m\n\u001b[1;32m   1500\u001b[0m       cancellation_manager\u001b[38;5;241m=\u001b[39mcancellation_context,\n\u001b[1;32m   1501\u001b[0m   )\n",
      "File \u001b[0;32m/opt/homebrew/Caskroom/miniforge/base/envs/lattice/lib/python3.9/site-packages/tensorflow/python/eager/execute.py:53\u001b[0m, in \u001b[0;36mquick_execute\u001b[0;34m(op_name, num_outputs, inputs, attrs, ctx, name)\u001b[0m\n\u001b[1;32m     51\u001b[0m \u001b[38;5;28;01mtry\u001b[39;00m:\n\u001b[1;32m     52\u001b[0m   ctx\u001b[38;5;241m.\u001b[39mensure_initialized()\n\u001b[0;32m---> 53\u001b[0m   tensors \u001b[38;5;241m=\u001b[39m \u001b[43mpywrap_tfe\u001b[49m\u001b[38;5;241;43m.\u001b[39;49m\u001b[43mTFE_Py_Execute\u001b[49m\u001b[43m(\u001b[49m\u001b[43mctx\u001b[49m\u001b[38;5;241;43m.\u001b[39;49m\u001b[43m_handle\u001b[49m\u001b[43m,\u001b[49m\u001b[43m \u001b[49m\u001b[43mdevice_name\u001b[49m\u001b[43m,\u001b[49m\u001b[43m \u001b[49m\u001b[43mop_name\u001b[49m\u001b[43m,\u001b[49m\n\u001b[1;32m     54\u001b[0m \u001b[43m                                      \u001b[49m\u001b[43minputs\u001b[49m\u001b[43m,\u001b[49m\u001b[43m \u001b[49m\u001b[43mattrs\u001b[49m\u001b[43m,\u001b[49m\u001b[43m \u001b[49m\u001b[43mnum_outputs\u001b[49m\u001b[43m)\u001b[49m\n\u001b[1;32m     55\u001b[0m \u001b[38;5;28;01mexcept\u001b[39;00m core\u001b[38;5;241m.\u001b[39m_NotOkStatusException \u001b[38;5;28;01mas\u001b[39;00m e:\n\u001b[1;32m     56\u001b[0m   \u001b[38;5;28;01mif\u001b[39;00m name \u001b[38;5;129;01mis\u001b[39;00m \u001b[38;5;129;01mnot\u001b[39;00m \u001b[38;5;28;01mNone\u001b[39;00m:\n",
      "\u001b[0;31mKeyboardInterrupt\u001b[0m: "
     ]
    }
   ],
   "source": [
    "# PWL - Lattice numpy Version\n",
    "# PWL - Lattice model is an 1-input model\n",
    "\n",
    "# Query Phase:\n",
    "## calculate_query_cardinality_numpy\n",
    "\n",
    "# Generation Phase:\n",
    "## generate_from_batches / np.concatenate\n",
    "\n",
    "# no Plottings\n",
    "import warnings\n",
    "\n",
    "warnings.filterwarnings(\"ignore\")\n",
    "import argparse\n",
    "import itertools\n",
    "import os\n",
    "import sys\n",
    "\n",
    "import numpy as np\n",
    "import pandas as pd\n",
    "import tensorflow as tf\n",
    "import tensorflow_lattice as tfl\n",
    "from matplotlib import pyplot as plt\n",
    "from tqdm import tqdm\n",
    "\n",
    "from models import *\n",
    "from query_func import *\n",
    "\n",
    "parser = argparse.ArgumentParser()\n",
    "parser.add_argument(\"--dataset\", type=str, default=\"wine2\", help=\"Dataset.\")\n",
    "parser.add_argument(\"--query-size\", type=int, default=100000, help=\"query size\")\n",
    "parser.add_argument(\"--min-conditions\", type=int, default=1, help=\"min num of conditions\")\n",
    "parser.add_argument(\"--max-conditions\", type=int, default=2, help=\"max num of conditions\")\n",
    "parser.add_argument(\"--epochs\", type=int, default=3000, help=\"Number of epochs to train for.\")\n",
    "parser.add_argument(\"--bs\", type=int, default=1000, help=\"Batch size.\")\n",
    "parser.add_argument(\"--loss\", type=str, default=\"MSE\", help=\"Loss.\")\n",
    "parser.add_argument(\"--lattice-size\", type=int, default=2, help=\"Lattice size.\")\n",
    "parser.add_argument(\"--lr\", type=float, default=1e-2, help=\"learning rate\")\n",
    "parser.add_argument(\"--seed\", type=int, default=42, help=\"Random seed\")\n",
    "\n",
    "try:\n",
    "    args = parser.parse_args()\n",
    "except:\n",
    "    # args = parser.parse_args([])\n",
    "    args, unknown = parser.parse_known_args()\n",
    "\n",
    "\n",
    "def make_directory(directory):\n",
    "    if not os.path.exists(directory):\n",
    "        os.makedirs(directory)\n",
    "\n",
    "\n",
    "OPS = {\">\": np.greater, \"<\": np.less, \">=\": np.greater_equal, \"<=\": np.less_equal, \"=\": np.equal}\n",
    "\n",
    "\n",
    "FilePath = (\n",
    "    f\"{args.dataset}_{args.query_size}_{args.min_conditions}_{args.max_conditions}_{args.loss}\"\n",
    ")\n",
    "resultsPath = f\"results/{FilePath}\"\n",
    "modelPath = f\"saved_models/{FilePath}\"\n",
    "make_directory(resultsPath)\n",
    "make_directory(modelPath)\n",
    "\n",
    "\n",
    "print(\"\\nBegin Loading Data ...\")\n",
    "print(f\"{args.dataset}.csv\")\n",
    "table = np.loadtxt(f\"datasets/{args.dataset}.csv\", delimiter=\",\")\n",
    "np.savetxt(f\"{resultsPath}/original_table.csv\", table, delimiter=\",\")\n",
    "print(\"Done.\\n\")\n",
    "\n",
    "\n",
    "print(\"Begin Generating Queries Set ...\")\n",
    "table_size = table.shape\n",
    "rng = np.random.RandomState(args.seed)\n",
    "query_set = [\n",
    "    generate_random_query(table, args.min_conditions, args.max_conditions, rng)\n",
    "    for _ in tqdm(range(args.query_size))\n",
    "]\n",
    "print(\"Done.\\n\")\n",
    "\n",
    "\n",
    "print(\"Begin Intervalization ...\")\n",
    "unique_intervals = column_intervalization(query_set, table_size)\n",
    "unique_intervals\n",
    "column_interval_number = count_column_unique_interval(unique_intervals)\n",
    "print(f\"{column_interval_number=}\")\n",
    "print(\"Done.\\n\")\n",
    "\n",
    "\n",
    "print(\"Begin Building Train set and Model ...\")\n",
    "train_X, train_Y = build_train_set_1_input(query_set, unique_intervals)\n",
    "# PWL改成三次样条\n",
    "m = PWLLattice(\n",
    "    modelPath,\n",
    "    table_size,\n",
    "    unique_intervals,\n",
    "    pwl_keypoints=None,\n",
    "    lattice_size=args.lattice_size,\n",
    ")\n",
    "print(\"Done.\\n\")\n",
    "\n",
    "\n",
    "m.fit(train_X, train_Y, lr=args.lr, bs=args.bs, epochs=args.epochs, loss=args.loss)\n",
    "m.load()\n",
    "\n",
    "\n",
    "dataNew = m.generate_by_row(unique_intervals, batch_size=10000)\n",
    "np.savetxt(f\"{resultsPath}/generated_table.csv\", dataNew, delimiter=\",\")\n",
    "\n",
    "\n",
    "Q_error = calculate_Q_error(dataNew, query_set, table_size)\n",
    "print_Q_error(Q_error, args, resultsPath)"
   ]
  },
  {
   "cell_type": "code",
   "execution_count": null,
   "id": "7388f627",
   "metadata": {},
   "outputs": [],
   "source": []
  },
  {
   "cell_type": "code",
   "execution_count": null,
   "id": "74cdce2d",
   "metadata": {},
   "outputs": [],
   "source": []
  },
  {
   "cell_type": "code",
   "execution_count": null,
   "id": "fa85d154",
   "metadata": {},
   "outputs": [],
   "source": []
  },
  {
   "cell_type": "code",
   "execution_count": null,
   "id": "23ef83fb",
   "metadata": {},
   "outputs": [],
   "source": []
  },
  {
   "cell_type": "code",
   "execution_count": null,
   "id": "67c639b2",
   "metadata": {},
   "outputs": [],
   "source": []
  },
  {
   "cell_type": "code",
   "execution_count": null,
   "id": "3425c523",
   "metadata": {},
   "outputs": [],
   "source": []
  },
  {
   "cell_type": "code",
   "execution_count": null,
   "id": "90394430",
   "metadata": {},
   "outputs": [],
   "source": []
  },
  {
   "cell_type": "markdown",
   "id": "b341c8c2",
   "metadata": {},
   "source": [
    "### test"
   ]
  },
  {
   "cell_type": "code",
   "execution_count": null,
   "id": "a02eba19",
   "metadata": {},
   "outputs": [],
   "source": [
    "dataNew.shape, table_size"
   ]
  },
  {
   "cell_type": "code",
   "execution_count": null,
   "id": "b84154e1",
   "metadata": {},
   "outputs": [],
   "source": [
    "fig, axs = plt.subplots(1, 2, figsize=(12, 6))\n",
    "axs[0].plot(dataNew[:, 0], dataNew[:, 1], \"o\")\n",
    "axs[0].set_title(\"Generated Table\")\n",
    "axs[0].set_xlabel(\"X-axis\")\n",
    "axs[0].set_ylabel(\"Y-axis\")\n",
    "\n",
    "axs[1].plot(table[:, 0], table[:, 1], \"o\")\n",
    "axs[1].set_title(\"Original Table\")\n",
    "axs[1].set_xlabel(\"X-axis\")\n",
    "axs[1].set_ylabel(\"Y-axis\")\n",
    "plt.tight_layout()\n",
    "plt.show()"
   ]
  },
  {
   "cell_type": "code",
   "execution_count": null,
   "id": "1e04832b",
   "metadata": {},
   "outputs": [],
   "source": [
    "break"
   ]
  },
  {
   "cell_type": "code",
   "execution_count": null,
   "id": "17c90d0d",
   "metadata": {},
   "outputs": [],
   "source": []
  },
  {
   "cell_type": "code",
   "execution_count": null,
   "metadata": {},
   "outputs": [],
   "source": []
  },
  {
   "cell_type": "markdown",
   "id": "8f83a421",
   "metadata": {},
   "source": [
    "### 测试简单分布中，使用generate是否能得到正确的分布"
   ]
  },
  {
   "cell_type": "code",
   "execution_count": null,
   "id": "0aebd6c5",
   "metadata": {},
   "outputs": [],
   "source": [
    "data = np.array([[2, 9], [5, 4], [3, 1], [9, 3], [2, 9], [2, 9], [3, 10], [9, 1], [10, 1], [10, 1]])\n",
    "values = [range(1, 11), range(1, 11)]\n",
    "mesh = np.meshgrid(*values)  # 所有unique interval 的笛卡尔积网格\n",
    "grid = np.array(mesh).T.reshape(-1, len(values)).astype(np.float32)\n",
    "results = []\n",
    "df = pd.DataFrame(data, columns=[\"x\", \"y\"])\n",
    "for x in range(1, 11):\n",
    "    for y in range(1, 11):\n",
    "        count = df[(df[\"x\"] <= x) & (df[\"y\"] <= y)].shape[0]\n",
    "        results.append(count)\n",
    "pred = np.array(results).reshape(-1, 1) / df.shape[0]"
   ]
  },
  {
   "cell_type": "code",
   "execution_count": null,
   "id": "61441fdf",
   "metadata": {},
   "outputs": [],
   "source": [
    "n_row = df.shape[0]\n",
    "n_column = df.shape[1]"
   ]
  },
  {
   "cell_type": "code",
   "execution_count": null,
   "id": "a9d6f5ad",
   "metadata": {},
   "outputs": [],
   "source": [
    "def generate_5(grid, pred=None):\n",
    "    # numpy / calculate_query_cardinality_numpy / np.concatenate\n",
    "    # generate by row, one query may generate several rows\n",
    "    print(\"Begin Generating Table ...\")\n",
    "    count = 0\n",
    "    ArrayNew = None\n",
    "    ops = [\"<=\"] * n_column\n",
    "    pred = (pred * n_row).astype(int)  # Case 1: change 0.8 to 0, 1.8 to 1\n",
    "    for i in tqdm(range(grid.shape[0])):\n",
    "        vals = grid[i]\n",
    "        card = pred[i, 0] - calculate_query_cardinality(ArrayNew, ops, vals)\n",
    "        if card >= 1:\n",
    "            array3 = np.repeat(vals, card).reshape(self.n_column, card).T\n",
    "            ArrayNew = array3 if ArrayNew is None else np.concatenate((ArrayNew, array3), axis=0)\n",
    "            count += card\n",
    "            if count > n_row:\n",
    "                print(\n",
    "                    f\"Reached table max row length({n_row}) in {i}-th row of grid with grid value of {vals}, stop generation.\"\n",
    "                )\n",
    "                break\n",
    "    else:\n",
    "        print(\"Done.\\n\")\n",
    "        # if count < n_row:\n",
    "        #     print(\n",
    "        #         f\"Generated table row length({count}) is less than the original table row length({n_row}).\"\n",
    "        #     )\n",
    "        #     # 如果不足,补系统最大值吗？\n",
    "        return ArrayNew\n",
    "    return ArrayNew[:n_row, :]"
   ]
  },
  {
   "cell_type": "code",
   "execution_count": null,
   "id": "0fc0df8e",
   "metadata": {},
   "outputs": [],
   "source": [
    "dataNew = generate_5(grid, pred)\n",
    "dataNew"
   ]
  },
  {
   "cell_type": "code",
   "execution_count": null,
   "id": "1df79022",
   "metadata": {},
   "outputs": [],
   "source": [
    "dataNew.plot(kind=\"scatter\", x=\"col_0\", y=\"col_1\", alpha=0.5)"
   ]
  },
  {
   "cell_type": "code",
   "execution_count": null,
   "id": "6d9915b5",
   "metadata": {},
   "outputs": [],
   "source": []
  },
  {
   "cell_type": "code",
   "execution_count": null,
   "metadata": {},
   "outputs": [],
   "source": []
  },
  {
   "cell_type": "markdown",
   "id": "a1135c42",
   "metadata": {},
   "source": [
    "### 做不做 unique Train set 有什么区别？"
   ]
  },
  {
   "cell_type": "code",
   "execution_count": null,
   "id": "eb9071ad",
   "metadata": {},
   "outputs": [],
   "source": []
  },
  {
   "cell_type": "markdown",
   "id": "3aeafb7c",
   "metadata": {},
   "source": [
    "#### 为什么 kl散度是负数，修改 epoch为一个很小的值，看看是否会出现负数"
   ]
  },
  {
   "cell_type": "code",
   "execution_count": null,
   "id": "8790f817",
   "metadata": {},
   "outputs": [],
   "source": [
    "# 可能与网络的初始化输出值有关？\n",
    "# 使用 kl散度是否时正确的，如何使用神经网络进行最大似然估计，似然与kl散度之间的关系是什么？"
   ]
  },
  {
   "cell_type": "code",
   "execution_count": null,
   "id": "e6980010",
   "metadata": {},
   "outputs": [],
   "source": [
    "grid_pred"
   ]
  },
  {
   "cell_type": "code",
   "execution_count": null,
   "id": "0b989136",
   "metadata": {},
   "outputs": [],
   "source": [
    "train_X"
   ]
  },
  {
   "cell_type": "code",
   "execution_count": null,
   "id": "77e5d7ef",
   "metadata": {},
   "outputs": [],
   "source": [
    "train_X.shape"
   ]
  },
  {
   "cell_type": "code",
   "execution_count": null,
   "id": "a808cb5b",
   "metadata": {},
   "outputs": [],
   "source": [
    "train_Y.shape"
   ]
  },
  {
   "cell_type": "code",
   "execution_count": null,
   "id": "9053765f",
   "metadata": {},
   "outputs": [],
   "source": [
    "m.predict(train_X)"
   ]
  },
  {
   "cell_type": "code",
   "execution_count": null,
   "id": "af34fe5e",
   "metadata": {},
   "outputs": [],
   "source": []
  },
  {
   "cell_type": "code",
   "execution_count": null,
   "id": "37477b65",
   "metadata": {},
   "outputs": [],
   "source": []
  },
  {
   "cell_type": "markdown",
   "id": "e6d7c2dd",
   "metadata": {},
   "source": [
    "# 画图"
   ]
  },
  {
   "cell_type": "code",
   "execution_count": null,
   "id": "4addf73c",
   "metadata": {},
   "outputs": [],
   "source": [
    "# 把plot 整合到 lattice里，或者单独写几个函数"
   ]
  },
  {
   "cell_type": "code",
   "execution_count": null,
   "id": "6f0d7c58",
   "metadata": {},
   "outputs": [],
   "source": [
    "grid_pred = m.predict(grid)"
   ]
  },
  {
   "cell_type": "code",
   "execution_count": null,
   "id": "4bba1121",
   "metadata": {},
   "outputs": [],
   "source": [
    "plt.figure(figsize=(20, 8))\n",
    "plt.plot(grid_pred, \"bo\")"
   ]
  },
  {
   "cell_type": "code",
   "execution_count": null,
   "id": "1aed0fd4",
   "metadata": {},
   "outputs": [],
   "source": [
    "fig1 = plt.figure(figsize=(15, 8))\n",
    "ax1 = plt.axes(projection=\"3d\")\n",
    "\n",
    "# xx = unique_intervals[1]\n",
    "# yy = unique_intervals[0]\n",
    "# X, Y = np.meshgrid(xx, yy)\n",
    "\n",
    "X = grid[:, 1].reshape(column_interval_number[0], column_interval_number[1])  # 这样也可以\n",
    "Y = grid[:, 0].reshape(column_interval_number[0], column_interval_number[1])\n",
    "Z = grid_pred.reshape(column_interval_number[0], column_interval_number[1])\n",
    "\n",
    "ax1.plot_surface(X, Y, Z, cmap=\"viridis\")\n",
    "plt.show()"
   ]
  },
  {
   "cell_type": "code",
   "execution_count": null,
   "id": "3b1929bc",
   "metadata": {},
   "outputs": [],
   "source": [
    "fig2 = plt.figure(figsize=(10, 8))\n",
    "ax2 = fig2.add_subplot(111)\n",
    "cs = ax2.contourf(X, Y, Z, cmap=\"viridis\")\n",
    "\n",
    "# Alternatively, you can manually set the levels\n",
    "# and the norm:\n",
    "# lev_exp = np.arange(np.floor(np.log10(z.min())-1),\n",
    "#                    np.ceil(np.log10(z.max())+1))\n",
    "# levs = np.power(10, lev_exp)\n",
    "# cs = ax.contourf(X, Y, z, levs, norm=colors.LogNorm())    # 这个是啥\n",
    "\n",
    "cbar = fig2.colorbar(cs)  # 让colorbar细粒度更高一点\n",
    "plt.show()"
   ]
  },
  {
   "cell_type": "code",
   "execution_count": null,
   "id": "082a9d36",
   "metadata": {},
   "outputs": [],
   "source": [
    "# 画一下原生的图做对比，是否需要更光滑\n",
    "# 变得光滑：\n",
    "# 1. 数据预处理，缩放，标准化\n",
    "# 2. 凸函数\n",
    "# 3. lattice正则器"
   ]
  },
  {
   "cell_type": "code",
   "execution_count": null,
   "id": "21e88c39",
   "metadata": {},
   "outputs": [],
   "source": [
    "# query 对网格的覆盖率 散点图\n",
    "fig4 = plt.figure(figsize=(10, 10))\n",
    "xtick = unique_intervals[0]\n",
    "ytick = unique_intervals[1]\n",
    "plt.scatter(train_X[:, 0], train_X[:, 1], c=\"b\")\n",
    "plt.vlines(xtick, min(ytick), max(ytick), colors=\"green\")\n",
    "plt.hlines(ytick, min(xtick), max(xtick), colors=\"green\")\n",
    "plt.show()"
   ]
  },
  {
   "cell_type": "markdown",
   "id": "0a59574b",
   "metadata": {},
   "source": [
    "# Lattice 其它尝试"
   ]
  },
  {
   "cell_type": "code",
   "execution_count": null,
   "id": "68211d8b",
   "metadata": {},
   "outputs": [],
   "source": [
    "# 对比，对query做unique 和 不做unique的误差"
   ]
  },
  {
   "cell_type": "code",
   "execution_count": null,
   "id": "227a4058",
   "metadata": {},
   "outputs": [],
   "source": [
    "# 对比传入table unique value 和 只传入 unique_intervals的模型优化效果"
   ]
  },
  {
   "cell_type": "code",
   "execution_count": null,
   "id": "4529dfa9",
   "metadata": {},
   "outputs": [],
   "source": [
    "# table unique value\n",
    "data = table.data.to_numpy()\n",
    "unique_vals = []\n",
    "for i in range(data.shape[1]):\n",
    "    unique_vals.append(np.unique(data[:, i]))"
   ]
  },
  {
   "cell_type": "code",
   "execution_count": null,
   "id": "9a4a2600",
   "metadata": {},
   "outputs": [],
   "source": [
    "unique_vals"
   ]
  },
  {
   "cell_type": "code",
   "execution_count": null,
   "id": "fb031ba8",
   "metadata": {},
   "outputs": [],
   "source": []
  },
  {
   "cell_type": "code",
   "execution_count": null,
   "id": "7091da7e",
   "metadata": {},
   "outputs": [],
   "source": []
  }
 ],
 "metadata": {
  "kernelspec": {
   "display_name": "Python 3 (ipykernel)",
   "language": "python",
   "name": "python3"
  },
  "language_info": {
   "codemirror_mode": {
    "name": "ipython",
    "version": 3
   },
   "file_extension": ".py",
   "mimetype": "text/x-python",
   "name": "python",
   "nbconvert_exporter": "python",
   "pygments_lexer": "ipython3",
   "version": "3.9.18"
  }
 },
 "nbformat": 4,
 "nbformat_minor": 5
}
